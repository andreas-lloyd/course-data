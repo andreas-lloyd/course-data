{
 "cells": [
  {
   "cell_type": "markdown",
   "metadata": {},
   "source": [
    "# Downloading data\n",
    "In this notebook we download the Twitter data we want to use in our prediction tasks. We use the `twint` library to get around the typical Twitter rate limits, but we won't be abusing anything.\n",
    "\n",
    "The process goes:\n",
    "\n",
    "1. Pick some keywords that we want Tweets about\n",
    "2. The script searches for Tweets on those topics from a certain time period\n",
    "3. From these Tweets, the script then grabs the information on these accounts"
   ]
  },
  {
   "cell_type": "markdown",
   "metadata": {},
   "source": [
    "Maybe we should do something like finding tweets that have a certain amount of attention - grab those users - and then scrape their tweets in X number of days - that way we don't have that much leakage"
   ]
  },
  {
   "cell_type": "code",
   "execution_count": 1,
   "metadata": {},
   "outputs": [],
   "source": [
    "from datetime import datetime\n",
    "import time\n",
    "\n",
    "import pandas as pd\n",
    "import twint\n",
    "import nest_asyncio\n",
    "nest_asyncio.apply()\n",
    "\n",
    "\n",
    "users_downloaded_at = '2021-08-11'\n",
    "download_tweets_from = '2021-08-12'\n",
    "download_tweets_to = '2021-08-19'"
   ]
  },
  {
   "cell_type": "code",
   "execution_count": 2,
   "metadata": {},
   "outputs": [],
   "source": [
    "usernames = pd.read_csv('handles.txt', header=0, names=['username'])"
   ]
  },
  {
   "cell_type": "code",
   "execution_count": 3,
   "metadata": {},
   "outputs": [
    {
     "name": "stdout",
     "output_type": "stream",
     "text": [
      "Done with 0\n"
     ]
    },
    {
     "name": "stderr",
     "output_type": "stream",
     "text": [
      "CRITICAL:root:twint.get:User:'user'\n",
      "CRITICAL:root:twint.get:User:'user'\n",
      "CRITICAL:root:twint.get:User:'user'\n"
     ]
    },
    {
     "name": "stdout",
     "output_type": "stream",
     "text": [
      "Done with 100\n"
     ]
    },
    {
     "name": "stderr",
     "output_type": "stream",
     "text": [
      "CRITICAL:root:twint.get:User:'user'\n",
      "CRITICAL:root:twint.get:User:'user'\n"
     ]
    },
    {
     "name": "stdout",
     "output_type": "stream",
     "text": [
      "Done with 200\n"
     ]
    },
    {
     "name": "stderr",
     "output_type": "stream",
     "text": [
      "CRITICAL:root:twint.get:User:'user'\n"
     ]
    },
    {
     "name": "stdout",
     "output_type": "stream",
     "text": [
      "{'id': 'VXNlcjo0MTUwMDM5Mjg2', 'rest_id': '4150039286', 'legacy_extended_profile': {}, 'is_profile_translatable': False}\n",
      "Done with 300\n"
     ]
    },
    {
     "name": "stderr",
     "output_type": "stream",
     "text": [
      "CRITICAL:root:twint.get:User:'user'\n"
     ]
    },
    {
     "name": "stdout",
     "output_type": "stream",
     "text": [
      "{'id': 'VXNlcjo3MDcwNzc0NDA=', 'rest_id': '707077440', 'legacy_extended_profile': {}, 'is_profile_translatable': False}\n",
      "{'id': 'VXNlcjoxMzY4ODM1ODg4ODkzOTg4ODY0', 'rest_id': '1368835888893988864', 'legacy_extended_profile': {}, 'is_profile_translatable': False}\n",
      "{'id': 'VXNlcjoxMzY4ODM1MDE3ODE2Njk0Nzg2', 'rest_id': '1368835017816694786', 'legacy_extended_profile': {}, 'is_profile_translatable': False}\n"
     ]
    },
    {
     "name": "stderr",
     "output_type": "stream",
     "text": [
      "CRITICAL:root:twint.get:User:'user'\n"
     ]
    },
    {
     "name": "stdout",
     "output_type": "stream",
     "text": [
      "Done with 400\n"
     ]
    },
    {
     "name": "stderr",
     "output_type": "stream",
     "text": [
      "CRITICAL:root:twint.get:User:'user'\n",
      "CRITICAL:root:twint.get:User:'user'\n"
     ]
    },
    {
     "name": "stdout",
     "output_type": "stream",
     "text": [
      "{'id': 'VXNlcjoxMjk0MDU4OTAxNjg4NzIxNDEz', 'rest_id': '1294058901688721413', 'legacy_extended_profile': {}, 'is_profile_translatable': False}\n"
     ]
    },
    {
     "name": "stderr",
     "output_type": "stream",
     "text": [
      "CRITICAL:root:twint.get:User:'user'\n"
     ]
    },
    {
     "name": "stdout",
     "output_type": "stream",
     "text": [
      "Done with 500\n"
     ]
    },
    {
     "name": "stderr",
     "output_type": "stream",
     "text": [
      "CRITICAL:root:twint.get:User:'user'\n",
      "CRITICAL:root:twint.get:User:'user'\n"
     ]
    },
    {
     "name": "stdout",
     "output_type": "stream",
     "text": [
      "Done with 600\n"
     ]
    },
    {
     "name": "stderr",
     "output_type": "stream",
     "text": [
      "CRITICAL:root:twint.get:User:'user'\n"
     ]
    },
    {
     "name": "stdout",
     "output_type": "stream",
     "text": [
      "{'id': 'VXNlcjo2MTAwMzgwNA==', 'rest_id': '61003804', 'legacy_extended_profile': {'birthdate': {'day': 14, 'month': 7, 'visibility': 'Public', 'year_visibility': 'Self'}}, 'is_profile_translatable': False}\n",
      "Done with 700\n",
      "{'id': 'VXNlcjoxNzMwMTQ0MDI0', 'rest_id': '1730144024', 'legacy_extended_profile': {}, 'is_profile_translatable': False}\n",
      "{'id': 'VXNlcjo5NjA2MDQ3MTM2NjEyMjI5MTM=', 'rest_id': '960604713661222913', 'legacy_extended_profile': {}, 'is_profile_translatable': False}\n"
     ]
    },
    {
     "name": "stderr",
     "output_type": "stream",
     "text": [
      "CRITICAL:root:twint.get:User:'user'\n",
      "CRITICAL:root:twint.get:User:'user'\n",
      "CRITICAL:root:twint.get:User:'user'\n",
      "CRITICAL:root:twint.get:User:'user'\n",
      "CRITICAL:root:twint.get:User:'user'\n",
      "CRITICAL:root:twint.get:User:'user'\n"
     ]
    },
    {
     "name": "stdout",
     "output_type": "stream",
     "text": [
      "Done with 800\n",
      "{'id': 'VXNlcjoyMzY3Mzg2MDA=', 'rest_id': '236738600', 'legacy_extended_profile': {'birthdate': {'day': 15, 'month': 7, 'year': 1990, 'visibility': 'Public', 'year_visibility': 'Public'}}, 'is_profile_translatable': False}\n"
     ]
    },
    {
     "name": "stderr",
     "output_type": "stream",
     "text": [
      "CRITICAL:root:twint.get:User:'user'\n",
      "CRITICAL:root:twint.get:User:'user'\n"
     ]
    },
    {
     "name": "stdout",
     "output_type": "stream",
     "text": [
      "Done with 900\n"
     ]
    },
    {
     "name": "stderr",
     "output_type": "stream",
     "text": [
      "CRITICAL:root:twint.get:User:'user'\n"
     ]
    },
    {
     "name": "stdout",
     "output_type": "stream",
     "text": [
      "{'id': 'VXNlcjo0MTMxNTc4MDU3', 'rest_id': '4131578057', 'legacy_extended_profile': {}, 'is_profile_translatable': False}\n"
     ]
    },
    {
     "name": "stderr",
     "output_type": "stream",
     "text": [
      "CRITICAL:root:twint.get:User:'user'\n",
      "CRITICAL:root:twint.get:User:'user'\n",
      "CRITICAL:root:twint.get:User:'user'\n",
      "CRITICAL:root:twint.get:User:'user'\n"
     ]
    },
    {
     "name": "stdout",
     "output_type": "stream",
     "text": [
      "{'id': 'VXNlcjoyOTkwMjYwOTM5', 'rest_id': '2990260939', 'legacy_extended_profile': {}, 'is_profile_translatable': False}\n",
      "Done with 1000\n",
      "{'id': 'VXNlcjoxMjU0MTAzOTkzMTk1OTEzMjE2', 'rest_id': '1254103993195913216', 'legacy_extended_profile': {}, 'is_profile_translatable': False}\n"
     ]
    },
    {
     "name": "stderr",
     "output_type": "stream",
     "text": [
      "CRITICAL:root:twint.get:User:'user'\n",
      "CRITICAL:root:twint.get:User:'user'\n"
     ]
    },
    {
     "name": "stdout",
     "output_type": "stream",
     "text": [
      "{'id': 'VXNlcjo5MDQyNzYzOTc5OTYyMDQwMzQ=', 'rest_id': '904276397996204034', 'legacy_extended_profile': {}, 'is_profile_translatable': False}\n",
      "Done with 1100\n",
      "{'id': 'VXNlcjo3MjU2NjUyNDgyODAyMzYwMzI=', 'rest_id': '725665248280236032', 'legacy_extended_profile': {}, 'is_profile_translatable': False}\n",
      "{'id': 'VXNlcjozNzIzNTUxNjY=', 'rest_id': '372355166', 'legacy_extended_profile': {}, 'is_profile_translatable': False}\n"
     ]
    },
    {
     "name": "stderr",
     "output_type": "stream",
     "text": [
      "CRITICAL:root:twint.get:User:'user'\n"
     ]
    },
    {
     "name": "stdout",
     "output_type": "stream",
     "text": [
      "Done with 1200\n",
      "{'id': 'VXNlcjoxNTcxNjAzOQ==', 'rest_id': '15716039', 'legacy_extended_profile': {}, 'is_profile_translatable': False}\n"
     ]
    },
    {
     "name": "stderr",
     "output_type": "stream",
     "text": [
      "CRITICAL:root:twint.get:User:'user'\n"
     ]
    },
    {
     "name": "stdout",
     "output_type": "stream",
     "text": [
      "{'id': 'VXNlcjoyNTA3Mzg3Nw==', 'rest_id': '25073877', 'legacy_extended_profile': {}, 'is_profile_translatable': False}\n",
      "['SenKamalaHarris', 'SenBennetCO', 'SenateMajLdr', 'EmWatson', 'aamir_khan', 'kelly_clarkson', 'ollyofficial', 'officialjaden', 'DrBassemYoussef', 'Ahlam_Alshamsi', 'msleamichele', 'Jenna_Marbles', 'scooterbraun', 'samsmithworld', 'laliespos', 'missA_suzy', 'MPOFFICIAL', 'S_C_', 'RealTracyMorgan', 'rickyrozay', 'mark_wahlberg', 'PointlessBlog', 'Elovera22', 'carocruzosorio', 'fucktyler', 'JackJackJohnson', 'MannyPacquiaoTR', 'S1dharthM', 'superstarrajini', 'msnbc_breaking', 'cnnlive']\n"
     ]
    }
   ],
   "source": [
    "results = []\n",
    "unfound_accounts = []\n",
    "not_worked = []\n",
    "for i, username in enumerate(usernames.username.unique()):\n",
    "    if i % 100 == 0:\n",
    "        print(f'Done with {i}')\n",
    "    \n",
    "    c = twint.Config()\n",
    "    c.Username = username\n",
    "    c.Pandas = True\n",
    "    c.Hide_output = True\n",
    "    \n",
    "    try:\n",
    "        twint.run.Lookup(c)\n",
    "    \n",
    "        results.append(twint.storage.panda.User_df)\n",
    "    except ValueError as e:\n",
    "        if 'Cannot find twitter account' in str(e):\n",
    "            unfound_accounts.append(username)\n",
    "        else:\n",
    "            raise\n",
    "    except RefreshTokenException:\n",
    "        not_worked.append(username)\n",
    "        time.sleep(60)\n",
    "        \n",
    "        try:\n",
    "            twint.run.Lookup(c)\n",
    "            results.append(twint.storage.panda.User_df)\n",
    "        except:\n",
    "            print('Getting refresh errors!')\n",
    "\n",
    "results = pd.concat(results)\n",
    "results.to_csv(f'{datetime.today().strftime(\"%Y-%m-%d\")}-handles-data.csv', index=False)\n",
    "\n",
    "print(unfound_accounts)\n",
    "print(not_worked)"
   ]
  },
  {
   "cell_type": "code",
   "execution_count": null,
   "metadata": {},
   "outputs": [],
   "source": [
    "user_details = pd.read_csv(f'{users_downloaded_at}-handles-data.csv')"
   ]
  },
  {
   "cell_type": "code",
   "execution_count": null,
   "metadata": {},
   "outputs": [],
   "source": [
    "results = []\n",
    "for i, username in enumerate(user_details.username.unique()):\n",
    "    if i % 100 == 0:\n",
    "        print(f'Done with {i}')\n",
    "    \n",
    "    c = twint.Config()\n",
    "    c.Username = username\n",
    "    c.Since = download_tweets_from\n",
    "    c.Until = download_tweets_to\n",
    "    c.Pandas = True\n",
    "    c.Hide_output = True\n",
    "    \n",
    "    twint.run.Profile(c)\n",
    "    \n",
    "    results.append(twint.storage.panda.Tweets_df)\n",
    "    \n",
    "results = pd.concat(results)\n",
    "results.to_csv(f'{users_downloaded_at}-{download_tweets_from}-{download_tweets_to}-tweets-data.csv', index=False)"
   ]
  }
 ],
 "metadata": {
  "kernelspec": {
   "display_name": "Python 3",
   "language": "python",
   "name": "python3"
  },
  "language_info": {
   "codemirror_mode": {
    "name": "ipython",
    "version": 3
   },
   "file_extension": ".py",
   "mimetype": "text/x-python",
   "name": "python",
   "nbconvert_exporter": "python",
   "pygments_lexer": "ipython3",
   "version": "3.6.10"
  }
 },
 "nbformat": 4,
 "nbformat_minor": 4
}
