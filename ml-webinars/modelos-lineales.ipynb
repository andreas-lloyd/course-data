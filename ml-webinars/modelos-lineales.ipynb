{
 "cells": [
  {
   "cell_type": "markdown",
   "metadata": {},
   "source": [
    "# Clasificación con modelos lineales en Python\n",
    "En este taller vamos a tener una vista general de como hacer una clasificación lineal en Python, principalmente utilizando las librerias de Pandas, scitkit-learn y statsmodels. El objetivo es entender el proceso tipico sin profundizar demasiado en los distintos pasos."
   ]
  },
  {
   "cell_type": "code",
   "execution_count": 1,
   "metadata": {},
   "outputs": [],
   "source": [
    "import statsmodels.api as sm\n",
    "import pandas as pd \n",
    "import plotnine as pn\n",
    "import sklearn\n",
    "import numpy as np\n",
    "\n",
    "\n",
    "data_location = 'tweet_and_user_data.csv'\n",
    "\n",
    "pd.options.display.max_columns = 500"
   ]
  },
  {
   "cell_type": "markdown",
   "metadata": {},
   "source": [
    "## Los datos\n",
    "Echamos un vistazo rapido a los datos que vamos a utilizar"
   ]
  },
  {
   "cell_type": "code",
   "execution_count": 2,
   "metadata": {},
   "outputs": [
    {
     "name": "stderr",
     "output_type": "stream",
     "text": [
      "/home/andreas/anaconda3/lib/python3.6/site-packages/IPython/core/interactiveshell.py:3063: DtypeWarning: Columns (5) have mixed types.Specify dtype option on import or set low_memory=False.\n"
     ]
    }
   ],
   "source": [
    "tweet_data = pd.read_csv(data_location)"
   ]
  },
  {
   "cell_type": "code",
   "execution_count": 3,
   "metadata": {},
   "outputs": [
    {
     "data": {
      "text/plain": [
       "(40581, 56)"
      ]
     },
     "execution_count": 3,
     "metadata": {},
     "output_type": "execute_result"
    }
   ],
   "source": [
    "tweet_data.shape"
   ]
  },
  {
   "cell_type": "code",
   "execution_count": 4,
   "metadata": {},
   "outputs": [
    {
     "data": {
      "text/html": [
       "<div>\n",
       "<style scoped>\n",
       "    .dataframe tbody tr th:only-of-type {\n",
       "        vertical-align: middle;\n",
       "    }\n",
       "\n",
       "    .dataframe tbody tr th {\n",
       "        vertical-align: top;\n",
       "    }\n",
       "\n",
       "    .dataframe thead th {\n",
       "        text-align: right;\n",
       "    }\n",
       "</style>\n",
       "<table border=\"1\" class=\"dataframe\">\n",
       "  <thead>\n",
       "    <tr style=\"text-align: right;\">\n",
       "      <th></th>\n",
       "      <th>id</th>\n",
       "      <th>conversation_id</th>\n",
       "      <th>created_at</th>\n",
       "      <th>date</th>\n",
       "      <th>timezone</th>\n",
       "      <th>place</th>\n",
       "      <th>tweet</th>\n",
       "      <th>language</th>\n",
       "      <th>hashtags</th>\n",
       "      <th>cashtags</th>\n",
       "      <th>user_id</th>\n",
       "      <th>user_id_str</th>\n",
       "      <th>username</th>\n",
       "      <th>name</th>\n",
       "      <th>day</th>\n",
       "      <th>hour</th>\n",
       "      <th>link</th>\n",
       "      <th>urls</th>\n",
       "      <th>photos</th>\n",
       "      <th>video</th>\n",
       "      <th>thumbnail</th>\n",
       "      <th>retweet</th>\n",
       "      <th>nlikes</th>\n",
       "      <th>nreplies</th>\n",
       "      <th>nretweets</th>\n",
       "      <th>quote_url</th>\n",
       "      <th>search</th>\n",
       "      <th>near</th>\n",
       "      <th>geo</th>\n",
       "      <th>source</th>\n",
       "      <th>user_rt_id</th>\n",
       "      <th>user_rt</th>\n",
       "      <th>retweet_id</th>\n",
       "      <th>reply_to</th>\n",
       "      <th>retweet_date</th>\n",
       "      <th>translate</th>\n",
       "      <th>trans_src</th>\n",
       "      <th>trans_dest</th>\n",
       "      <th>id_user</th>\n",
       "      <th>name_user</th>\n",
       "      <th>username_user</th>\n",
       "      <th>bio</th>\n",
       "      <th>url</th>\n",
       "      <th>join_datetime</th>\n",
       "      <th>join_date</th>\n",
       "      <th>join_time</th>\n",
       "      <th>tweets</th>\n",
       "      <th>location</th>\n",
       "      <th>following</th>\n",
       "      <th>followers</th>\n",
       "      <th>likes</th>\n",
       "      <th>media</th>\n",
       "      <th>private</th>\n",
       "      <th>verified</th>\n",
       "      <th>avatar</th>\n",
       "      <th>background_image</th>\n",
       "    </tr>\n",
       "  </thead>\n",
       "  <tbody>\n",
       "    <tr>\n",
       "      <th>0</th>\n",
       "      <td>1425590913959612419</td>\n",
       "      <td>1425590913959612419</td>\n",
       "      <td>1.628722e+12</td>\n",
       "      <td>2021-08-12 00:52:14</td>\n",
       "      <td>200</td>\n",
       "      <td>NaN</td>\n",
       "      <td>RT @girlsalliance: We're so proud of the four ...</td>\n",
       "      <td>en</td>\n",
       "      <td>[]</td>\n",
       "      <td>[]</td>\n",
       "      <td>409486555</td>\n",
       "      <td>409486555</td>\n",
       "      <td>MichelleObama</td>\n",
       "      <td>Michelle Obama</td>\n",
       "      <td>4</td>\n",
       "      <td>0</td>\n",
       "      <td>https://twitter.com/MichelleObama/status/14255...</td>\n",
       "      <td>[]</td>\n",
       "      <td>[]</td>\n",
       "      <td>0</td>\n",
       "      <td>NaN</td>\n",
       "      <td>True</td>\n",
       "      <td>0</td>\n",
       "      <td>0</td>\n",
       "      <td>232</td>\n",
       "      <td>0</td>\n",
       "      <td>None</td>\n",
       "      <td>NaN</td>\n",
       "      <td>NaN</td>\n",
       "      <td>NaN</td>\n",
       "      <td>1.047165e+18</td>\n",
       "      <td>We're so proud of the four organizations in ou...</td>\n",
       "      <td>1.425590e+18</td>\n",
       "      <td>[]</td>\n",
       "      <td>2021-08-12 00:46:58 CEST</td>\n",
       "      <td>NaN</td>\n",
       "      <td>NaN</td>\n",
       "      <td>NaN</td>\n",
       "      <td>409486555</td>\n",
       "      <td>Michelle Obama</td>\n",
       "      <td>MichelleObama</td>\n",
       "      <td>Girl from the South Side and former First Lady...</td>\n",
       "      <td>https://t.co/HPYP9ad13Y</td>\n",
       "      <td>2011-11-10 20:13:01 UTC</td>\n",
       "      <td>2011-11-10</td>\n",
       "      <td>20:13:01 UTC</td>\n",
       "      <td>1770</td>\n",
       "      <td>Washington, DC</td>\n",
       "      <td>16</td>\n",
       "      <td>20854298</td>\n",
       "      <td>184</td>\n",
       "      <td>461</td>\n",
       "      <td>False</td>\n",
       "      <td>True</td>\n",
       "      <td>https://pbs.twimg.com/profile_images/136674780...</td>\n",
       "      <td>https://pbs.twimg.com/profile_banners/40948655...</td>\n",
       "    </tr>\n",
       "    <tr>\n",
       "      <th>1</th>\n",
       "      <td>1427736867739299841</td>\n",
       "      <td>1427736867739299841</td>\n",
       "      <td>1.629234e+12</td>\n",
       "      <td>2021-08-17 22:59:29</td>\n",
       "      <td>200</td>\n",
       "      <td>NaN</td>\n",
       "      <td>Some casual suggestions to 😏SLIDE😏 into when u...</td>\n",
       "      <td>en</td>\n",
       "      <td>['shoesdaytuesday', 'afterskewlslide']</td>\n",
       "      <td>[]</td>\n",
       "      <td>21447363</td>\n",
       "      <td>21447363</td>\n",
       "      <td>katyperry</td>\n",
       "      <td>KATY PERRY</td>\n",
       "      <td>2</td>\n",
       "      <td>22</td>\n",
       "      <td>https://twitter.com/katyperry/status/142773686...</td>\n",
       "      <td>[]</td>\n",
       "      <td>['https://pbs.twimg.com/media/E9BXG4YVkAAl3_A....</td>\n",
       "      <td>1</td>\n",
       "      <td>https://pbs.twimg.com/media/E9BXG4YVkAAl3_A.jpg</td>\n",
       "      <td>False</td>\n",
       "      <td>5266</td>\n",
       "      <td>368</td>\n",
       "      <td>408</td>\n",
       "      <td>0</td>\n",
       "      <td>None</td>\n",
       "      <td>NaN</td>\n",
       "      <td>NaN</td>\n",
       "      <td>NaN</td>\n",
       "      <td>NaN</td>\n",
       "      <td>NaN</td>\n",
       "      <td>NaN</td>\n",
       "      <td>[]</td>\n",
       "      <td>NaN</td>\n",
       "      <td>NaN</td>\n",
       "      <td>NaN</td>\n",
       "      <td>NaN</td>\n",
       "      <td>21447363</td>\n",
       "      <td>KATY PERRY</td>\n",
       "      <td>katyperry</td>\n",
       "      <td>Love. Light.</td>\n",
       "      <td>https://t.co/Rrwt0Kj2Q7</td>\n",
       "      <td>2009-02-20 23:45:56 UTC</td>\n",
       "      <td>2009-02-20</td>\n",
       "      <td>23:45:56 UTC</td>\n",
       "      <td>11420</td>\n",
       "      <td>NaN</td>\n",
       "      <td>235</td>\n",
       "      <td>108819032</td>\n",
       "      <td>7995</td>\n",
       "      <td>2170</td>\n",
       "      <td>False</td>\n",
       "      <td>True</td>\n",
       "      <td>https://pbs.twimg.com/profile_images/139246535...</td>\n",
       "      <td>https://pbs.twimg.com/profile_banners/21447363...</td>\n",
       "    </tr>\n",
       "    <tr>\n",
       "      <th>2</th>\n",
       "      <td>1427667300488937476</td>\n",
       "      <td>1427667300488937476</td>\n",
       "      <td>1.629217e+12</td>\n",
       "      <td>2021-08-17 18:23:03</td>\n",
       "      <td>200</td>\n",
       "      <td>NaN</td>\n",
       "      <td>RT @ValaAfshar: You are not your job.</td>\n",
       "      <td>en</td>\n",
       "      <td>[]</td>\n",
       "      <td>[]</td>\n",
       "      <td>21447363</td>\n",
       "      <td>21447363</td>\n",
       "      <td>katyperry</td>\n",
       "      <td>KATY PERRY</td>\n",
       "      <td>2</td>\n",
       "      <td>18</td>\n",
       "      <td>https://twitter.com/katyperry/status/142766730...</td>\n",
       "      <td>[]</td>\n",
       "      <td>[]</td>\n",
       "      <td>0</td>\n",
       "      <td>NaN</td>\n",
       "      <td>True</td>\n",
       "      <td>0</td>\n",
       "      <td>0</td>\n",
       "      <td>764</td>\n",
       "      <td>0</td>\n",
       "      <td>None</td>\n",
       "      <td>NaN</td>\n",
       "      <td>NaN</td>\n",
       "      <td>NaN</td>\n",
       "      <td>2.597252e+08</td>\n",
       "      <td>You are not your job.</td>\n",
       "      <td>1.427648e+18</td>\n",
       "      <td>[]</td>\n",
       "      <td>2021-08-17 17:05:53 CEST</td>\n",
       "      <td>NaN</td>\n",
       "      <td>NaN</td>\n",
       "      <td>NaN</td>\n",
       "      <td>21447363</td>\n",
       "      <td>KATY PERRY</td>\n",
       "      <td>katyperry</td>\n",
       "      <td>Love. Light.</td>\n",
       "      <td>https://t.co/Rrwt0Kj2Q7</td>\n",
       "      <td>2009-02-20 23:45:56 UTC</td>\n",
       "      <td>2009-02-20</td>\n",
       "      <td>23:45:56 UTC</td>\n",
       "      <td>11420</td>\n",
       "      <td>NaN</td>\n",
       "      <td>235</td>\n",
       "      <td>108819032</td>\n",
       "      <td>7995</td>\n",
       "      <td>2170</td>\n",
       "      <td>False</td>\n",
       "      <td>True</td>\n",
       "      <td>https://pbs.twimg.com/profile_images/139246535...</td>\n",
       "      <td>https://pbs.twimg.com/profile_banners/21447363...</td>\n",
       "    </tr>\n",
       "    <tr>\n",
       "      <th>3</th>\n",
       "      <td>1427667012105371652</td>\n",
       "      <td>1427667012105371652</td>\n",
       "      <td>1.629217e+12</td>\n",
       "      <td>2021-08-17 18:21:55</td>\n",
       "      <td>200</td>\n",
       "      <td>NaN</td>\n",
       "      <td>What have we become 😔😂  Toddler Cites Freedom ...</td>\n",
       "      <td>en</td>\n",
       "      <td>[]</td>\n",
       "      <td>[]</td>\n",
       "      <td>21447363</td>\n",
       "      <td>21447363</td>\n",
       "      <td>katyperry</td>\n",
       "      <td>KATY PERRY</td>\n",
       "      <td>2</td>\n",
       "      <td>18</td>\n",
       "      <td>https://twitter.com/katyperry/status/142766701...</td>\n",
       "      <td>['https://www.theonion.com/toddler-cites-freed...</td>\n",
       "      <td>[]</td>\n",
       "      <td>0</td>\n",
       "      <td>NaN</td>\n",
       "      <td>False</td>\n",
       "      <td>5638</td>\n",
       "      <td>476</td>\n",
       "      <td>438</td>\n",
       "      <td>0</td>\n",
       "      <td>None</td>\n",
       "      <td>NaN</td>\n",
       "      <td>NaN</td>\n",
       "      <td>NaN</td>\n",
       "      <td>NaN</td>\n",
       "      <td>NaN</td>\n",
       "      <td>NaN</td>\n",
       "      <td>[]</td>\n",
       "      <td>NaN</td>\n",
       "      <td>NaN</td>\n",
       "      <td>NaN</td>\n",
       "      <td>NaN</td>\n",
       "      <td>21447363</td>\n",
       "      <td>KATY PERRY</td>\n",
       "      <td>katyperry</td>\n",
       "      <td>Love. Light.</td>\n",
       "      <td>https://t.co/Rrwt0Kj2Q7</td>\n",
       "      <td>2009-02-20 23:45:56 UTC</td>\n",
       "      <td>2009-02-20</td>\n",
       "      <td>23:45:56 UTC</td>\n",
       "      <td>11420</td>\n",
       "      <td>NaN</td>\n",
       "      <td>235</td>\n",
       "      <td>108819032</td>\n",
       "      <td>7995</td>\n",
       "      <td>2170</td>\n",
       "      <td>False</td>\n",
       "      <td>True</td>\n",
       "      <td>https://pbs.twimg.com/profile_images/139246535...</td>\n",
       "      <td>https://pbs.twimg.com/profile_banners/21447363...</td>\n",
       "    </tr>\n",
       "    <tr>\n",
       "      <th>4</th>\n",
       "      <td>1427497703596990467</td>\n",
       "      <td>1427497703596990467</td>\n",
       "      <td>1.629177e+12</td>\n",
       "      <td>2021-08-17 07:09:08</td>\n",
       "      <td>200</td>\n",
       "      <td>NaN</td>\n",
       "      <td>The tech giants that refuse to massively addre...</td>\n",
       "      <td>en</td>\n",
       "      <td>[]</td>\n",
       "      <td>[]</td>\n",
       "      <td>21447363</td>\n",
       "      <td>21447363</td>\n",
       "      <td>katyperry</td>\n",
       "      <td>KATY PERRY</td>\n",
       "      <td>2</td>\n",
       "      <td>7</td>\n",
       "      <td>https://twitter.com/katyperry/status/142749770...</td>\n",
       "      <td>[]</td>\n",
       "      <td>[]</td>\n",
       "      <td>0</td>\n",
       "      <td>NaN</td>\n",
       "      <td>False</td>\n",
       "      <td>8810</td>\n",
       "      <td>546</td>\n",
       "      <td>1211</td>\n",
       "      <td>https://twitter.com/VICENews/status/1427311204...</td>\n",
       "      <td>None</td>\n",
       "      <td>NaN</td>\n",
       "      <td>NaN</td>\n",
       "      <td>NaN</td>\n",
       "      <td>NaN</td>\n",
       "      <td>NaN</td>\n",
       "      <td>NaN</td>\n",
       "      <td>[]</td>\n",
       "      <td>NaN</td>\n",
       "      <td>NaN</td>\n",
       "      <td>NaN</td>\n",
       "      <td>NaN</td>\n",
       "      <td>21447363</td>\n",
       "      <td>KATY PERRY</td>\n",
       "      <td>katyperry</td>\n",
       "      <td>Love. Light.</td>\n",
       "      <td>https://t.co/Rrwt0Kj2Q7</td>\n",
       "      <td>2009-02-20 23:45:56 UTC</td>\n",
       "      <td>2009-02-20</td>\n",
       "      <td>23:45:56 UTC</td>\n",
       "      <td>11420</td>\n",
       "      <td>NaN</td>\n",
       "      <td>235</td>\n",
       "      <td>108819032</td>\n",
       "      <td>7995</td>\n",
       "      <td>2170</td>\n",
       "      <td>False</td>\n",
       "      <td>True</td>\n",
       "      <td>https://pbs.twimg.com/profile_images/139246535...</td>\n",
       "      <td>https://pbs.twimg.com/profile_banners/21447363...</td>\n",
       "    </tr>\n",
       "  </tbody>\n",
       "</table>\n",
       "</div>"
      ],
      "text/plain": [
       "                    id      conversation_id    created_at  \\\n",
       "0  1425590913959612419  1425590913959612419  1.628722e+12   \n",
       "1  1427736867739299841  1427736867739299841  1.629234e+12   \n",
       "2  1427667300488937476  1427667300488937476  1.629217e+12   \n",
       "3  1427667012105371652  1427667012105371652  1.629217e+12   \n",
       "4  1427497703596990467  1427497703596990467  1.629177e+12   \n",
       "\n",
       "                  date  timezone place  \\\n",
       "0  2021-08-12 00:52:14       200   NaN   \n",
       "1  2021-08-17 22:59:29       200   NaN   \n",
       "2  2021-08-17 18:23:03       200   NaN   \n",
       "3  2021-08-17 18:21:55       200   NaN   \n",
       "4  2021-08-17 07:09:08       200   NaN   \n",
       "\n",
       "                                               tweet language  \\\n",
       "0  RT @girlsalliance: We're so proud of the four ...       en   \n",
       "1  Some casual suggestions to 😏SLIDE😏 into when u...       en   \n",
       "2              RT @ValaAfshar: You are not your job.       en   \n",
       "3  What have we become 😔😂  Toddler Cites Freedom ...       en   \n",
       "4  The tech giants that refuse to massively addre...       en   \n",
       "\n",
       "                                 hashtags cashtags    user_id  user_id_str  \\\n",
       "0                                      []       []  409486555    409486555   \n",
       "1  ['shoesdaytuesday', 'afterskewlslide']       []   21447363     21447363   \n",
       "2                                      []       []   21447363     21447363   \n",
       "3                                      []       []   21447363     21447363   \n",
       "4                                      []       []   21447363     21447363   \n",
       "\n",
       "        username            name  day  hour  \\\n",
       "0  MichelleObama  Michelle Obama    4     0   \n",
       "1      katyperry      KATY PERRY    2    22   \n",
       "2      katyperry      KATY PERRY    2    18   \n",
       "3      katyperry      KATY PERRY    2    18   \n",
       "4      katyperry      KATY PERRY    2     7   \n",
       "\n",
       "                                                link  \\\n",
       "0  https://twitter.com/MichelleObama/status/14255...   \n",
       "1  https://twitter.com/katyperry/status/142773686...   \n",
       "2  https://twitter.com/katyperry/status/142766730...   \n",
       "3  https://twitter.com/katyperry/status/142766701...   \n",
       "4  https://twitter.com/katyperry/status/142749770...   \n",
       "\n",
       "                                                urls  \\\n",
       "0                                                 []   \n",
       "1                                                 []   \n",
       "2                                                 []   \n",
       "3  ['https://www.theonion.com/toddler-cites-freed...   \n",
       "4                                                 []   \n",
       "\n",
       "                                              photos  video  \\\n",
       "0                                                 []      0   \n",
       "1  ['https://pbs.twimg.com/media/E9BXG4YVkAAl3_A....      1   \n",
       "2                                                 []      0   \n",
       "3                                                 []      0   \n",
       "4                                                 []      0   \n",
       "\n",
       "                                         thumbnail  retweet  nlikes  nreplies  \\\n",
       "0                                              NaN     True       0         0   \n",
       "1  https://pbs.twimg.com/media/E9BXG4YVkAAl3_A.jpg    False    5266       368   \n",
       "2                                              NaN     True       0         0   \n",
       "3                                              NaN    False    5638       476   \n",
       "4                                              NaN    False    8810       546   \n",
       "\n",
       "   nretweets                                          quote_url search  near  \\\n",
       "0        232                                                  0   None   NaN   \n",
       "1        408                                                  0   None   NaN   \n",
       "2        764                                                  0   None   NaN   \n",
       "3        438                                                  0   None   NaN   \n",
       "4       1211  https://twitter.com/VICENews/status/1427311204...   None   NaN   \n",
       "\n",
       "   geo  source    user_rt_id  \\\n",
       "0  NaN     NaN  1.047165e+18   \n",
       "1  NaN     NaN           NaN   \n",
       "2  NaN     NaN  2.597252e+08   \n",
       "3  NaN     NaN           NaN   \n",
       "4  NaN     NaN           NaN   \n",
       "\n",
       "                                             user_rt    retweet_id reply_to  \\\n",
       "0  We're so proud of the four organizations in ou...  1.425590e+18       []   \n",
       "1                                                NaN           NaN       []   \n",
       "2                              You are not your job.  1.427648e+18       []   \n",
       "3                                                NaN           NaN       []   \n",
       "4                                                NaN           NaN       []   \n",
       "\n",
       "               retweet_date  translate  trans_src  trans_dest    id_user  \\\n",
       "0  2021-08-12 00:46:58 CEST        NaN        NaN         NaN  409486555   \n",
       "1                       NaN        NaN        NaN         NaN   21447363   \n",
       "2  2021-08-17 17:05:53 CEST        NaN        NaN         NaN   21447363   \n",
       "3                       NaN        NaN        NaN         NaN   21447363   \n",
       "4                       NaN        NaN        NaN         NaN   21447363   \n",
       "\n",
       "        name_user  username_user  \\\n",
       "0  Michelle Obama  MichelleObama   \n",
       "1      KATY PERRY      katyperry   \n",
       "2      KATY PERRY      katyperry   \n",
       "3      KATY PERRY      katyperry   \n",
       "4      KATY PERRY      katyperry   \n",
       "\n",
       "                                                 bio                      url  \\\n",
       "0  Girl from the South Side and former First Lady...  https://t.co/HPYP9ad13Y   \n",
       "1                                       Love. Light.  https://t.co/Rrwt0Kj2Q7   \n",
       "2                                       Love. Light.  https://t.co/Rrwt0Kj2Q7   \n",
       "3                                       Love. Light.  https://t.co/Rrwt0Kj2Q7   \n",
       "4                                       Love. Light.  https://t.co/Rrwt0Kj2Q7   \n",
       "\n",
       "             join_datetime   join_date     join_time  tweets        location  \\\n",
       "0  2011-11-10 20:13:01 UTC  2011-11-10  20:13:01 UTC    1770  Washington, DC   \n",
       "1  2009-02-20 23:45:56 UTC  2009-02-20  23:45:56 UTC   11420             NaN   \n",
       "2  2009-02-20 23:45:56 UTC  2009-02-20  23:45:56 UTC   11420             NaN   \n",
       "3  2009-02-20 23:45:56 UTC  2009-02-20  23:45:56 UTC   11420             NaN   \n",
       "4  2009-02-20 23:45:56 UTC  2009-02-20  23:45:56 UTC   11420             NaN   \n",
       "\n",
       "   following  followers  likes  media  private  verified  \\\n",
       "0         16   20854298    184    461    False      True   \n",
       "1        235  108819032   7995   2170    False      True   \n",
       "2        235  108819032   7995   2170    False      True   \n",
       "3        235  108819032   7995   2170    False      True   \n",
       "4        235  108819032   7995   2170    False      True   \n",
       "\n",
       "                                              avatar  \\\n",
       "0  https://pbs.twimg.com/profile_images/136674780...   \n",
       "1  https://pbs.twimg.com/profile_images/139246535...   \n",
       "2  https://pbs.twimg.com/profile_images/139246535...   \n",
       "3  https://pbs.twimg.com/profile_images/139246535...   \n",
       "4  https://pbs.twimg.com/profile_images/139246535...   \n",
       "\n",
       "                                    background_image  \n",
       "0  https://pbs.twimg.com/profile_banners/40948655...  \n",
       "1  https://pbs.twimg.com/profile_banners/21447363...  \n",
       "2  https://pbs.twimg.com/profile_banners/21447363...  \n",
       "3  https://pbs.twimg.com/profile_banners/21447363...  \n",
       "4  https://pbs.twimg.com/profile_banners/21447363...  "
      ]
     },
     "execution_count": 4,
     "metadata": {},
     "output_type": "execute_result"
    }
   ],
   "source": [
    "tweet_data.head()"
   ]
  },
  {
   "cell_type": "markdown",
   "metadata": {},
   "source": [
    "## Nuestra prediccion\n",
    "Miramos nuestro target y las variables que pueden ser importantes, finalizando con el train-test split"
   ]
  },
  {
   "cell_type": "code",
   "execution_count": 5,
   "metadata": {},
   "outputs": [
    {
     "data": {
      "text/plain": [
       "0.50       39.0\n",
       "0.75      198.0\n",
       "0.90     1318.0\n",
       "0.95     4319.0\n",
       "0.99    25868.0\n",
       "Name: nlikes, dtype: float64"
      ]
     },
     "execution_count": 5,
     "metadata": {},
     "output_type": "execute_result"
    }
   ],
   "source": [
    "tweet_data.nlikes.quantile([0.5, 0.75, 0.9, 0.95, 0.99])"
   ]
  },
  {
   "cell_type": "code",
   "execution_count": 6,
   "metadata": {},
   "outputs": [
    {
     "data": {
      "image/png": "[encoded data removed]",
      "text/plain": [
       "<Figure size 640x480 with 1 Axes>"
      ]
     },
     "metadata": {},
     "output_type": "display_data"
    }
   ],
   "source": [
    "graph = (\n",
    "    pn.ggplot(tweet_data, pn.aes(x='0', y='nlikes'))\n",
    "    + pn.geom_boxplot()\n",
    "    + pn.coord_cartesian(ylim=[0, tweet_data.nlikes.quantile(0.90)])\n",
    "    + pn.xlab('')\n",
    ")\n",
    "\n",
    "graph.draw();"
   ]
  },
  {
   "cell_type": "code",
   "execution_count": 7,
   "metadata": {},
   "outputs": [
    {
     "data": {
      "text/plain": [
       "0    53.943964\n",
       "1    46.056036\n",
       "Name: is_popular, dtype: float64"
      ]
     },
     "execution_count": 7,
     "metadata": {},
     "output_type": "execute_result"
    }
   ],
   "source": [
    "target = 'is_popular'\n",
    "cutoff = 50\n",
    "tweet_data[target] = (tweet_data.nlikes >= cutoff).astype(int)\n",
    "\n",
    "tweet_data[target].value_counts(normalize=True, dropna=False) * 100"
   ]
  },
  {
   "cell_type": "code",
   "execution_count": 8,
   "metadata": {},
   "outputs": [
    {
     "name": "stdout",
     "output_type": "stream",
     "text": [
      "(28406, 57)\n",
      "(12175, 57)\n"
     ]
    }
   ],
   "source": [
    "train, test = sklearn.model_selection.train_test_split(tweet_data, train_size=0.7, random_state=0)\n",
    "\n",
    "train = train.reset_index(drop=True)\n",
    "test = test.reset_index(drop=True)\n",
    "\n",
    "print(train.shape)\n",
    "print(test.shape)"
   ]
  },
  {
   "cell_type": "code",
   "execution_count": 9,
   "metadata": {},
   "outputs": [
    {
     "name": "stdout",
     "output_type": "stream",
     "text": [
      "For variable followers:\n",
      "                    mean            sem\n",
      "is_popular                             \n",
      "0           6.182150e+06   71263.036395\n",
      "1           1.421613e+07  133938.264897\n",
      "\n",
      "\n",
      "For variable following:\n",
      "                    mean          sem\n",
      "is_popular                           \n",
      "0           17022.785677  1758.908416\n",
      "1            6084.765074   743.757493\n",
      "\n",
      "\n",
      "For variable video:\n",
      "                mean       sem\n",
      "is_popular                    \n",
      "0           0.158651  0.002953\n",
      "1           0.309037  0.004037\n",
      "\n",
      "\n",
      "For variable retweet:\n",
      "                mean       sem\n",
      "is_popular                    \n",
      "0           0.282802  0.003641\n",
      "1           0.000000  0.000000\n",
      "\n",
      "\n",
      "For variable tweets:\n",
      "                     mean          sem\n",
      "is_popular                            \n",
      "0           178786.712755  1171.194109\n",
      "1           176844.335369  1344.078084\n",
      "\n",
      "\n",
      "For variable likes:\n",
      "                    mean         sem\n",
      "is_popular                          \n",
      "0           18891.473144  531.793458\n",
      "1            8485.324073  237.753655\n",
      "\n",
      "\n",
      "For variable media:\n",
      "                    mean         sem\n",
      "is_popular                          \n",
      "0           54040.342263  534.674594\n",
      "1           46656.994657  504.208551\n",
      "\n",
      "\n",
      "For variable verified:\n",
      "                mean       sem\n",
      "is_popular                    \n",
      "0           0.984710  0.000992\n",
      "1           0.970844  0.001470\n",
      "\n",
      "\n"
     ]
    }
   ],
   "source": [
    "potential_variables = [\n",
    "    'followers', 'following', 'video', 'retweet', 'tweets', 'likes', 'media', 'verified'\n",
    "]\n",
    "\n",
    "for variable in potential_variables:\n",
    "    print(f'For variable {variable}:')\n",
    "    print(train.groupby(target)[variable].agg(['mean', 'sem']))\n",
    "    print('\\n')"
   ]
  },
  {
   "cell_type": "code",
   "execution_count": 10,
   "metadata": {},
   "outputs": [
    {
     "data": {
      "text/plain": [
       "followers    0\n",
       "following    0\n",
       "video        0\n",
       "retweet      0\n",
       "tweets       0\n",
       "likes        0\n",
       "media        0\n",
       "verified     0\n",
       "dtype: int64"
      ]
     },
     "execution_count": 10,
     "metadata": {},
     "output_type": "execute_result"
    }
   ],
   "source": [
    "train[potential_variables].isna().sum()"
   ]
  },
  {
   "cell_type": "markdown",
   "metadata": {},
   "source": [
    "## Hacemos la primera predicción\n",
    "Para coger idea del sintaxis de stats models y para también empezar con un baseline - hacemos una iteración rapida de un modelo."
   ]
  },
  {
   "cell_type": "code",
   "execution_count": 11,
   "metadata": {},
   "outputs": [],
   "source": [
    "X_variables = ['following', 'video']"
   ]
  },
  {
   "cell_type": "code",
   "execution_count": 12,
   "metadata": {},
   "outputs": [
    {
     "name": "stdout",
     "output_type": "stream",
     "text": [
      "Optimization terminated successfully.\n",
      "         Current function value: 0.673588\n",
      "         Iterations 6\n"
     ]
    }
   ],
   "source": [
    "# Ojo con las diferencias ligeras entre SM y sklearn!\n",
    "log_model = sm.Logit(train[target], sm.add_constant(train[X_variables]))\n",
    "log_model = log_model.fit()\n",
    "\n",
    "predictions = log_model.predict(sm.add_constant(train[X_variables]))"
   ]
  },
  {
   "cell_type": "code",
   "execution_count": 13,
   "metadata": {},
   "outputs": [
    {
     "data": {
      "text/html": [
       "<div>\n",
       "<style scoped>\n",
       "    .dataframe tbody tr th:only-of-type {\n",
       "        vertical-align: middle;\n",
       "    }\n",
       "\n",
       "    .dataframe tbody tr th {\n",
       "        vertical-align: top;\n",
       "    }\n",
       "\n",
       "    .dataframe thead th {\n",
       "        text-align: right;\n",
       "    }\n",
       "</style>\n",
       "<table border=\"1\" class=\"dataframe\">\n",
       "  <thead>\n",
       "    <tr style=\"text-align: right;\">\n",
       "      <th></th>\n",
       "      <th>is_popular</th>\n",
       "      <th>0</th>\n",
       "      <th>1</th>\n",
       "    </tr>\n",
       "  </thead>\n",
       "  <tbody>\n",
       "    <tr>\n",
       "      <th>0</th>\n",
       "      <td>0</td>\n",
       "      <td>0.413944</td>\n",
       "      <td>False</td>\n",
       "    </tr>\n",
       "    <tr>\n",
       "      <th>1</th>\n",
       "      <td>1</td>\n",
       "      <td>0.625712</td>\n",
       "      <td>True</td>\n",
       "    </tr>\n",
       "    <tr>\n",
       "      <th>2</th>\n",
       "      <td>1</td>\n",
       "      <td>0.414082</td>\n",
       "      <td>False</td>\n",
       "    </tr>\n",
       "    <tr>\n",
       "      <th>3</th>\n",
       "      <td>1</td>\n",
       "      <td>0.414163</td>\n",
       "      <td>False</td>\n",
       "    </tr>\n",
       "    <tr>\n",
       "      <th>4</th>\n",
       "      <td>0</td>\n",
       "      <td>0.626044</td>\n",
       "      <td>True</td>\n",
       "    </tr>\n",
       "    <tr>\n",
       "      <th>...</th>\n",
       "      <td>...</td>\n",
       "      <td>...</td>\n",
       "      <td>...</td>\n",
       "    </tr>\n",
       "    <tr>\n",
       "      <th>28401</th>\n",
       "      <td>1</td>\n",
       "      <td>0.626061</td>\n",
       "      <td>True</td>\n",
       "    </tr>\n",
       "    <tr>\n",
       "      <th>28402</th>\n",
       "      <td>1</td>\n",
       "      <td>0.413255</td>\n",
       "      <td>False</td>\n",
       "    </tr>\n",
       "    <tr>\n",
       "      <th>28403</th>\n",
       "      <td>1</td>\n",
       "      <td>0.625988</td>\n",
       "      <td>True</td>\n",
       "    </tr>\n",
       "    <tr>\n",
       "      <th>28404</th>\n",
       "      <td>1</td>\n",
       "      <td>0.414165</td>\n",
       "      <td>False</td>\n",
       "    </tr>\n",
       "    <tr>\n",
       "      <th>28405</th>\n",
       "      <td>1</td>\n",
       "      <td>0.414082</td>\n",
       "      <td>False</td>\n",
       "    </tr>\n",
       "  </tbody>\n",
       "</table>\n",
       "<p>28406 rows × 3 columns</p>\n",
       "</div>"
      ],
      "text/plain": [
       "       is_popular         0      1\n",
       "0               0  0.413944  False\n",
       "1               1  0.625712   True\n",
       "2               1  0.414082  False\n",
       "3               1  0.414163  False\n",
       "4               0  0.626044   True\n",
       "...           ...       ...    ...\n",
       "28401           1  0.626061   True\n",
       "28402           1  0.413255  False\n",
       "28403           1  0.625988   True\n",
       "28404           1  0.414165  False\n",
       "28405           1  0.414082  False\n",
       "\n",
       "[28406 rows x 3 columns]"
      ]
     },
     "execution_count": 13,
     "metadata": {},
     "output_type": "execute_result"
    }
   ],
   "source": [
    "pd.concat([\n",
    "    train[target], predictions, predictions.round().astype(bool)\n",
    "], axis=1)"
   ]
  },
  {
   "cell_type": "code",
   "execution_count": 14,
   "metadata": {},
   "outputs": [],
   "source": [
    "train['predictions_1'] = predictions"
   ]
  },
  {
   "cell_type": "markdown",
   "metadata": {},
   "source": [
    "## Evaluando los resultados\n",
    "Evaluamos que tal ha ido este modelo para entender mejor las tecnicas que tenemos disponibles."
   ]
  },
  {
   "cell_type": "code",
   "execution_count": 15,
   "metadata": {},
   "outputs": [
    {
     "data": {
      "text/html": [
       "<table class=\"simpletable\">\n",
       "<caption>Logit Regression Results</caption>\n",
       "<tr>\n",
       "  <th>Dep. Variable:</th>      <td>is_popular</td>    <th>  No. Observations:  </th>   <td> 28406</td>  \n",
       "</tr>\n",
       "<tr>\n",
       "  <th>Model:</th>                 <td>Logit</td>      <th>  Df Residuals:      </th>   <td> 28403</td>  \n",
       "</tr>\n",
       "<tr>\n",
       "  <th>Method:</th>                 <td>MLE</td>       <th>  Df Model:          </th>   <td>     2</td>  \n",
       "</tr>\n",
       "<tr>\n",
       "  <th>Date:</th>            <td>Tue, 31 Aug 2021</td> <th>  Pseudo R-squ.:     </th>   <td>0.02398</td> \n",
       "</tr>\n",
       "<tr>\n",
       "  <th>Time:</th>                <td>13:39:31</td>     <th>  Log-Likelihood:    </th>  <td> -19134.</td> \n",
       "</tr>\n",
       "<tr>\n",
       "  <th>converged:</th>             <td>True</td>       <th>  LL-Null:           </th>  <td> -19604.</td> \n",
       "</tr>\n",
       "<tr>\n",
       "  <th>Covariance Type:</th>     <td>nonrobust</td>    <th>  LLR p-value:       </th> <td>6.442e-205</td>\n",
       "</tr>\n",
       "</table>\n",
       "<table class=\"simpletable\">\n",
       "<tr>\n",
       "      <td></td>         <th>coef</th>     <th>std err</th>      <th>z</th>      <th>P>|z|</th>  <th>[0.025</th>    <th>0.975]</th>  \n",
       "</tr>\n",
       "<tr>\n",
       "  <th>const</th>     <td>   -0.3467</td> <td>    0.014</td> <td>  -25.202</td> <td> 0.000</td> <td>   -0.374</td> <td>   -0.320</td>\n",
       "</tr>\n",
       "<tr>\n",
       "  <th>following</th> <td>-5.484e-07</td> <td> 1.31e-07</td> <td>   -4.185</td> <td> 0.000</td> <td>-8.05e-07</td> <td>-2.92e-07</td>\n",
       "</tr>\n",
       "<tr>\n",
       "  <th>video</th>     <td>    0.8620</td> <td>    0.029</td> <td>   29.610</td> <td> 0.000</td> <td>    0.805</td> <td>    0.919</td>\n",
       "</tr>\n",
       "</table>"
      ],
      "text/plain": [
       "<class 'statsmodels.iolib.summary.Summary'>\n",
       "\"\"\"\n",
       "                           Logit Regression Results                           \n",
       "==============================================================================\n",
       "Dep. Variable:             is_popular   No. Observations:                28406\n",
       "Model:                          Logit   Df Residuals:                    28403\n",
       "Method:                           MLE   Df Model:                            2\n",
       "Date:                Tue, 31 Aug 2021   Pseudo R-squ.:                 0.02398\n",
       "Time:                        13:39:31   Log-Likelihood:                -19134.\n",
       "converged:                       True   LL-Null:                       -19604.\n",
       "Covariance Type:            nonrobust   LLR p-value:                6.442e-205\n",
       "==============================================================================\n",
       "                 coef    std err          z      P>|z|      [0.025      0.975]\n",
       "------------------------------------------------------------------------------\n",
       "const         -0.3467      0.014    -25.202      0.000      -0.374      -0.320\n",
       "following  -5.484e-07   1.31e-07     -4.185      0.000   -8.05e-07   -2.92e-07\n",
       "video          0.8620      0.029     29.610      0.000       0.805       0.919\n",
       "==============================================================================\n",
       "\"\"\""
      ]
     },
     "execution_count": 15,
     "metadata": {},
     "output_type": "execute_result"
    }
   ],
   "source": [
    "log_model.summary()"
   ]
  },
  {
   "cell_type": "markdown",
   "metadata": {},
   "source": [
    "El fit en si parece que tiene algo de buena pinta - todo ha convergado y nuestras variables son todas significantes.\n",
    "\n",
    "Podemos interpretar los coeficientes a traves de los \"log odds\". Tenemos que coger el exponente de los coeficientes que vemos: "
   ]
  },
  {
   "cell_type": "code",
   "execution_count": 16,
   "metadata": {},
   "outputs": [
    {
     "data": {
      "text/plain": [
       "const        0.707048\n",
       "following    0.999999\n",
       "video        2.367931\n",
       "dtype: float64"
      ]
     },
     "execution_count": 16,
     "metadata": {},
     "output_type": "execute_result"
    }
   ],
   "source": [
    "np.exp(log_model.params)"
   ]
  },
  {
   "cell_type": "markdown",
   "metadata": {},
   "source": [
    "Estos son los \"odds\" - cuando por encima de 1 significa que la probabilidad sube. Vemos que cuadra con lo que vimos antes.\n",
    "\n",
    "Loss odds se convierten a probabilidad mediante la formula `odds = p / (1 - p)` pero tenemos que tener cuidado porque no estamos tratando de una regresion lineal! Los parametros no se suman para tener el resultado"
   ]
  },
  {
   "cell_type": "code",
   "execution_count": 17,
   "metadata": {},
   "outputs": [
    {
     "data": {
      "text/plain": [
       "const        0.414194\n",
       "following    0.500000\n",
       "video        0.703082\n",
       "dtype: float64"
      ]
     },
     "execution_count": 17,
     "metadata": {},
     "output_type": "execute_result"
    }
   ],
   "source": [
    "np.exp(log_model.params) / (np.exp(log_model.params) + 1)"
   ]
  },
  {
   "cell_type": "code",
   "execution_count": 18,
   "metadata": {},
   "outputs": [
    {
     "data": {
      "text/plain": [
       "0.21186869811823006"
      ]
     },
     "execution_count": 18,
     "metadata": {},
     "output_type": "execute_result"
    }
   ],
   "source": [
    "odds_1 = np.exp(log_model.params[0] + log_model.params[1] + log_model.params[2])\n",
    "odds_2 = np.exp(log_model.params[0] + log_model.params[1])\n",
    "\n",
    "(odds_1 / (odds_1 + 1)) - (odds_2 / (odds_2 + 1))"
   ]
  },
  {
   "cell_type": "markdown",
   "metadata": {},
   "source": [
    "Para entender mejor exactamente que efecto tiene cada variable, vamos a dibujar el grafico de los puntos"
   ]
  },
  {
   "cell_type": "code",
   "execution_count": 19,
   "metadata": {},
   "outputs": [
    {
     "data": {
      "image/png": "[encoded data removed]",
      "text/plain": [
       "<Figure size 640x480 with 1 Axes>"
      ]
     },
     "metadata": {},
     "output_type": "display_data"
    }
   ],
   "source": [
    "train['video'] = train.video.astype(bool)\n",
    "\n",
    "graph = (\n",
    "    pn.ggplot(train, pn.aes(x='following', y='predictions_1', color='video'))\n",
    "    + pn.geom_line()\n",
    "    + pn.ylab('Probability of being popular')\n",
    ")\n",
    "\n",
    "graph.draw();"
   ]
  },
  {
   "cell_type": "markdown",
   "metadata": {},
   "source": [
    "Asi apreciamos mucho mejor como afectan nuestras 2 variables. Obviamente esto seria más dificil con más variables pero por ahora nos sirve bien."
   ]
  },
  {
   "cell_type": "markdown",
   "metadata": {},
   "source": [
    "Ahora - como podemos evaluar la calidad de las predicciones? Vamos a utilizar metricas tipicas de clasificacion sobre las predicciones - tanto en el train como en el test."
   ]
  },
  {
   "cell_type": "code",
   "execution_count": 20,
   "metadata": {},
   "outputs": [],
   "source": [
    "test['predictions_1'] = log_model.predict(sm.add_constant(test[X_variables]))"
   ]
  },
  {
   "cell_type": "code",
   "execution_count": 21,
   "metadata": {},
   "outputs": [
    {
     "name": "stdout",
     "output_type": "stream",
     "text": [
      "The auc in train is 0.642 and in test it is 0.63, the accuracies are 59.6% and 59.6%\n"
     ]
    }
   ],
   "source": [
    "auc_train = sklearn.metrics.roc_auc_score(train[target], train['predictions_1'])\n",
    "auc_test = sklearn.metrics.roc_auc_score(test[target], test['predictions_1'])\n",
    "\n",
    "acc_train = sklearn.metrics.accuracy_score(train[target], train['predictions_1'].round())\n",
    "acc_test = sklearn.metrics.accuracy_score(test[target], test['predictions_1'].round())\n",
    "\n",
    "print(f'The auc in train is {auc_train:.3} and in test it is {auc_test:.3}, the accuracies are {acc_train:.1%} and {acc_test:.1%}')"
   ]
  },
  {
   "cell_type": "code",
   "execution_count": 22,
   "metadata": {},
   "outputs": [
    {
     "data": {
      "text/plain": [
       "array([[46.,  8.],\n",
       "       [32., 14.]])"
      ]
     },
     "execution_count": 22,
     "metadata": {},
     "output_type": "execute_result"
    }
   ],
   "source": [
    "(sklearn.metrics.confusion_matrix(test[target], test['predictions_1'].round()) / test.shape[0]).round(2) * 100"
   ]
  },
  {
   "cell_type": "markdown",
   "metadata": {},
   "source": [
    "## Mejorando el modelo\n",
    "Vamos a ver que cosas sencillas podemos hacer para mejorar nuestro modelo - desde usar nuevas variables hasta optimizando el modelo."
   ]
  },
  {
   "cell_type": "code",
   "execution_count": 23,
   "metadata": {},
   "outputs": [],
   "source": [
    "train['video'] = train.video.astype(int)"
   ]
  },
  {
   "cell_type": "code",
   "execution_count": 24,
   "metadata": {},
   "outputs": [
    {
     "name": "stdout",
     "output_type": "stream",
     "text": [
      "Optimization terminated successfully.\n",
      "         Current function value: 0.618219\n",
      "         Iterations 6\n",
      "                           Logit Regression Results                           \n",
      "==============================================================================\n",
      "Dep. Variable:             is_popular   No. Observations:                28406\n",
      "Model:                          Logit   Df Residuals:                    28403\n",
      "Method:                           MLE   Df Model:                            2\n",
      "Date:                Tue, 31 Aug 2021   Pseudo R-squ.:                  0.1042\n",
      "Time:                        13:39:32   Log-Likelihood:                -17561.\n",
      "converged:                       True   LL-Null:                       -19604.\n",
      "Covariance Type:            nonrobust   LLR p-value:                     0.000\n",
      "==============================================================================\n",
      "                 coef    std err          z      P>|z|      [0.025      0.975]\n",
      "------------------------------------------------------------------------------\n",
      "const         -0.9748      0.019    -51.400      0.000      -1.012      -0.938\n",
      "followers   6.779e-08   1.51e-09     44.800      0.000    6.48e-08    7.08e-08\n",
      "video          0.9064      0.030     29.829      0.000       0.847       0.966\n",
      "==============================================================================\n",
      "The auc in train is 0.732 and in test it is 0.734, the accuracies are 68.3% and 68.1%\n"
     ]
    }
   ],
   "source": [
    "# Probamos cambiar la variable\n",
    "X_variables = ['followers', 'video']\n",
    "\n",
    "log_model = sm.Logit(train[target], sm.add_constant(train[X_variables]))\n",
    "log_model = log_model.fit()\n",
    "\n",
    "train['predictions_2'] = log_model.predict(sm.add_constant(train[X_variables]))\n",
    "test['predictions_2'] = log_model.predict(sm.add_constant(test[X_variables]))\n",
    "\n",
    "print(log_model.summary())\n",
    "\n",
    "auc_train = sklearn.metrics.roc_auc_score(train[target], train['predictions_2'])\n",
    "auc_test = sklearn.metrics.roc_auc_score(test[target], test['predictions_2'])\n",
    "\n",
    "acc_train = sklearn.metrics.accuracy_score(train[target], train['predictions_2'].round())\n",
    "acc_test = sklearn.metrics.accuracy_score(test[target], test['predictions_2'].round())\n",
    "\n",
    "print(f'The auc in train is {auc_train:.3} and in test it is {auc_test:.3}, the accuracies are {acc_train:.1%} and {acc_test:.1%}')"
   ]
  },
  {
   "cell_type": "markdown",
   "metadata": {},
   "source": [
    "Note some interesting things would be like average likes per tweet\n",
    "\n",
    "Note that followers seems to \"crash\" the model, maybe because of scale - I think this is likely considering the coeffiecient"
   ]
  },
  {
   "cell_type": "code",
   "execution_count": 25,
   "metadata": {},
   "outputs": [],
   "source": [
    "train['verified'] = train.verified.astype(int)\n",
    "train['retweet'] = train.retweet.astype(int)\n",
    "\n",
    "test['verified'] = test.verified.astype(int)\n",
    "test['retweet'] = test.retweet.astype(int)"
   ]
  },
  {
   "cell_type": "code",
   "execution_count": 26,
   "metadata": {},
   "outputs": [
    {
     "name": "stdout",
     "output_type": "stream",
     "text": [
      "Warning: Maximum number of iterations has been exceeded.\n",
      "         Current function value: 0.486670\n",
      "         Iterations: 35\n",
      "                           Logit Regression Results                           \n",
      "==============================================================================\n",
      "Dep. Variable:             is_popular   No. Observations:                28406\n",
      "Model:                          Logit   Df Residuals:                    28397\n",
      "Method:                           MLE   Df Model:                            8\n",
      "Date:                Tue, 31 Aug 2021   Pseudo R-squ.:                  0.2948\n",
      "Time:                        13:39:33   Log-Likelihood:                -13824.\n",
      "converged:                      False   LL-Null:                       -19604.\n",
      "Covariance Type:            nonrobust   LLR p-value:                     0.000\n",
      "==============================================================================\n",
      "                 coef    std err          z      P>|z|      [0.025      0.975]\n",
      "------------------------------------------------------------------------------\n",
      "const          0.6361      0.091      6.976      0.000       0.457       0.815\n",
      "followers   1.007e-07   2.34e-09     43.067      0.000    9.62e-08    1.05e-07\n",
      "following   -4.03e-07   1.19e-07     -3.384      0.001   -6.36e-07    -1.7e-07\n",
      "video          1.0328      0.037     28.291      0.000       0.961       1.104\n",
      "retweet      -30.3825   6371.582     -0.005      0.996   -1.25e+04    1.25e+04\n",
      "tweets     -1.881e-06   1.69e-07    -11.138      0.000   -2.21e-06   -1.55e-06\n",
      "likes      -4.502e-06   3.75e-07    -11.999      0.000   -5.24e-06   -3.77e-06\n",
      "media      -4.185e-06   3.81e-07    -10.985      0.000   -4.93e-06   -3.44e-06\n",
      "verified      -0.9221      0.091    -10.098      0.000      -1.101      -0.743\n",
      "==============================================================================\n",
      "\n",
      "Possibly complete quasi-separation: A fraction 0.15 of observations can be\n",
      "perfectly predicted. This might indicate that there is complete\n",
      "quasi-separation. In this case some parameters will not be identified.\n",
      "The auc in train is 0.841 and in test it is 0.841, the accuracies are 74.4% and 74.4%\n"
     ]
    },
    {
     "name": "stderr",
     "output_type": "stream",
     "text": [
      "/home/andreas/anaconda3/lib/python3.6/site-packages/statsmodels/base/model.py:568: ConvergenceWarning: Maximum Likelihood optimization failed to converge. Check mle_retvals\n"
     ]
    }
   ],
   "source": [
    "# Probamos con mas variables ya que tiene buena pinta!\n",
    "X_variables = [\n",
    "    'followers', 'following', 'video', 'retweet', 'tweets', 'likes', 'media', 'verified'\n",
    "]\n",
    "\n",
    "log_model = sm.Logit(train[target], sm.add_constant(train[X_variables]))\n",
    "log_model = log_model.fit()\n",
    "\n",
    "train['predictions_3'] = log_model.predict(sm.add_constant(train[X_variables]))\n",
    "test['predictions_3'] = log_model.predict(sm.add_constant(test[X_variables]))\n",
    "\n",
    "print(log_model.summary())\n",
    "\n",
    "auc_train = sklearn.metrics.roc_auc_score(train[target], train['predictions_3'])\n",
    "auc_test = sklearn.metrics.roc_auc_score(test[target], test['predictions_3'])\n",
    "\n",
    "acc_train = sklearn.metrics.accuracy_score(train[target], train['predictions_3'].round())\n",
    "acc_test = sklearn.metrics.accuracy_score(test[target], test['predictions_3'].round())\n",
    "\n",
    "print(f'The auc in train is {auc_train:.3} and in test it is {auc_test:.3}, the accuracies are {acc_train:.1%} and {acc_test:.1%}')"
   ]
  },
  {
   "cell_type": "markdown",
   "metadata": {},
   "source": [
    "### Creando nuevas variables"
   ]
  },
  {
   "cell_type": "code",
   "execution_count": 27,
   "metadata": {},
   "outputs": [],
   "source": [
    "# Tiene hashtags?\n",
    "train['has_hashtags'] = (train.hashtags.str.len() > 2).astype(int)\n",
    "\n",
    "# Es en ingles\n",
    "train['is_english'] = (train.language == 'en').astype(int)\n",
    "\n",
    "# Media de likes etc. para sus posts del pasado\n",
    "train['avg_likes'] = train.likes / train.tweets\n",
    "train['followers_per_tweet'] = train.followers / train.tweets\n",
    "\n",
    "# Es un reply?\n",
    "train['is_reply'] = (train.reply_to.str.len() > 2).astype(int)"
   ]
  },
  {
   "cell_type": "code",
   "execution_count": 28,
   "metadata": {},
   "outputs": [
    {
     "name": "stdout",
     "output_type": "stream",
     "text": [
      "For variable has_hashtags:\n",
      "                mean       sem\n",
      "is_popular                    \n",
      "0           0.129378  0.002713\n",
      "1           0.135094  0.002986\n",
      "\n",
      "\n",
      "For variable is_english:\n",
      "                mean       sem\n",
      "is_popular                    \n",
      "0           0.768231  0.003411\n",
      "1           0.724775  0.003902\n",
      "\n",
      "\n",
      "For variable avg_likes:\n",
      "                mean       sem\n",
      "is_popular                    \n",
      "0           0.313166  0.009141\n",
      "1           0.197461  0.006216\n",
      "\n",
      "\n",
      "For variable followers_per_tweet:\n",
      "                  mean        sem\n",
      "is_popular                       \n",
      "0           154.246816   8.671468\n",
      "1           394.015048  13.538256\n",
      "\n",
      "\n",
      "For variable is_reply:\n",
      "                mean       sem\n",
      "is_popular                    \n",
      "0           0.144211  0.002840\n",
      "1           0.045642  0.001823\n",
      "\n",
      "\n"
     ]
    }
   ],
   "source": [
    "potential_variables = [\n",
    "    'has_hashtags', 'is_english', 'avg_likes', 'followers_per_tweet', 'is_reply'\n",
    "]\n",
    "\n",
    "for variable in potential_variables:\n",
    "    print(f'For variable {variable}:')\n",
    "    print(train.groupby(target)[variable].agg(['mean', 'sem']))\n",
    "    print('\\n')"
   ]
  },
  {
   "cell_type": "code",
   "execution_count": 29,
   "metadata": {},
   "outputs": [],
   "source": [
    "# Tiene hashtags?\n",
    "test['has_hashtags'] = (test.hashtags.str.len() > 2).astype(int)\n",
    "\n",
    "# Es en ingles\n",
    "test['is_english'] = (test.language == 'en').astype(int)\n",
    "\n",
    "# Media de likes etc. para sus posts del pasado\n",
    "test['avg_likes'] = test.likes / test.tweets\n",
    "test['followers_per_tweet'] = test.followers / test.tweets\n",
    "\n",
    "# Es un reply?\n",
    "test['is_reply'] = (test.reply_to.str.len() > 2).astype(int)"
   ]
  },
  {
   "cell_type": "code",
   "execution_count": 30,
   "metadata": {},
   "outputs": [
    {
     "name": "stdout",
     "output_type": "stream",
     "text": [
      "Optimization terminated successfully.\n",
      "         Current function value: 0.435133\n",
      "         Iterations 27\n",
      "                           Logit Regression Results                           \n",
      "==============================================================================\n",
      "Dep. Variable:             is_popular   No. Observations:                28406\n",
      "Model:                          Logit   Df Residuals:                    28392\n",
      "Method:                           MLE   Df Model:                           13\n",
      "Date:                Tue, 31 Aug 2021   Pseudo R-squ.:                  0.3695\n",
      "Time:                        13:39:33   Log-Likelihood:                -12360.\n",
      "converged:                       True   LL-Null:                       -19604.\n",
      "Covariance Type:            nonrobust   LLR p-value:                     0.000\n",
      "=======================================================================================\n",
      "                          coef    std err          z      P>|z|      [0.025      0.975]\n",
      "---------------------------------------------------------------------------------------\n",
      "const                   1.0818      0.098     10.998      0.000       0.889       1.275\n",
      "followers            1.105e-07   2.66e-09     41.499      0.000    1.05e-07    1.16e-07\n",
      "following           -3.526e-07   1.12e-07     -3.142      0.002   -5.73e-07   -1.33e-07\n",
      "video                   0.6528      0.040     16.464      0.000       0.575       0.731\n",
      "retweet              -253.8594   4.54e+48  -5.59e-47      1.000   -8.89e+48    8.89e+48\n",
      "tweets              -2.734e-06   1.96e-07    -13.972      0.000   -3.12e-06   -2.35e-06\n",
      "likes               -1.393e-05   1.06e-06    -13.094      0.000    -1.6e-05   -1.18e-05\n",
      "media               -4.071e-06   3.91e-07    -10.401      0.000   -4.84e-06    -3.3e-06\n",
      "verified               -0.3144      0.099     -3.166      0.002      -0.509      -0.120\n",
      "has_hashtags           -0.1264      0.053     -2.365      0.018      -0.231      -0.022\n",
      "is_english             -0.8163      0.042    -19.424      0.000      -0.899      -0.734\n",
      "avg_likes               0.8096      0.065     12.410      0.000       0.682       0.938\n",
      "followers_per_tweet     0.0003   5.05e-05      6.825      0.000       0.000       0.000\n",
      "is_reply               -3.0835      0.071    -43.223      0.000      -3.223      -2.944\n",
      "=======================================================================================\n",
      "\n",
      "Possibly complete quasi-separation: A fraction 0.15 of observations can be\n",
      "perfectly predicted. This might indicate that there is complete\n",
      "quasi-separation. In this case some parameters will not be identified.\n",
      "The auc in train is 0.884 and in test it is 0.88, the accuracies are 80.9% and 80.4%\n"
     ]
    }
   ],
   "source": [
    "# Probamos con mas variables ya que tiene buena pinta!\n",
    "X_variables = [\n",
    "    'followers', 'following', 'video', 'retweet', 'tweets', 'likes', 'media', 'verified', \n",
    "    'has_hashtags', 'is_english', 'avg_likes', 'followers_per_tweet', 'is_reply'\n",
    "]\n",
    "\n",
    "log_model = sm.Logit(train[target], sm.add_constant(train[X_variables]))\n",
    "log_model = log_model.fit()\n",
    "\n",
    "train['predictions_4'] = log_model.predict(sm.add_constant(train[X_variables]))\n",
    "test['predictions_4'] = log_model.predict(sm.add_constant(test[X_variables]))\n",
    "\n",
    "print(log_model.summary())\n",
    "\n",
    "auc_train = sklearn.metrics.roc_auc_score(train[target], train['predictions_4'])\n",
    "auc_test = sklearn.metrics.roc_auc_score(test[target], test['predictions_4'])\n",
    "\n",
    "acc_train = sklearn.metrics.accuracy_score(train[target], train['predictions_4'].round())\n",
    "acc_test = sklearn.metrics.accuracy_score(test[target], test['predictions_4'].round())\n",
    "\n",
    "print(f'The auc in train is {auc_train:.3} and in test it is {auc_test:.3}, the accuracies are {acc_train:.1%} and {acc_test:.1%}')"
   ]
  },
  {
   "cell_type": "markdown",
   "metadata": {},
   "source": [
    "Con los modelos lineales, las variables suelen ser la mejor fuente de mejoras. Statsmodels tiene una manera de entrenar el modelo que utiliza una \"formula\" - un concepto inventado en R que puede facilitar la declaración del modelo y \"interacciones\" entre variables."
   ]
  },
  {
   "cell_type": "code",
   "execution_count": 31,
   "metadata": {},
   "outputs": [],
   "source": [
    "import statsmodels.formula.api as smf"
   ]
  },
  {
   "cell_type": "code",
   "execution_count": 32,
   "metadata": {},
   "outputs": [
    {
     "name": "stdout",
     "output_type": "stream",
     "text": [
      "Optimization terminated successfully.\n",
      "         Current function value: 0.617856\n",
      "         Iterations 7\n",
      "                           Logit Regression Results                           \n",
      "==============================================================================\n",
      "Dep. Variable:             is_popular   No. Observations:                28406\n",
      "Model:                          Logit   Df Residuals:                    28402\n",
      "Method:                           MLE   Df Model:                            3\n",
      "Date:                Tue, 31 Aug 2021   Pseudo R-squ.:                  0.1047\n",
      "Time:                        13:39:34   Log-Likelihood:                -17551.\n",
      "converged:                       True   LL-Null:                       -19604.\n",
      "Covariance Type:            nonrobust   LLR p-value:                     0.000\n",
      "===================================================================================\n",
      "                      coef    std err          z      P>|z|      [0.025      0.975]\n",
      "-----------------------------------------------------------------------------------\n",
      "Intercept          -0.9518      0.020    -48.707      0.000      -0.990      -0.914\n",
      "followers        6.494e-08   1.61e-09     40.291      0.000    6.18e-08    6.81e-08\n",
      "video               0.7662      0.044     17.506      0.000       0.680       0.852\n",
      "followers:video  2.013e-08   4.62e-09      4.357      0.000    1.11e-08    2.92e-08\n",
      "===================================================================================\n",
      "The auc in train is 0.733 and in test it is 0.734, the accuracies are 68.4% and 68.4%\n"
     ]
    }
   ],
   "source": [
    "formula = f'{target} ~ followers * video'\n",
    "\n",
    "log_model = smf.logit(formula=formula, data=train)\n",
    "log_model = log_model.fit()\n",
    "\n",
    "train['predictions_5'] = log_model.predict(train)\n",
    "test['predictions_5'] = log_model.predict(test)\n",
    "\n",
    "print(log_model.summary())\n",
    "\n",
    "auc_train = sklearn.metrics.roc_auc_score(train[target], train['predictions_5'])\n",
    "auc_test = sklearn.metrics.roc_auc_score(test[target], test['predictions_5'])\n",
    "\n",
    "acc_train = sklearn.metrics.accuracy_score(train[target], train['predictions_5'].round())\n",
    "acc_test = sklearn.metrics.accuracy_score(test[target], test['predictions_5'].round())\n",
    "\n",
    "print(f'The auc in train is {auc_train:.3} and in test it is {auc_test:.3}, the accuracies are {acc_train:.1%} and {acc_test:.1%}')"
   ]
  },
  {
   "cell_type": "markdown",
   "metadata": {},
   "source": [
    "Y hemos conseguido una mejora muy ligera. Ahora no parece tan útil, pero es bueno saber esta tecnica porque los modelos lineales no son capaces de realmente \"combinar\" variables como algunos más complejos."
   ]
  },
  {
   "cell_type": "markdown",
   "metadata": {},
   "source": [
    "### La curva de precision recall\n",
    "La curva de precision recall es fundamental para entender los resultados y como se podrian aplicar a una problema real de negocio. Lo dibujamos utilizando scikit-learn."
   ]
  },
  {
   "cell_type": "code",
   "execution_count": 76,
   "metadata": {},
   "outputs": [],
   "source": [
    "results = []\n",
    "renames = {0 : 'recall', 1 : 'precision', 2 : 'threshold'}\n",
    "for i in range(1, 6):\n",
    "    result = pd.DataFrame(sklearn.metrics.precision_recall_curve(test[target], test[f'predictions_{i}'])).transpose().rename(columns=renames)\n",
    "    result['prediction_number'] = str(i)\n",
    "    results.append(result)\n",
    "    \n",
    "results = pd.concat(results) \n",
    "\n",
    "results['threshold'] = results.threshold.round(3)\n",
    "\n",
    "results = results.groupby(['prediction_number', 'threshold']).head(1)\n",
    "\n",
    "results['recall_diff'] = results.groupby('prediction_number').recall.diff()\n",
    "results['precision_diff'] = results.groupby('prediction_number').precision.diff()"
   ]
  },
  {
   "cell_type": "code",
   "execution_count": 78,
   "metadata": {},
   "outputs": [
    {
     "data": {
      "image/png": "[encoded data removed]",
      "text/plain": [
       "<Figure size 640x480 with 1 Axes>"
      ]
     },
     "metadata": {},
     "output_type": "display_data"
    }
   ],
   "source": [
    "c = (results.recall_diff >= 0)\n",
    "graph = (\n",
    "    pn.ggplot(results[c], pn.aes(x='recall', y='precision', color='prediction_number'))\n",
    "    + pn.geom_line(size=1.4)\n",
    ")\n",
    "\n",
    "graph.draw();"
   ]
  }
 ],
 "metadata": {
  "interpreter": {
   "hash": "a799a31ffb060199d96ce87ac1d0c04e7a9002aac8c78a4659f19355febe9701"
  },
  "kernelspec": {
   "display_name": "Python 3.9.7 64-bit ('base': conda)",
   "name": "python3"
  },
  "language_info": {
   "codemirror_mode": {
    "name": "ipython",
    "version": 3
   },
   "file_extension": ".py",
   "mimetype": "text/x-python",
   "name": "python",
   "nbconvert_exporter": "python",
   "pygments_lexer": "ipython3",
   "version": "3.9.7"
  }
 },
 "nbformat": 4,
 "nbformat_minor": 4
}
