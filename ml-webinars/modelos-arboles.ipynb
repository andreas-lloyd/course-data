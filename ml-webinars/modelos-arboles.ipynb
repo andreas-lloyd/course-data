{
 "cells": [
  {
   "cell_type": "markdown",
   "metadata": {},
   "source": [
    "# Machine learning con modelos basados en árboles en Python\n",
    "En este taller vamos a tener una vista general de como hacer entrenar modelos basados en arboles, principalmente utilizando las librerias de Pandas, scitkit-learn y xgboost. El objetivo es entender el proceso tipico sin profundizar demasiado en los distintos pasos. Vamos a centrarnos en un problema de clasificación aunque todas las tecnicas se pueden aplicar a un problema de regresion."
   ]
  },
  {
   "cell_type": "code",
   "execution_count": 3,
   "metadata": {},
   "outputs": [],
   "source": [
    "import pandas as pd \n",
    "import plotnine as pn\n",
    "import sklearn\n",
    "import sklearn.tree\n",
    "import sklearn.pipeline\n",
    "import sklearn.compose\n",
    "import sklearn.ensemble\n",
    "import numpy as np\n",
    "import xgboost\n",
    "from matplotlib import pyplot as plt\n",
    "\n",
    "\n",
    "data_location = 'tweet_and_user_data.csv'\n",
    "\n",
    "pd.options.display.max_columns = 500"
   ]
  },
  {
   "cell_type": "code",
   "execution_count": 4,
   "metadata": {},
   "outputs": [
    {
     "name": "stderr",
     "output_type": "stream",
     "text": [
      "/Users/andreas/miniforge3/lib/python3.9/site-packages/IPython/core/interactiveshell.py:3444: DtypeWarning: Columns (5) have mixed types.Specify dtype option on import or set low_memory=False.\n"
     ]
    }
   ],
   "source": [
    "tweet_data = pd.read_csv(data_location)"
   ]
  },
  {
   "cell_type": "code",
   "execution_count": 3,
   "metadata": {},
   "outputs": [
    {
     "data": {
      "text/plain": [
       "(40581, 56)"
      ]
     },
     "execution_count": 3,
     "metadata": {},
     "output_type": "execute_result"
    }
   ],
   "source": [
    "tweet_data.shape"
   ]
  },
  {
   "cell_type": "code",
   "execution_count": 4,
   "metadata": {},
   "outputs": [
    {
     "data": {
      "text/html": [
       "<div>\n",
       "<style scoped>\n",
       "    .dataframe tbody tr th:only-of-type {\n",
       "        vertical-align: middle;\n",
       "    }\n",
       "\n",
       "    .dataframe tbody tr th {\n",
       "        vertical-align: top;\n",
       "    }\n",
       "\n",
       "    .dataframe thead th {\n",
       "        text-align: right;\n",
       "    }\n",
       "</style>\n",
       "<table border=\"1\" class=\"dataframe\">\n",
       "  <thead>\n",
       "    <tr style=\"text-align: right;\">\n",
       "      <th></th>\n",
       "      <th>id</th>\n",
       "      <th>conversation_id</th>\n",
       "      <th>created_at</th>\n",
       "      <th>date</th>\n",
       "      <th>timezone</th>\n",
       "      <th>place</th>\n",
       "      <th>tweet</th>\n",
       "      <th>language</th>\n",
       "      <th>hashtags</th>\n",
       "      <th>cashtags</th>\n",
       "      <th>user_id</th>\n",
       "      <th>user_id_str</th>\n",
       "      <th>username</th>\n",
       "      <th>name</th>\n",
       "      <th>day</th>\n",
       "      <th>hour</th>\n",
       "      <th>link</th>\n",
       "      <th>urls</th>\n",
       "      <th>photos</th>\n",
       "      <th>video</th>\n",
       "      <th>thumbnail</th>\n",
       "      <th>retweet</th>\n",
       "      <th>nlikes</th>\n",
       "      <th>nreplies</th>\n",
       "      <th>nretweets</th>\n",
       "      <th>quote_url</th>\n",
       "      <th>search</th>\n",
       "      <th>near</th>\n",
       "      <th>geo</th>\n",
       "      <th>source</th>\n",
       "      <th>user_rt_id</th>\n",
       "      <th>user_rt</th>\n",
       "      <th>retweet_id</th>\n",
       "      <th>reply_to</th>\n",
       "      <th>retweet_date</th>\n",
       "      <th>translate</th>\n",
       "      <th>trans_src</th>\n",
       "      <th>trans_dest</th>\n",
       "      <th>id_user</th>\n",
       "      <th>name_user</th>\n",
       "      <th>username_user</th>\n",
       "      <th>bio</th>\n",
       "      <th>url</th>\n",
       "      <th>join_datetime</th>\n",
       "      <th>join_date</th>\n",
       "      <th>join_time</th>\n",
       "      <th>tweets</th>\n",
       "      <th>location</th>\n",
       "      <th>following</th>\n",
       "      <th>followers</th>\n",
       "      <th>likes</th>\n",
       "      <th>media</th>\n",
       "      <th>private</th>\n",
       "      <th>verified</th>\n",
       "      <th>avatar</th>\n",
       "      <th>background_image</th>\n",
       "    </tr>\n",
       "  </thead>\n",
       "  <tbody>\n",
       "    <tr>\n",
       "      <th>0</th>\n",
       "      <td>1425590913959612419</td>\n",
       "      <td>1425590913959612419</td>\n",
       "      <td>1.628722e+12</td>\n",
       "      <td>2021-08-12 00:52:14</td>\n",
       "      <td>200</td>\n",
       "      <td>NaN</td>\n",
       "      <td>RT @girlsalliance: We're so proud of the four ...</td>\n",
       "      <td>en</td>\n",
       "      <td>[]</td>\n",
       "      <td>[]</td>\n",
       "      <td>409486555</td>\n",
       "      <td>409486555</td>\n",
       "      <td>MichelleObama</td>\n",
       "      <td>Michelle Obama</td>\n",
       "      <td>4</td>\n",
       "      <td>0</td>\n",
       "      <td>https://twitter.com/MichelleObama/status/14255...</td>\n",
       "      <td>[]</td>\n",
       "      <td>[]</td>\n",
       "      <td>0</td>\n",
       "      <td>NaN</td>\n",
       "      <td>True</td>\n",
       "      <td>0</td>\n",
       "      <td>0</td>\n",
       "      <td>232</td>\n",
       "      <td>0</td>\n",
       "      <td>None</td>\n",
       "      <td>NaN</td>\n",
       "      <td>NaN</td>\n",
       "      <td>NaN</td>\n",
       "      <td>1.047165e+18</td>\n",
       "      <td>We're so proud of the four organizations in ou...</td>\n",
       "      <td>1.425590e+18</td>\n",
       "      <td>[]</td>\n",
       "      <td>2021-08-12 00:46:58 CEST</td>\n",
       "      <td>NaN</td>\n",
       "      <td>NaN</td>\n",
       "      <td>NaN</td>\n",
       "      <td>409486555</td>\n",
       "      <td>Michelle Obama</td>\n",
       "      <td>MichelleObama</td>\n",
       "      <td>Girl from the South Side and former First Lady...</td>\n",
       "      <td>https://t.co/HPYP9ad13Y</td>\n",
       "      <td>2011-11-10 20:13:01 UTC</td>\n",
       "      <td>2011-11-10</td>\n",
       "      <td>20:13:01 UTC</td>\n",
       "      <td>1770</td>\n",
       "      <td>Washington, DC</td>\n",
       "      <td>16</td>\n",
       "      <td>20854298</td>\n",
       "      <td>184</td>\n",
       "      <td>461</td>\n",
       "      <td>False</td>\n",
       "      <td>True</td>\n",
       "      <td>https://pbs.twimg.com/profile_images/136674780...</td>\n",
       "      <td>https://pbs.twimg.com/profile_banners/40948655...</td>\n",
       "    </tr>\n",
       "    <tr>\n",
       "      <th>1</th>\n",
       "      <td>1427736867739299841</td>\n",
       "      <td>1427736867739299841</td>\n",
       "      <td>1.629234e+12</td>\n",
       "      <td>2021-08-17 22:59:29</td>\n",
       "      <td>200</td>\n",
       "      <td>NaN</td>\n",
       "      <td>Some casual suggestions to 😏SLIDE😏 into when u...</td>\n",
       "      <td>en</td>\n",
       "      <td>['shoesdaytuesday', 'afterskewlslide']</td>\n",
       "      <td>[]</td>\n",
       "      <td>21447363</td>\n",
       "      <td>21447363</td>\n",
       "      <td>katyperry</td>\n",
       "      <td>KATY PERRY</td>\n",
       "      <td>2</td>\n",
       "      <td>22</td>\n",
       "      <td>https://twitter.com/katyperry/status/142773686...</td>\n",
       "      <td>[]</td>\n",
       "      <td>['https://pbs.twimg.com/media/E9BXG4YVkAAl3_A....</td>\n",
       "      <td>1</td>\n",
       "      <td>https://pbs.twimg.com/media/E9BXG4YVkAAl3_A.jpg</td>\n",
       "      <td>False</td>\n",
       "      <td>5266</td>\n",
       "      <td>368</td>\n",
       "      <td>408</td>\n",
       "      <td>0</td>\n",
       "      <td>None</td>\n",
       "      <td>NaN</td>\n",
       "      <td>NaN</td>\n",
       "      <td>NaN</td>\n",
       "      <td>NaN</td>\n",
       "      <td>NaN</td>\n",
       "      <td>NaN</td>\n",
       "      <td>[]</td>\n",
       "      <td>NaN</td>\n",
       "      <td>NaN</td>\n",
       "      <td>NaN</td>\n",
       "      <td>NaN</td>\n",
       "      <td>21447363</td>\n",
       "      <td>KATY PERRY</td>\n",
       "      <td>katyperry</td>\n",
       "      <td>Love. Light.</td>\n",
       "      <td>https://t.co/Rrwt0Kj2Q7</td>\n",
       "      <td>2009-02-20 23:45:56 UTC</td>\n",
       "      <td>2009-02-20</td>\n",
       "      <td>23:45:56 UTC</td>\n",
       "      <td>11420</td>\n",
       "      <td>NaN</td>\n",
       "      <td>235</td>\n",
       "      <td>108819032</td>\n",
       "      <td>7995</td>\n",
       "      <td>2170</td>\n",
       "      <td>False</td>\n",
       "      <td>True</td>\n",
       "      <td>https://pbs.twimg.com/profile_images/139246535...</td>\n",
       "      <td>https://pbs.twimg.com/profile_banners/21447363...</td>\n",
       "    </tr>\n",
       "    <tr>\n",
       "      <th>2</th>\n",
       "      <td>1427667300488937476</td>\n",
       "      <td>1427667300488937476</td>\n",
       "      <td>1.629217e+12</td>\n",
       "      <td>2021-08-17 18:23:03</td>\n",
       "      <td>200</td>\n",
       "      <td>NaN</td>\n",
       "      <td>RT @ValaAfshar: You are not your job.</td>\n",
       "      <td>en</td>\n",
       "      <td>[]</td>\n",
       "      <td>[]</td>\n",
       "      <td>21447363</td>\n",
       "      <td>21447363</td>\n",
       "      <td>katyperry</td>\n",
       "      <td>KATY PERRY</td>\n",
       "      <td>2</td>\n",
       "      <td>18</td>\n",
       "      <td>https://twitter.com/katyperry/status/142766730...</td>\n",
       "      <td>[]</td>\n",
       "      <td>[]</td>\n",
       "      <td>0</td>\n",
       "      <td>NaN</td>\n",
       "      <td>True</td>\n",
       "      <td>0</td>\n",
       "      <td>0</td>\n",
       "      <td>764</td>\n",
       "      <td>0</td>\n",
       "      <td>None</td>\n",
       "      <td>NaN</td>\n",
       "      <td>NaN</td>\n",
       "      <td>NaN</td>\n",
       "      <td>2.597252e+08</td>\n",
       "      <td>You are not your job.</td>\n",
       "      <td>1.427648e+18</td>\n",
       "      <td>[]</td>\n",
       "      <td>2021-08-17 17:05:53 CEST</td>\n",
       "      <td>NaN</td>\n",
       "      <td>NaN</td>\n",
       "      <td>NaN</td>\n",
       "      <td>21447363</td>\n",
       "      <td>KATY PERRY</td>\n",
       "      <td>katyperry</td>\n",
       "      <td>Love. Light.</td>\n",
       "      <td>https://t.co/Rrwt0Kj2Q7</td>\n",
       "      <td>2009-02-20 23:45:56 UTC</td>\n",
       "      <td>2009-02-20</td>\n",
       "      <td>23:45:56 UTC</td>\n",
       "      <td>11420</td>\n",
       "      <td>NaN</td>\n",
       "      <td>235</td>\n",
       "      <td>108819032</td>\n",
       "      <td>7995</td>\n",
       "      <td>2170</td>\n",
       "      <td>False</td>\n",
       "      <td>True</td>\n",
       "      <td>https://pbs.twimg.com/profile_images/139246535...</td>\n",
       "      <td>https://pbs.twimg.com/profile_banners/21447363...</td>\n",
       "    </tr>\n",
       "    <tr>\n",
       "      <th>3</th>\n",
       "      <td>1427667012105371652</td>\n",
       "      <td>1427667012105371652</td>\n",
       "      <td>1.629217e+12</td>\n",
       "      <td>2021-08-17 18:21:55</td>\n",
       "      <td>200</td>\n",
       "      <td>NaN</td>\n",
       "      <td>What have we become 😔😂  Toddler Cites Freedom ...</td>\n",
       "      <td>en</td>\n",
       "      <td>[]</td>\n",
       "      <td>[]</td>\n",
       "      <td>21447363</td>\n",
       "      <td>21447363</td>\n",
       "      <td>katyperry</td>\n",
       "      <td>KATY PERRY</td>\n",
       "      <td>2</td>\n",
       "      <td>18</td>\n",
       "      <td>https://twitter.com/katyperry/status/142766701...</td>\n",
       "      <td>['https://www.theonion.com/toddler-cites-freed...</td>\n",
       "      <td>[]</td>\n",
       "      <td>0</td>\n",
       "      <td>NaN</td>\n",
       "      <td>False</td>\n",
       "      <td>5638</td>\n",
       "      <td>476</td>\n",
       "      <td>438</td>\n",
       "      <td>0</td>\n",
       "      <td>None</td>\n",
       "      <td>NaN</td>\n",
       "      <td>NaN</td>\n",
       "      <td>NaN</td>\n",
       "      <td>NaN</td>\n",
       "      <td>NaN</td>\n",
       "      <td>NaN</td>\n",
       "      <td>[]</td>\n",
       "      <td>NaN</td>\n",
       "      <td>NaN</td>\n",
       "      <td>NaN</td>\n",
       "      <td>NaN</td>\n",
       "      <td>21447363</td>\n",
       "      <td>KATY PERRY</td>\n",
       "      <td>katyperry</td>\n",
       "      <td>Love. Light.</td>\n",
       "      <td>https://t.co/Rrwt0Kj2Q7</td>\n",
       "      <td>2009-02-20 23:45:56 UTC</td>\n",
       "      <td>2009-02-20</td>\n",
       "      <td>23:45:56 UTC</td>\n",
       "      <td>11420</td>\n",
       "      <td>NaN</td>\n",
       "      <td>235</td>\n",
       "      <td>108819032</td>\n",
       "      <td>7995</td>\n",
       "      <td>2170</td>\n",
       "      <td>False</td>\n",
       "      <td>True</td>\n",
       "      <td>https://pbs.twimg.com/profile_images/139246535...</td>\n",
       "      <td>https://pbs.twimg.com/profile_banners/21447363...</td>\n",
       "    </tr>\n",
       "    <tr>\n",
       "      <th>4</th>\n",
       "      <td>1427497703596990467</td>\n",
       "      <td>1427497703596990467</td>\n",
       "      <td>1.629177e+12</td>\n",
       "      <td>2021-08-17 07:09:08</td>\n",
       "      <td>200</td>\n",
       "      <td>NaN</td>\n",
       "      <td>The tech giants that refuse to massively addre...</td>\n",
       "      <td>en</td>\n",
       "      <td>[]</td>\n",
       "      <td>[]</td>\n",
       "      <td>21447363</td>\n",
       "      <td>21447363</td>\n",
       "      <td>katyperry</td>\n",
       "      <td>KATY PERRY</td>\n",
       "      <td>2</td>\n",
       "      <td>7</td>\n",
       "      <td>https://twitter.com/katyperry/status/142749770...</td>\n",
       "      <td>[]</td>\n",
       "      <td>[]</td>\n",
       "      <td>0</td>\n",
       "      <td>NaN</td>\n",
       "      <td>False</td>\n",
       "      <td>8810</td>\n",
       "      <td>546</td>\n",
       "      <td>1211</td>\n",
       "      <td>https://twitter.com/VICENews/status/1427311204...</td>\n",
       "      <td>None</td>\n",
       "      <td>NaN</td>\n",
       "      <td>NaN</td>\n",
       "      <td>NaN</td>\n",
       "      <td>NaN</td>\n",
       "      <td>NaN</td>\n",
       "      <td>NaN</td>\n",
       "      <td>[]</td>\n",
       "      <td>NaN</td>\n",
       "      <td>NaN</td>\n",
       "      <td>NaN</td>\n",
       "      <td>NaN</td>\n",
       "      <td>21447363</td>\n",
       "      <td>KATY PERRY</td>\n",
       "      <td>katyperry</td>\n",
       "      <td>Love. Light.</td>\n",
       "      <td>https://t.co/Rrwt0Kj2Q7</td>\n",
       "      <td>2009-02-20 23:45:56 UTC</td>\n",
       "      <td>2009-02-20</td>\n",
       "      <td>23:45:56 UTC</td>\n",
       "      <td>11420</td>\n",
       "      <td>NaN</td>\n",
       "      <td>235</td>\n",
       "      <td>108819032</td>\n",
       "      <td>7995</td>\n",
       "      <td>2170</td>\n",
       "      <td>False</td>\n",
       "      <td>True</td>\n",
       "      <td>https://pbs.twimg.com/profile_images/139246535...</td>\n",
       "      <td>https://pbs.twimg.com/profile_banners/21447363...</td>\n",
       "    </tr>\n",
       "  </tbody>\n",
       "</table>\n",
       "</div>"
      ],
      "text/plain": [
       "                    id      conversation_id    created_at  \\\n",
       "0  1425590913959612419  1425590913959612419  1.628722e+12   \n",
       "1  1427736867739299841  1427736867739299841  1.629234e+12   \n",
       "2  1427667300488937476  1427667300488937476  1.629217e+12   \n",
       "3  1427667012105371652  1427667012105371652  1.629217e+12   \n",
       "4  1427497703596990467  1427497703596990467  1.629177e+12   \n",
       "\n",
       "                  date  timezone place  \\\n",
       "0  2021-08-12 00:52:14       200   NaN   \n",
       "1  2021-08-17 22:59:29       200   NaN   \n",
       "2  2021-08-17 18:23:03       200   NaN   \n",
       "3  2021-08-17 18:21:55       200   NaN   \n",
       "4  2021-08-17 07:09:08       200   NaN   \n",
       "\n",
       "                                               tweet language  \\\n",
       "0  RT @girlsalliance: We're so proud of the four ...       en   \n",
       "1  Some casual suggestions to 😏SLIDE😏 into when u...       en   \n",
       "2              RT @ValaAfshar: You are not your job.       en   \n",
       "3  What have we become 😔😂  Toddler Cites Freedom ...       en   \n",
       "4  The tech giants that refuse to massively addre...       en   \n",
       "\n",
       "                                 hashtags cashtags    user_id  user_id_str  \\\n",
       "0                                      []       []  409486555    409486555   \n",
       "1  ['shoesdaytuesday', 'afterskewlslide']       []   21447363     21447363   \n",
       "2                                      []       []   21447363     21447363   \n",
       "3                                      []       []   21447363     21447363   \n",
       "4                                      []       []   21447363     21447363   \n",
       "\n",
       "        username            name  day  hour  \\\n",
       "0  MichelleObama  Michelle Obama    4     0   \n",
       "1      katyperry      KATY PERRY    2    22   \n",
       "2      katyperry      KATY PERRY    2    18   \n",
       "3      katyperry      KATY PERRY    2    18   \n",
       "4      katyperry      KATY PERRY    2     7   \n",
       "\n",
       "                                                link  \\\n",
       "0  https://twitter.com/MichelleObama/status/14255...   \n",
       "1  https://twitter.com/katyperry/status/142773686...   \n",
       "2  https://twitter.com/katyperry/status/142766730...   \n",
       "3  https://twitter.com/katyperry/status/142766701...   \n",
       "4  https://twitter.com/katyperry/status/142749770...   \n",
       "\n",
       "                                                urls  \\\n",
       "0                                                 []   \n",
       "1                                                 []   \n",
       "2                                                 []   \n",
       "3  ['https://www.theonion.com/toddler-cites-freed...   \n",
       "4                                                 []   \n",
       "\n",
       "                                              photos  video  \\\n",
       "0                                                 []      0   \n",
       "1  ['https://pbs.twimg.com/media/E9BXG4YVkAAl3_A....      1   \n",
       "2                                                 []      0   \n",
       "3                                                 []      0   \n",
       "4                                                 []      0   \n",
       "\n",
       "                                         thumbnail  retweet  nlikes  nreplies  \\\n",
       "0                                              NaN     True       0         0   \n",
       "1  https://pbs.twimg.com/media/E9BXG4YVkAAl3_A.jpg    False    5266       368   \n",
       "2                                              NaN     True       0         0   \n",
       "3                                              NaN    False    5638       476   \n",
       "4                                              NaN    False    8810       546   \n",
       "\n",
       "   nretweets                                          quote_url search  near  \\\n",
       "0        232                                                  0   None   NaN   \n",
       "1        408                                                  0   None   NaN   \n",
       "2        764                                                  0   None   NaN   \n",
       "3        438                                                  0   None   NaN   \n",
       "4       1211  https://twitter.com/VICENews/status/1427311204...   None   NaN   \n",
       "\n",
       "   geo  source    user_rt_id  \\\n",
       "0  NaN     NaN  1.047165e+18   \n",
       "1  NaN     NaN           NaN   \n",
       "2  NaN     NaN  2.597252e+08   \n",
       "3  NaN     NaN           NaN   \n",
       "4  NaN     NaN           NaN   \n",
       "\n",
       "                                             user_rt    retweet_id reply_to  \\\n",
       "0  We're so proud of the four organizations in ou...  1.425590e+18       []   \n",
       "1                                                NaN           NaN       []   \n",
       "2                              You are not your job.  1.427648e+18       []   \n",
       "3                                                NaN           NaN       []   \n",
       "4                                                NaN           NaN       []   \n",
       "\n",
       "               retweet_date  translate  trans_src  trans_dest    id_user  \\\n",
       "0  2021-08-12 00:46:58 CEST        NaN        NaN         NaN  409486555   \n",
       "1                       NaN        NaN        NaN         NaN   21447363   \n",
       "2  2021-08-17 17:05:53 CEST        NaN        NaN         NaN   21447363   \n",
       "3                       NaN        NaN        NaN         NaN   21447363   \n",
       "4                       NaN        NaN        NaN         NaN   21447363   \n",
       "\n",
       "        name_user  username_user  \\\n",
       "0  Michelle Obama  MichelleObama   \n",
       "1      KATY PERRY      katyperry   \n",
       "2      KATY PERRY      katyperry   \n",
       "3      KATY PERRY      katyperry   \n",
       "4      KATY PERRY      katyperry   \n",
       "\n",
       "                                                 bio                      url  \\\n",
       "0  Girl from the South Side and former First Lady...  https://t.co/HPYP9ad13Y   \n",
       "1                                       Love. Light.  https://t.co/Rrwt0Kj2Q7   \n",
       "2                                       Love. Light.  https://t.co/Rrwt0Kj2Q7   \n",
       "3                                       Love. Light.  https://t.co/Rrwt0Kj2Q7   \n",
       "4                                       Love. Light.  https://t.co/Rrwt0Kj2Q7   \n",
       "\n",
       "             join_datetime   join_date     join_time  tweets        location  \\\n",
       "0  2011-11-10 20:13:01 UTC  2011-11-10  20:13:01 UTC    1770  Washington, DC   \n",
       "1  2009-02-20 23:45:56 UTC  2009-02-20  23:45:56 UTC   11420             NaN   \n",
       "2  2009-02-20 23:45:56 UTC  2009-02-20  23:45:56 UTC   11420             NaN   \n",
       "3  2009-02-20 23:45:56 UTC  2009-02-20  23:45:56 UTC   11420             NaN   \n",
       "4  2009-02-20 23:45:56 UTC  2009-02-20  23:45:56 UTC   11420             NaN   \n",
       "\n",
       "   following  followers  likes  media  private  verified  \\\n",
       "0         16   20854298    184    461    False      True   \n",
       "1        235  108819032   7995   2170    False      True   \n",
       "2        235  108819032   7995   2170    False      True   \n",
       "3        235  108819032   7995   2170    False      True   \n",
       "4        235  108819032   7995   2170    False      True   \n",
       "\n",
       "                                              avatar  \\\n",
       "0  https://pbs.twimg.com/profile_images/136674780...   \n",
       "1  https://pbs.twimg.com/profile_images/139246535...   \n",
       "2  https://pbs.twimg.com/profile_images/139246535...   \n",
       "3  https://pbs.twimg.com/profile_images/139246535...   \n",
       "4  https://pbs.twimg.com/profile_images/139246535...   \n",
       "\n",
       "                                    background_image  \n",
       "0  https://pbs.twimg.com/profile_banners/40948655...  \n",
       "1  https://pbs.twimg.com/profile_banners/21447363...  \n",
       "2  https://pbs.twimg.com/profile_banners/21447363...  \n",
       "3  https://pbs.twimg.com/profile_banners/21447363...  \n",
       "4  https://pbs.twimg.com/profile_banners/21447363...  "
      ]
     },
     "execution_count": 4,
     "metadata": {},
     "output_type": "execute_result"
    }
   ],
   "source": [
    "tweet_data.head()"
   ]
  },
  {
   "cell_type": "markdown",
   "metadata": {},
   "source": [
    "## Nuestra prediccion\n",
    "Miramos nuestro target y las variables que pueden ser importantes, finalizando con el train-test split"
   ]
  },
  {
   "cell_type": "code",
   "execution_count": 5,
   "metadata": {},
   "outputs": [
    {
     "data": {
      "text/plain": [
       "0.50       39.0\n",
       "0.75      198.0\n",
       "0.90     1318.0\n",
       "0.95     4319.0\n",
       "0.99    25868.0\n",
       "Name: nlikes, dtype: float64"
      ]
     },
     "execution_count": 5,
     "metadata": {},
     "output_type": "execute_result"
    }
   ],
   "source": [
    "tweet_data.nlikes.quantile([0.5, 0.75, 0.9, 0.95, 0.99])"
   ]
  },
  {
   "cell_type": "code",
   "execution_count": 6,
   "metadata": {},
   "outputs": [
    {
     "data": {
      "image/png": "[encoded data removed]",
      "text/plain": [
       "<Figure size 640x480 with 1 Axes>"
      ]
     },
     "metadata": {},
     "output_type": "display_data"
    }
   ],
   "source": [
    "graph = (\n",
    "    pn.ggplot(tweet_data, pn.aes(x='0', y='nlikes'))\n",
    "    + pn.geom_boxplot()\n",
    "    + pn.coord_cartesian(ylim=[0, tweet_data.nlikes.quantile(0.90)])\n",
    "    + pn.xlab('')\n",
    ")\n",
    "\n",
    "graph.draw();"
   ]
  },
  {
   "cell_type": "code",
   "execution_count": 7,
   "metadata": {},
   "outputs": [
    {
     "data": {
      "text/plain": [
       "0    75.099184\n",
       "1    24.900816\n",
       "Name: is_popular, dtype: float64"
      ]
     },
     "execution_count": 7,
     "metadata": {},
     "output_type": "execute_result"
    }
   ],
   "source": [
    "target = 'is_popular'\n",
    "cutoff = 200\n",
    "tweet_data[target] = (tweet_data.nlikes >= cutoff).astype(int)\n",
    "\n",
    "tweet_data[target].value_counts(normalize=True, dropna=False) * 100"
   ]
  },
  {
   "cell_type": "markdown",
   "metadata": {},
   "source": [
    "## Las variables\n",
    "Un punto muy fuerte de los modelos basados en arboles es que son muy robustos y capaces de manejar muchas variables. Por esto vamos a dedicar un poco de tiempo en crear nuevas variables."
   ]
  },
  {
   "cell_type": "code",
   "execution_count": 8,
   "metadata": {},
   "outputs": [],
   "source": [
    "# Tiene hashtags?\n",
    "tweet_data['number_hashtags'] = tweet_data.hashtags.str.count(',')\n",
    "tweet_data['num_replies_to'] = tweet_data.reply_to.str.count('{')\n",
    "tweet_data['num_photos'] = tweet_data.photos.str.count(',')\n",
    "tweet_data['num_urls'] = tweet_data.urls.str.count(',')\n",
    "\n",
    "\n",
    "# Media de likes etc. para sus posts del pasado\n",
    "tweet_data['avg_likes'] = tweet_data.likes / tweet_data.tweets\n",
    "tweet_data['avg_media'] = tweet_data.media / tweet_data.tweets\n",
    "tweet_data['followers_per_tweet'] = tweet_data.followers / tweet_data.tweets\n",
    "\n",
    "# Otras cosas\n",
    "tweet_data['user_name_equal_name'] = tweet_data.name.str.lower().str.replace(' ', '') == tweet_data.username\n",
    "tweet_data['has_location'] = tweet_data.location.notna()\n",
    "tweet_data['num_days_created'] = (pd.to_datetime('2022-01-01') - pd.to_datetime(tweet_data.join_date)).dt.days\n",
    "tweet_data['tweets_p_day'] = tweet_data.tweets / tweet_data.num_days_created\n",
    "tweet_data['bio_length'] = tweet_data.bio.str.len()\n",
    "tweet_data['tweet_length'] = tweet_data.tweet.str.len()"
   ]
  },
  {
   "cell_type": "markdown",
   "metadata": {},
   "source": [
    "## Dividir train, test y analizar correlaciones"
   ]
  },
  {
   "cell_type": "code",
   "execution_count": 9,
   "metadata": {},
   "outputs": [
    {
     "name": "stdout",
     "output_type": "stream",
     "text": [
      "(28406, 70)\n",
      "(12175, 70)\n"
     ]
    }
   ],
   "source": [
    "train, test = sklearn.model_selection.train_test_split(tweet_data, train_size=0.7, random_state=0)\n",
    "\n",
    "train = train.reset_index(drop=True)\n",
    "test = test.reset_index(drop=True)\n",
    "\n",
    "print(train.shape)\n",
    "print(test.shape)"
   ]
  },
  {
   "cell_type": "code",
   "execution_count": 10,
   "metadata": {},
   "outputs": [
    {
     "name": "stdout",
     "output_type": "stream",
     "text": [
      "For variable followers:\n",
      "                    mean            sem\n",
      "is_popular                             \n",
      "0           7.530487e+06   66970.505890\n",
      "1           1.700020e+07  210092.411983\n",
      "\n",
      "\n",
      "For variable following:\n",
      "                    mean          sem\n",
      "is_popular                           \n",
      "0           14431.596625  1337.837919\n",
      "1            4573.778815   321.842591\n",
      "\n",
      "\n",
      "For variable video:\n",
      "                mean       sem\n",
      "is_popular                    \n",
      "0           0.180830  0.002635\n",
      "1           0.370386  0.005743\n",
      "\n",
      "\n",
      "For variable retweet:\n",
      "                mean       sem\n",
      "is_popular                    \n",
      "0           0.202859  0.002753\n",
      "1           0.000000  0.000000\n",
      "\n",
      "\n",
      "For variable tweets:\n",
      "                     mean          sem\n",
      "is_popular                            \n",
      "0           190333.078369  1005.550707\n",
      "1           140349.329232  1777.049067\n",
      "\n",
      "\n",
      "For variable likes:\n",
      "                    mean         sem\n",
      "is_popular                          \n",
      "0           15862.967518  394.998123\n",
      "1            8747.476877  329.098631\n",
      "\n",
      "\n",
      "For variable media:\n",
      "                    mean         sem\n",
      "is_popular                          \n",
      "0           55575.204921  442.929344\n",
      "1           35728.517183  625.923135\n",
      "\n",
      "\n",
      "For variable verified:\n",
      "                mean       sem\n",
      "is_popular                    \n",
      "0           0.980455  0.000948\n",
      "1           0.971857  0.001967\n",
      "\n",
      "\n",
      "For variable number_hashtags:\n",
      "                mean       sem\n",
      "is_popular                    \n",
      "0           0.053433  0.002486\n",
      "1           0.070287  0.004477\n",
      "\n",
      "\n",
      "For variable num_replies_to:\n",
      "                mean       sem\n",
      "is_popular                    \n",
      "0           0.184204  0.008090\n",
      "1           0.064206  0.004735\n",
      "\n",
      "\n",
      "For variable num_photos:\n",
      "                mean       sem\n",
      "is_popular                    \n",
      "0           0.016171  0.001285\n",
      "1           0.086692  0.005385\n",
      "\n",
      "\n",
      "For variable num_urls:\n",
      "                mean       sem\n",
      "is_popular                    \n",
      "0           0.008390  0.000838\n",
      "1           0.005657  0.001018\n",
      "\n",
      "\n",
      "For variable avg_likes:\n",
      "                mean       sem\n",
      "is_popular                    \n",
      "0           0.262624  0.006859\n",
      "1           0.251271  0.009877\n",
      "\n",
      "\n",
      "For variable avg_media:\n",
      "                mean       sem\n",
      "is_popular                    \n",
      "0           0.250437  0.001309\n",
      "1           0.236005  0.002148\n",
      "\n",
      "\n",
      "For variable followers_per_tweet:\n",
      "                  mean        sem\n",
      "is_popular                       \n",
      "0           143.271122   6.360436\n",
      "1           631.634710  24.413642\n",
      "\n",
      "\n",
      "For variable user_name_equal_name:\n",
      "                mean       sem\n",
      "is_popular                    \n",
      "0           0.149895  0.002444\n",
      "1           0.131665  0.004021\n",
      "\n",
      "\n",
      "For variable has_location:\n",
      "                mean       sem\n",
      "is_popular                    \n",
      "0           0.703164  0.003128\n",
      "1           0.723660  0.005318\n",
      "\n",
      "\n",
      "For variable num_days_created:\n",
      "                   mean       sem\n",
      "is_popular                       \n",
      "0           4782.241341  4.135397\n",
      "1           4605.757319  9.043014\n",
      "\n",
      "\n",
      "For variable tweets_p_day:\n",
      "                 mean       sem\n",
      "is_popular                     \n",
      "0           38.481939  0.199058\n",
      "1           28.469893  0.343397\n",
      "\n",
      "\n",
      "For variable bio_length:\n",
      "                 mean       sem\n",
      "is_popular                     \n",
      "0           92.052323  0.309578\n",
      "1           90.077319  0.595857\n",
      "\n",
      "\n",
      "For variable tweet_length:\n",
      "                  mean       sem\n",
      "is_popular                      \n",
      "0           129.349988  0.464858\n",
      "1           148.063499  1.031492\n",
      "\n",
      "\n"
     ]
    }
   ],
   "source": [
    "potential_variables = [\n",
    "    'followers', 'following', 'video', 'retweet', 'tweets', 'likes', 'media', 'verified',\n",
    "    'number_hashtags', 'num_replies_to', 'num_photos', 'num_urls', 'avg_likes', 'avg_media',\n",
    "    'followers_per_tweet', 'user_name_equal_name', 'has_location', 'num_days_created',\n",
    "    'tweets_p_day', 'bio_length', 'tweet_length'\n",
    "]\n",
    "\n",
    "for variable in potential_variables:\n",
    "    print(f'For variable {variable}:')\n",
    "    print(train.groupby(target)[variable].agg(['mean', 'sem']))\n",
    "    print('\\n')"
   ]
  },
  {
   "cell_type": "code",
   "execution_count": 11,
   "metadata": {},
   "outputs": [
    {
     "data": {
      "text/plain": [
       "followers                 0\n",
       "following                 0\n",
       "video                     0\n",
       "retweet                   0\n",
       "tweets                    0\n",
       "likes                     0\n",
       "media                     0\n",
       "verified                  0\n",
       "number_hashtags           0\n",
       "num_replies_to            0\n",
       "num_photos                0\n",
       "num_urls                  0\n",
       "avg_likes                 0\n",
       "avg_media                 0\n",
       "followers_per_tweet       0\n",
       "user_name_equal_name      0\n",
       "has_location              0\n",
       "num_days_created          0\n",
       "tweets_p_day              0\n",
       "bio_length              427\n",
       "tweet_length              0\n",
       "dtype: int64"
      ]
     },
     "execution_count": 11,
     "metadata": {},
     "output_type": "execute_result"
    }
   ],
   "source": [
    "train[potential_variables].isna().sum()"
   ]
  },
  {
   "cell_type": "code",
   "execution_count": 12,
   "metadata": {},
   "outputs": [
    {
     "data": {
      "text/plain": [
       "0.0"
      ]
     },
     "execution_count": 12,
     "metadata": {},
     "output_type": "execute_result"
    }
   ],
   "source": [
    "(train.bio_length == 0).mean()"
   ]
  },
  {
   "cell_type": "code",
   "execution_count": 13,
   "metadata": {},
   "outputs": [],
   "source": [
    "train['bio_length'] = train.bio_length.fillna(0)\n",
    "test['bio_length'] = test.bio_length.fillna(0)"
   ]
  },
  {
   "cell_type": "markdown",
   "metadata": {},
   "source": [
    "## Introducción a nuestros modelos\n",
    "Vamos a empezar entrenando un arbol de decision para entender lo que hay por debajo de los arboles de decision."
   ]
  },
  {
   "cell_type": "code",
   "execution_count": 14,
   "metadata": {},
   "outputs": [],
   "source": [
    "numeric_variables = potential_variables\n",
    "cat_variables = ['language']\n",
    "\n",
    "cat_pipeline = sklearn.pipeline.Pipeline(\n",
    "    [\n",
    "        ('encoder', sklearn.preprocessing.OneHotEncoder(handle_unknown='ignore'))\n",
    "    ]\n",
    ")\n",
    "\n",
    "preprocessing = sklearn.compose.ColumnTransformer(\n",
    "    [\n",
    "        ('categorical', cat_pipeline, cat_variables),\n",
    "        ('numeric', 'passthrough', numeric_variables)\n",
    "    ]\n",
    ")\n",
    "\n",
    "full_pipeline = sklearn.pipeline.Pipeline(\n",
    "    [\n",
    "        ('preprocessing', preprocessing),\n",
    "        ('classifier', sklearn.tree.DecisionTreeClassifier(random_state=0))\n",
    "    ]\n",
    ")\n",
    "\n",
    "X_variables = numeric_variables + cat_variables\n",
    "model_no = 1\n",
    "pred_col = f'predictions_{model_no}'\n",
    "\n",
    "full_pipeline.fit(train[X_variables], train[target])\n",
    "train[pred_col] = full_pipeline.predict_proba(train[X_variables])[:,1]\n",
    "test[pred_col] = full_pipeline.predict_proba(test[X_variables])[:,1]\n"
   ]
  },
  {
   "cell_type": "code",
   "execution_count": 15,
   "metadata": {},
   "outputs": [
    {
     "data": {
      "text/html": [
       "<div>\n",
       "<style scoped>\n",
       "    .dataframe tbody tr th:only-of-type {\n",
       "        vertical-align: middle;\n",
       "    }\n",
       "\n",
       "    .dataframe tbody tr th {\n",
       "        vertical-align: top;\n",
       "    }\n",
       "\n",
       "    .dataframe thead th {\n",
       "        text-align: right;\n",
       "    }\n",
       "</style>\n",
       "<table border=\"1\" class=\"dataframe\">\n",
       "  <thead>\n",
       "    <tr style=\"text-align: right;\">\n",
       "      <th></th>\n",
       "      <th>is_popular</th>\n",
       "      <th>predictions_1</th>\n",
       "      <th>predictions_1</th>\n",
       "    </tr>\n",
       "  </thead>\n",
       "  <tbody>\n",
       "    <tr>\n",
       "      <th>0</th>\n",
       "      <td>0</td>\n",
       "      <td>0.0</td>\n",
       "      <td>False</td>\n",
       "    </tr>\n",
       "    <tr>\n",
       "      <th>1</th>\n",
       "      <td>0</td>\n",
       "      <td>0.0</td>\n",
       "      <td>False</td>\n",
       "    </tr>\n",
       "    <tr>\n",
       "      <th>2</th>\n",
       "      <td>0</td>\n",
       "      <td>0.0</td>\n",
       "      <td>False</td>\n",
       "    </tr>\n",
       "    <tr>\n",
       "      <th>3</th>\n",
       "      <td>1</td>\n",
       "      <td>1.0</td>\n",
       "      <td>True</td>\n",
       "    </tr>\n",
       "    <tr>\n",
       "      <th>4</th>\n",
       "      <td>0</td>\n",
       "      <td>0.0</td>\n",
       "      <td>False</td>\n",
       "    </tr>\n",
       "    <tr>\n",
       "      <th>...</th>\n",
       "      <td>...</td>\n",
       "      <td>...</td>\n",
       "      <td>...</td>\n",
       "    </tr>\n",
       "    <tr>\n",
       "      <th>28401</th>\n",
       "      <td>1</td>\n",
       "      <td>1.0</td>\n",
       "      <td>True</td>\n",
       "    </tr>\n",
       "    <tr>\n",
       "      <th>28402</th>\n",
       "      <td>0</td>\n",
       "      <td>0.0</td>\n",
       "      <td>False</td>\n",
       "    </tr>\n",
       "    <tr>\n",
       "      <th>28403</th>\n",
       "      <td>0</td>\n",
       "      <td>0.0</td>\n",
       "      <td>False</td>\n",
       "    </tr>\n",
       "    <tr>\n",
       "      <th>28404</th>\n",
       "      <td>0</td>\n",
       "      <td>0.0</td>\n",
       "      <td>False</td>\n",
       "    </tr>\n",
       "    <tr>\n",
       "      <th>28405</th>\n",
       "      <td>1</td>\n",
       "      <td>1.0</td>\n",
       "      <td>True</td>\n",
       "    </tr>\n",
       "  </tbody>\n",
       "</table>\n",
       "<p>28406 rows × 3 columns</p>\n",
       "</div>"
      ],
      "text/plain": [
       "       is_popular  predictions_1  predictions_1\n",
       "0               0            0.0          False\n",
       "1               0            0.0          False\n",
       "2               0            0.0          False\n",
       "3               1            1.0           True\n",
       "4               0            0.0          False\n",
       "...           ...            ...            ...\n",
       "28401           1            1.0           True\n",
       "28402           0            0.0          False\n",
       "28403           0            0.0          False\n",
       "28404           0            0.0          False\n",
       "28405           1            1.0           True\n",
       "\n",
       "[28406 rows x 3 columns]"
      ]
     },
     "execution_count": 15,
     "metadata": {},
     "output_type": "execute_result"
    }
   ],
   "source": [
    "pd.concat([\n",
    "    train[target], train[f'predictions_{model_no}'], train[f'predictions_{model_no}'].round().astype(bool)\n",
    "], axis=1)"
   ]
  },
  {
   "cell_type": "code",
   "execution_count": 16,
   "metadata": {},
   "outputs": [
    {
     "name": "stdout",
     "output_type": "stream",
     "text": [
      "The auc in train is 0.995 and in test it is 0.853, the accuracies are 96.1% and 87.0%\n"
     ]
    }
   ],
   "source": [
    "auc_train = sklearn.metrics.roc_auc_score(train[target], train[pred_col])\n",
    "auc_test = sklearn.metrics.roc_auc_score(test[target], test[pred_col])\n",
    "\n",
    "acc_train = sklearn.metrics.accuracy_score(train[target], train[pred_col].round())\n",
    "acc_test = sklearn.metrics.accuracy_score(test[target], test[pred_col].round())\n",
    "\n",
    "print(f'The auc in train is {auc_train:.3} and in test it is {auc_test:.3}, the accuracies are {acc_train:.1%} and {acc_test:.1%}')"
   ]
  },
  {
   "cell_type": "markdown",
   "metadata": {},
   "source": [
    "Desde el primer momento los resultados no parecen malos - el modelo ha podido incorporar casi todos los datos y producir un resultado bastante bueno frente al baseline inicial de 75%. Pero si estamos atentos - vemos que hay una diferencia importante entre los resultados de train y test. Parece que existe algo de overfitting en nuestro ejemplo."
   ]
  },
  {
   "cell_type": "code",
   "execution_count": 23,
   "metadata": {},
   "outputs": [
    {
     "name": "stdout",
     "output_type": "stream",
     "text": [
      "The auc in train is 0.924 and in test it is 0.923, the accuracies are 86.5% and 86.0%\n"
     ]
    }
   ],
   "source": [
    "numeric_variables = potential_variables\n",
    "cat_variables = ['language']\n",
    "\n",
    "cat_pipeline = sklearn.pipeline.Pipeline(\n",
    "    [\n",
    "        ('encoder', sklearn.preprocessing.OneHotEncoder(handle_unknown='ignore'))\n",
    "    ]\n",
    ")\n",
    "\n",
    "preprocessing = sklearn.compose.ColumnTransformer(\n",
    "    [\n",
    "        ('categorical', cat_pipeline, cat_variables),\n",
    "        ('numeric', 'passthrough', numeric_variables)\n",
    "    ]\n",
    ")\n",
    "\n",
    "full_pipeline = sklearn.pipeline.Pipeline(\n",
    "    [\n",
    "        ('preprocessing', preprocessing),\n",
    "        ('classifier', sklearn.tree.DecisionTreeClassifier(random_state=0, max_depth=7, min_samples_leaf=5))\n",
    "    ]\n",
    ")\n",
    "\n",
    "X_variables = numeric_variables + cat_variables\n",
    "model_no = 2\n",
    "pred_col = f'predictions_{model_no}'\n",
    "\n",
    "full_pipeline.fit(train[X_variables], train[target])\n",
    "train[pred_col] = full_pipeline.predict_proba(train[X_variables])[:,1]\n",
    "test[pred_col] = full_pipeline.predict_proba(test[X_variables])[:,1]\n",
    "\n",
    "auc_train = sklearn.metrics.roc_auc_score(train[target], train[pred_col])\n",
    "auc_test = sklearn.metrics.roc_auc_score(test[target], test[pred_col])\n",
    "\n",
    "acc_train = sklearn.metrics.accuracy_score(train[target], train[pred_col].round())\n",
    "acc_test = sklearn.metrics.accuracy_score(test[target], test[pred_col].round())\n",
    "\n",
    "print(f'The auc in train is {auc_train:.3} and in test it is {auc_test:.3}, the accuracies are {acc_train:.1%} and {acc_test:.1%}')\n"
   ]
  },
  {
   "cell_type": "markdown",
   "metadata": {},
   "source": [
    "Vemos que cambiando unos parametros simples, somos capaces de quitar mucho de esta diferencia. Las claves para regular el overfitting con los modelos basados en arboles son:\n",
    "\n",
    "* La profundidad del arbol `max_depth`\n",
    "* El numero de ejemplos minimo en un nodo / split `min_samples_split`\n",
    "* El numero de ejemplos minimo en un nodo final /  leaf `min_samples_leaf`\n",
    "\n",
    "Hay más pero estos son los más faciles de entender e interpretar.\n",
    "\n",
    "Otro beneficio de este tipo de modelo es que tenemos unas salidas del modelo adicionales - el arbol de decision en si y tambien la importancia de los features."
   ]
  },
  {
   "cell_type": "code",
   "execution_count": 41,
   "metadata": {},
   "outputs": [],
   "source": [
    "feature_names = train.language.sort_values().unique().tolist() + numeric_variables"
   ]
  },
  {
   "cell_type": "code",
   "execution_count": 51,
   "metadata": {},
   "outputs": [
    {
     "data": {
      "image/png": "[encoded data removed]",
      "text/plain": [
       "<Figure size 1800x864 with 1 Axes>"
      ]
     },
     "metadata": {
      "needs_background": "light"
     },
     "output_type": "display_data"
    }
   ],
   "source": [
    "plt.figure(figsize=(25, 12))\n",
    "sklearn.tree.plot_tree(\n",
    "    full_pipeline['classifier'], fontsize=8, feature_names=feature_names, class_names=[f'Under {cutoff}', f'Over {cutoff}'], max_depth=4, \n",
    "    impurity=False, proportion=True, precision=2\n",
    ")\n",
    "plt.show()"
   ]
  },
  {
   "cell_type": "code",
   "execution_count": 75,
   "metadata": {},
   "outputs": [
    {
     "data": {
      "image/png": "[encoded data removed]",
      "text/plain": [
       "<Figure size 700x500 with 1 Axes>"
      ]
     },
     "metadata": {},
     "output_type": "display_data"
    }
   ],
   "source": [
    "graph_data = pd.DataFrame(\n",
    "    [(imp, variable) for imp, variable in zip(full_pipeline['classifier'].feature_importances_, feature_names)], \n",
    "    columns=['importance', 'variable']\n",
    ").sort_values('importance', ascending=False)\n",
    "\n",
    "limit = 15\n",
    "graph = (\n",
    "    pn.ggplot(graph_data.head(limit), pn.aes(x='variable', y='importance')) \n",
    "    + pn.geom_col()\n",
    "    + pn.coord_flip()\n",
    "    + pn.theme(figure_size=(7, 5))\n",
    "    + pn.scale_x_discrete(limits=graph_data.head(limit).variable.unique()[::-1])\n",
    ")\n",
    "\n",
    "graph.draw();"
   ]
  },
  {
   "cell_type": "markdown",
   "metadata": {},
   "source": [
    "Asi podemos entender exactamente que es lo que esta pasando por debajo de nuestro modelo - viendo que los followers por tweet es un feature muy importante."
   ]
  },
  {
   "cell_type": "markdown",
   "metadata": {},
   "source": [
    "## Random forest y XGBoost\n",
    "Ahora vamos a intentar replicar lo que hemos hecho, pero utilizando 2 modelos más complejos: RandomForest y XGBoost. Para XGBoost vamos a utilizar otra libreria, pero como veremos, el sintaxis es igual."
   ]
  },
  {
   "cell_type": "code",
   "execution_count": 86,
   "metadata": {},
   "outputs": [
    {
     "name": "stdout",
     "output_type": "stream",
     "text": [
      "The auc in train is 0.938 and in test it is 0.936, the accuracies are 88.4% and 87.8%\n"
     ]
    }
   ],
   "source": [
    "numeric_variables = potential_variables\n",
    "cat_variables = ['language']\n",
    "\n",
    "cat_pipeline = sklearn.pipeline.Pipeline(\n",
    "    [\n",
    "        ('encoder', sklearn.preprocessing.OneHotEncoder(handle_unknown='ignore'))\n",
    "    ]\n",
    ")\n",
    "\n",
    "preprocessing = sklearn.compose.ColumnTransformer(\n",
    "    [\n",
    "        ('categorical', cat_pipeline, cat_variables),\n",
    "        ('numeric', 'passthrough', numeric_variables)\n",
    "    ]\n",
    ")\n",
    "\n",
    "full_pipeline = sklearn.pipeline.Pipeline(\n",
    "    [\n",
    "        ('preprocessing', preprocessing),\n",
    "        ('classifier', sklearn.ensemble.RandomForestClassifier(random_state=0, n_estimators=500, max_depth=10, min_samples_leaf=5))\n",
    "    ]\n",
    ")\n",
    "\n",
    "X_variables = numeric_variables + cat_variables\n",
    "model_no = 2\n",
    "pred_col = f'predictions_{model_no}'\n",
    "\n",
    "full_pipeline.fit(train[X_variables], train[target])\n",
    "train[pred_col] = full_pipeline.predict_proba(train[X_variables])[:,1]\n",
    "test[pred_col] = full_pipeline.predict_proba(test[X_variables])[:,1]\n",
    "\n",
    "auc_train = sklearn.metrics.roc_auc_score(train[target], train[pred_col])\n",
    "auc_test = sklearn.metrics.roc_auc_score(test[target], test[pred_col])\n",
    "\n",
    "acc_train = sklearn.metrics.accuracy_score(train[target], train[pred_col].round())\n",
    "acc_test = sklearn.metrics.accuracy_score(test[target], test[pred_col].round())\n",
    "\n",
    "print(f'The auc in train is {auc_train:.3} and in test it is {auc_test:.3}, the accuracies are {acc_train:.1%} and {acc_test:.1%}')\n"
   ]
  },
  {
   "cell_type": "markdown",
   "metadata": {},
   "source": [
    "Vemos que hemos mejorado ligeramente y ahora hemos directamente utilizado los mismo parametros para regular el overfitting un poco."
   ]
  },
  {
   "cell_type": "code",
   "execution_count": 84,
   "metadata": {},
   "outputs": [
    {
     "data": {
      "image/png": "[encoded data removed]",
      "text/plain": [
       "<Figure size 700x500 with 1 Axes>"
      ]
     },
     "metadata": {},
     "output_type": "display_data"
    }
   ],
   "source": [
    "graph_data = pd.DataFrame(\n",
    "    [(imp, variable) for imp, variable in zip(full_pipeline['classifier'].feature_importances_, feature_names)], \n",
    "    columns=['importance', 'variable']\n",
    ").sort_values('importance', ascending=False)\n",
    "\n",
    "limit = 20\n",
    "graph = (\n",
    "    pn.ggplot(graph_data.head(limit), pn.aes(x='variable', y='importance')) \n",
    "    + pn.geom_col()\n",
    "    + pn.coord_flip()\n",
    "    + pn.theme(figure_size=(7, 5))\n",
    "    + pn.scale_x_discrete(limits=graph_data.head(limit).variable.unique()[::-1])\n",
    ")\n",
    "\n",
    "graph.draw();"
   ]
  },
  {
   "cell_type": "markdown",
   "metadata": {},
   "source": [
    "Aunque no podemos visualizar el arbol de decision (tenemos 500!) podemos ver la importancia de las variables. Vemos que son relativamente similares, pero no tenemos resultados tan extremos como antes."
   ]
  },
  {
   "cell_type": "code",
   "execution_count": 89,
   "metadata": {},
   "outputs": [
    {
     "name": "stdout",
     "output_type": "stream",
     "text": [
      "The auc in train is 0.991 and in test it is 0.942, the accuracies are 95.3% and 88.8%\n"
     ]
    }
   ],
   "source": [
    "numeric_variables = potential_variables\n",
    "cat_variables = ['language']\n",
    "\n",
    "cat_pipeline = sklearn.pipeline.Pipeline(\n",
    "    [\n",
    "        ('encoder', sklearn.preprocessing.OneHotEncoder(handle_unknown='ignore'))\n",
    "    ]\n",
    ")\n",
    "\n",
    "preprocessing = sklearn.compose.ColumnTransformer(\n",
    "    [\n",
    "        ('categorical', cat_pipeline, cat_variables),\n",
    "        ('numeric', 'passthrough', numeric_variables)\n",
    "    ]\n",
    ")\n",
    "\n",
    "full_pipeline = sklearn.pipeline.Pipeline(\n",
    "    [\n",
    "        ('preprocessing', preprocessing),\n",
    "        ('classifier', xgboost.XGBClassifier(random_state=0, n_estimators=500, max_depth=7, min_samples_leaf=5))\n",
    "    ]\n",
    ")\n",
    "\n",
    "X_variables = numeric_variables + cat_variables\n",
    "model_no = 3\n",
    "pred_col = f'predictions_{model_no}'\n",
    "\n",
    "full_pipeline.fit(train[X_variables], train[target])\n",
    "train[pred_col] = full_pipeline.predict_proba(train[X_variables])[:,1]\n",
    "test[pred_col] = full_pipeline.predict_proba(test[X_variables])[:,1]\n",
    "\n",
    "auc_train = sklearn.metrics.roc_auc_score(train[target], train[pred_col])\n",
    "auc_test = sklearn.metrics.roc_auc_score(test[target], test[pred_col])\n",
    "\n",
    "acc_train = sklearn.metrics.accuracy_score(train[target], train[pred_col].round())\n",
    "acc_test = sklearn.metrics.accuracy_score(test[target], test[pred_col].round())\n",
    "\n",
    "print(f'The auc in train is {auc_train:.3} and in test it is {auc_test:.3}, the accuracies are {acc_train:.1%} and {acc_test:.1%}')\n"
   ]
  },
  {
   "cell_type": "code",
   "execution_count": 90,
   "metadata": {},
   "outputs": [
    {
     "data": {
      "image/png": "[encoded data removed]",
      "text/plain": [
       "<Figure size 700x500 with 1 Axes>"
      ]
     },
     "metadata": {},
     "output_type": "display_data"
    }
   ],
   "source": [
    "graph_data = pd.DataFrame(\n",
    "    [(imp, variable) for imp, variable in zip(full_pipeline['classifier'].feature_importances_, feature_names)], \n",
    "    columns=['importance', 'variable']\n",
    ").sort_values('importance', ascending=False)\n",
    "\n",
    "limit = 20\n",
    "graph = (\n",
    "    pn.ggplot(graph_data.head(limit), pn.aes(x='variable', y='importance')) \n",
    "    + pn.geom_col()\n",
    "    + pn.coord_flip()\n",
    "    + pn.theme(figure_size=(7, 5))\n",
    "    + pn.scale_x_discrete(limits=graph_data.head(limit).variable.unique()[::-1])\n",
    ")\n",
    "\n",
    "graph.draw();"
   ]
  },
  {
   "cell_type": "markdown",
   "metadata": {},
   "source": [
    "Otra vez - vemos que hemos conseguido una mejora ligera pero ahora el over training parece mas dramatico. La importancia de las variables tambien ha cambiado, otra vez siendo mas extremo. No vamos a profundizar mucho más porque no es tan importante."
   ]
  },
  {
   "cell_type": "markdown",
   "metadata": {},
   "source": [
    "## Optimizando"
   ]
  },
  {
   "cell_type": "code",
   "execution_count": 100,
   "metadata": {},
   "outputs": [
    {
     "name": "stdout",
     "output_type": "stream",
     "text": [
      "The auc in train is 0.965 and in test it is 0.952, the accuracies are 91.3% and 89.6%\n"
     ]
    }
   ],
   "source": [
    "full_pipeline = sklearn.pipeline.Pipeline(\n",
    "    [\n",
    "        ('preprocessing', preprocessing),\n",
    "        ('classifier', xgboost.XGBClassifier(random_state=0))\n",
    "    ]\n",
    ")\n",
    "\n",
    "grid = {\n",
    "    'classifier__n_estimators' : [100, 500],\n",
    "    'classifier__max_depth' : [None, 5, 10],\n",
    "    'classifier__min_samples_leaf' : [None, 5, 10],\n",
    "    'classifier__learning_rate' : [0.01, 0.05, 0.1]\n",
    "}\n",
    "\n",
    "optimized_pipeline = sklearn.model_selection.GridSearchCV(full_pipeline, grid)\n",
    "\n",
    "#####\n",
    "\n",
    "X_variables = numeric_variables + cat_variables\n",
    "model_no = 4\n",
    "pred_col = f'predictions_{model_no}'\n",
    "\n",
    "optimized_pipeline.fit(train[X_variables], train[target])\n",
    "train[pred_col] = optimized_pipeline.predict_proba(train[X_variables])[:,1]\n",
    "test[pred_col] = optimized_pipeline.predict_proba(test[X_variables])[:,1]\n",
    "\n",
    "auc_train = sklearn.metrics.roc_auc_score(train[target], train[pred_col])\n",
    "auc_test = sklearn.metrics.roc_auc_score(test[target], test[pred_col])\n",
    "\n",
    "acc_train = sklearn.metrics.accuracy_score(train[target], train[pred_col].round())\n",
    "acc_test = sklearn.metrics.accuracy_score(test[target], test[pred_col].round())\n",
    "\n",
    "print(f'The auc in train is {auc_train:.3} and in test it is {auc_test:.3}, the accuracies are {acc_train:.1%} and {acc_test:.1%}')"
   ]
  },
  {
   "cell_type": "code",
   "execution_count": 102,
   "metadata": {},
   "outputs": [
    {
     "data": {
      "text/plain": [
       "{'classifier__learning_rate': 0.01,\n",
       " 'classifier__max_depth': 10,\n",
       " 'classifier__min_samples_leaf': None,\n",
       " 'classifier__n_estimators': 500}"
      ]
     },
     "execution_count": 102,
     "metadata": {},
     "output_type": "execute_result"
    }
   ],
   "source": [
    "optimized_pipeline.best_params_"
   ]
  },
  {
   "cell_type": "markdown",
   "metadata": {},
   "source": [
    "## Comparando la utilidad real"
   ]
  },
  {
   "cell_type": "code",
   "execution_count": 103,
   "metadata": {},
   "outputs": [],
   "source": [
    "results = []\n",
    "renames = {0 : 'recall', 1 : 'precision', 2 : 'threshold'}\n",
    "for i in range(1, 5):\n",
    "    result = pd.DataFrame(sklearn.metrics.precision_recall_curve(test[target], test[f'predictions_{i}'])).transpose().rename(columns=renames)\n",
    "    result['prediction_number'] = str(i)\n",
    "    results.append(result)\n",
    "    \n",
    "results = pd.concat(results) "
   ]
  },
  {
   "cell_type": "code",
   "execution_count": 104,
   "metadata": {},
   "outputs": [
    {
     "data": {
      "image/png": "[encoded data removed]",
      "text/plain": [
       "<Figure size 640x480 with 1 Axes>"
      ]
     },
     "metadata": {},
     "output_type": "display_data"
    }
   ],
   "source": [
    "graph = (\n",
    "    pn.ggplot(results, pn.aes(x='recall', y='precision', color='prediction_number'))\n",
    "    + pn.geom_line(size=1.4)\n",
    ")\n",
    "\n",
    "graph.draw();"
   ]
  },
  {
   "cell_type": "markdown",
   "metadata": {},
   "source": [
    "Apreciamos que podemos conseguir unos resultados bastante mejor para el random forest y XGBoost - conseguimos un 0.4 de recall con asi 100% de precision por ejemplo."
   ]
  }
 ],
 "metadata": {
  "interpreter": {
   "hash": "a799a31ffb060199d96ce87ac1d0c04e7a9002aac8c78a4659f19355febe9701"
  },
  "kernelspec": {
   "display_name": "Python 3.9.7 64-bit ('base': conda)",
   "name": "python3"
  },
  "language_info": {
   "codemirror_mode": {
    "name": "ipython",
    "version": 3
   },
   "file_extension": ".py",
   "mimetype": "text/x-python",
   "name": "python",
   "nbconvert_exporter": "python",
   "pygments_lexer": "ipython3",
   "version": "3.9.7"
  }
 },
 "nbformat": 4,
 "nbformat_minor": 4
}
