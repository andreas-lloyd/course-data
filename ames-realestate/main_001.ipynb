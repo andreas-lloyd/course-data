{
 "cells": [
  {
   "cell_type": "markdown",
   "id": "939c3686-a639-4895-8258-e2f2217a4021",
   "metadata": {},
   "source": [
    "# Ames real estate data\n",
    "We have some data named `data.csv` that contains property listings (property details + sale price). We will use this to try and demonstrate a really simple model that would help us determine if houses in \"the wild\" are interesting to us, given a budget of $200k.\n",
    "\n",
    "We will mainly make use of the following libraries:\n",
    "\n",
    "* `Pandas` for basic data transformations\n",
    "* `Plotnine` for plotting\n",
    "* `Sklearn` for some modelling\n",
    "\n",
    "We will also make use of `numpy` some helper functions.\n",
    "\n",
    "Note that the format of the notebook follows the generic helper questions set in the course."
   ]
  },
  {
   "cell_type": "code",
   "execution_count": 245,
   "id": "90f1b954-b708-4fdf-9b95-d2dffe0b4186",
   "metadata": {},
   "outputs": [],
   "source": [
    "import pandas as pd\n",
    "import numpy as np\n",
    "import plotnine as pn\n",
    "from sklearn.model_selection import train_test_split\n",
    "from sklearn.metrics import accuracy_score, plot_roc_curve, precision_score\n",
    "from sklearn.linear_model import LogisticRegression\n",
    "from sklearn.ensemble import RandomForestClassifier\n",
    "\n",
    "data_location = 'data.csv'\n",
    "\n",
    "# Constants\n",
    "BUDGET = 200000\n",
    "TEST_PROP = 0.3"
   ]
  },
  {
   "cell_type": "markdown",
   "id": "9dd20086-5e40-406a-8eae-0aff944b3284",
   "metadata": {},
   "source": [
    "## Loading the data\n",
    "Loading the data is straightforward to do with `Pandas`. Afterwards we always make a basic check of the data to ensure that everything looks to have loaded correctly.\n",
    "\n",
    "Note that throughout it will be useful to have the data open in the Google sheet (refer to the `README`) - no one gets bonus points for making their life more difficult having to visualise everything in Pandas :D"
   ]
  },
  {
   "cell_type": "code",
   "execution_count": 3,
   "id": "5ab6712d-9713-46a8-960f-aa04c481cb06",
   "metadata": {},
   "outputs": [],
   "source": [
    "property_data = pd.read_csv(data_location)"
   ]
  },
  {
   "cell_type": "code",
   "execution_count": 4,
   "id": "fb22e5ea-9bee-4ab1-a809-3066c2f97e6d",
   "metadata": {},
   "outputs": [
    {
     "data": {
      "text/html": [
       "<div>\n",
       "<style scoped>\n",
       "    .dataframe tbody tr th:only-of-type {\n",
       "        vertical-align: middle;\n",
       "    }\n",
       "\n",
       "    .dataframe tbody tr th {\n",
       "        vertical-align: top;\n",
       "    }\n",
       "\n",
       "    .dataframe thead th {\n",
       "        text-align: right;\n",
       "    }\n",
       "</style>\n",
       "<table border=\"1\" class=\"dataframe\">\n",
       "  <thead>\n",
       "    <tr style=\"text-align: right;\">\n",
       "      <th></th>\n",
       "      <th>Id</th>\n",
       "      <th>MSSubClass</th>\n",
       "      <th>MSZoning</th>\n",
       "      <th>LotFrontage</th>\n",
       "      <th>LotArea</th>\n",
       "      <th>Street</th>\n",
       "      <th>Alley</th>\n",
       "      <th>LotShape</th>\n",
       "      <th>LandContour</th>\n",
       "      <th>Utilities</th>\n",
       "      <th>...</th>\n",
       "      <th>PoolArea</th>\n",
       "      <th>PoolQC</th>\n",
       "      <th>Fence</th>\n",
       "      <th>MiscFeature</th>\n",
       "      <th>MiscVal</th>\n",
       "      <th>MoSold</th>\n",
       "      <th>YrSold</th>\n",
       "      <th>SaleType</th>\n",
       "      <th>SaleCondition</th>\n",
       "      <th>SalePrice</th>\n",
       "    </tr>\n",
       "  </thead>\n",
       "  <tbody>\n",
       "    <tr>\n",
       "      <th>0</th>\n",
       "      <td>1</td>\n",
       "      <td>60</td>\n",
       "      <td>RL</td>\n",
       "      <td>65.0</td>\n",
       "      <td>8450</td>\n",
       "      <td>Pave</td>\n",
       "      <td>NaN</td>\n",
       "      <td>Reg</td>\n",
       "      <td>Lvl</td>\n",
       "      <td>AllPub</td>\n",
       "      <td>...</td>\n",
       "      <td>0</td>\n",
       "      <td>NaN</td>\n",
       "      <td>NaN</td>\n",
       "      <td>NaN</td>\n",
       "      <td>0</td>\n",
       "      <td>2</td>\n",
       "      <td>2008</td>\n",
       "      <td>WD</td>\n",
       "      <td>Normal</td>\n",
       "      <td>208500</td>\n",
       "    </tr>\n",
       "    <tr>\n",
       "      <th>1</th>\n",
       "      <td>2</td>\n",
       "      <td>20</td>\n",
       "      <td>RL</td>\n",
       "      <td>80.0</td>\n",
       "      <td>9600</td>\n",
       "      <td>Pave</td>\n",
       "      <td>NaN</td>\n",
       "      <td>Reg</td>\n",
       "      <td>Lvl</td>\n",
       "      <td>AllPub</td>\n",
       "      <td>...</td>\n",
       "      <td>0</td>\n",
       "      <td>NaN</td>\n",
       "      <td>NaN</td>\n",
       "      <td>NaN</td>\n",
       "      <td>0</td>\n",
       "      <td>5</td>\n",
       "      <td>2007</td>\n",
       "      <td>WD</td>\n",
       "      <td>Normal</td>\n",
       "      <td>181500</td>\n",
       "    </tr>\n",
       "    <tr>\n",
       "      <th>2</th>\n",
       "      <td>3</td>\n",
       "      <td>60</td>\n",
       "      <td>RL</td>\n",
       "      <td>68.0</td>\n",
       "      <td>11250</td>\n",
       "      <td>Pave</td>\n",
       "      <td>NaN</td>\n",
       "      <td>IR1</td>\n",
       "      <td>Lvl</td>\n",
       "      <td>AllPub</td>\n",
       "      <td>...</td>\n",
       "      <td>0</td>\n",
       "      <td>NaN</td>\n",
       "      <td>NaN</td>\n",
       "      <td>NaN</td>\n",
       "      <td>0</td>\n",
       "      <td>9</td>\n",
       "      <td>2008</td>\n",
       "      <td>WD</td>\n",
       "      <td>Normal</td>\n",
       "      <td>223500</td>\n",
       "    </tr>\n",
       "    <tr>\n",
       "      <th>3</th>\n",
       "      <td>4</td>\n",
       "      <td>70</td>\n",
       "      <td>RL</td>\n",
       "      <td>60.0</td>\n",
       "      <td>9550</td>\n",
       "      <td>Pave</td>\n",
       "      <td>NaN</td>\n",
       "      <td>IR1</td>\n",
       "      <td>Lvl</td>\n",
       "      <td>AllPub</td>\n",
       "      <td>...</td>\n",
       "      <td>0</td>\n",
       "      <td>NaN</td>\n",
       "      <td>NaN</td>\n",
       "      <td>NaN</td>\n",
       "      <td>0</td>\n",
       "      <td>2</td>\n",
       "      <td>2006</td>\n",
       "      <td>WD</td>\n",
       "      <td>Abnorml</td>\n",
       "      <td>140000</td>\n",
       "    </tr>\n",
       "    <tr>\n",
       "      <th>4</th>\n",
       "      <td>5</td>\n",
       "      <td>60</td>\n",
       "      <td>RL</td>\n",
       "      <td>84.0</td>\n",
       "      <td>14260</td>\n",
       "      <td>Pave</td>\n",
       "      <td>NaN</td>\n",
       "      <td>IR1</td>\n",
       "      <td>Lvl</td>\n",
       "      <td>AllPub</td>\n",
       "      <td>...</td>\n",
       "      <td>0</td>\n",
       "      <td>NaN</td>\n",
       "      <td>NaN</td>\n",
       "      <td>NaN</td>\n",
       "      <td>0</td>\n",
       "      <td>12</td>\n",
       "      <td>2008</td>\n",
       "      <td>WD</td>\n",
       "      <td>Normal</td>\n",
       "      <td>250000</td>\n",
       "    </tr>\n",
       "  </tbody>\n",
       "</table>\n",
       "<p>5 rows × 81 columns</p>\n",
       "</div>"
      ],
      "text/plain": [
       "   Id  MSSubClass MSZoning  LotFrontage  LotArea Street Alley LotShape  \\\n",
       "0   1          60       RL         65.0     8450   Pave   NaN      Reg   \n",
       "1   2          20       RL         80.0     9600   Pave   NaN      Reg   \n",
       "2   3          60       RL         68.0    11250   Pave   NaN      IR1   \n",
       "3   4          70       RL         60.0     9550   Pave   NaN      IR1   \n",
       "4   5          60       RL         84.0    14260   Pave   NaN      IR1   \n",
       "\n",
       "  LandContour Utilities  ... PoolArea PoolQC Fence MiscFeature MiscVal MoSold  \\\n",
       "0         Lvl    AllPub  ...        0    NaN   NaN         NaN       0      2   \n",
       "1         Lvl    AllPub  ...        0    NaN   NaN         NaN       0      5   \n",
       "2         Lvl    AllPub  ...        0    NaN   NaN         NaN       0      9   \n",
       "3         Lvl    AllPub  ...        0    NaN   NaN         NaN       0      2   \n",
       "4         Lvl    AllPub  ...        0    NaN   NaN         NaN       0     12   \n",
       "\n",
       "  YrSold  SaleType  SaleCondition  SalePrice  \n",
       "0   2008        WD         Normal     208500  \n",
       "1   2007        WD         Normal     181500  \n",
       "2   2008        WD         Normal     223500  \n",
       "3   2006        WD        Abnorml     140000  \n",
       "4   2008        WD         Normal     250000  \n",
       "\n",
       "[5 rows x 81 columns]"
      ]
     },
     "execution_count": 4,
     "metadata": {},
     "output_type": "execute_result"
    }
   ],
   "source": [
    "property_data.head()"
   ]
  },
  {
   "cell_type": "code",
   "execution_count": 6,
   "id": "628067ec-e33d-450f-8bd8-adba3b80c068",
   "metadata": {},
   "outputs": [
    {
     "name": "stdout",
     "output_type": "stream",
     "text": [
      "The data has 1460 rows, 81 columns, and 1460 unique IDs.\n"
     ]
    }
   ],
   "source": [
    "print(f'The data has {property_data.shape[0]} rows, {property_data.shape[1]} columns, and {property_data[\"Id\"].nunique()} unique IDs.')"
   ]
  },
  {
   "cell_type": "code",
   "execution_count": 20,
   "id": "6a1f9d26-a748-4769-bb5c-11c2beea6f47",
   "metadata": {},
   "outputs": [
    {
     "data": {
      "text/plain": [
       "PoolQC          99.520548\n",
       "MiscFeature     96.301370\n",
       "Alley           93.767123\n",
       "Fence           80.753425\n",
       "FireplaceQu     47.260274\n",
       "LotFrontage     17.739726\n",
       "GarageYrBlt      5.547945\n",
       "GarageCond       5.547945\n",
       "GarageType       5.547945\n",
       "GarageFinish     5.547945\n",
       "GarageQual       5.547945\n",
       "BsmtFinType2     2.602740\n",
       "BsmtExposure     2.602740\n",
       "BsmtQual         2.534247\n",
       "BsmtCond         2.534247\n",
       "BsmtFinType1     2.534247\n",
       "MasVnrArea       0.547945\n",
       "MasVnrType       0.547945\n",
       "Electrical       0.068493\n",
       "Id               0.000000\n",
       "dtype: float64"
      ]
     },
     "execution_count": 20,
     "metadata": {},
     "output_type": "execute_result"
    }
   ],
   "source": [
    "(property_data.isna().mean() * 100).sort_values(ascending=False).head(20)"
   ]
  },
  {
   "cell_type": "markdown",
   "id": "b90b1408-3929-450c-9c56-3ce94892b000",
   "metadata": {},
   "source": [
    "Everything seems to have loaded OK. The columns that have a few NULLs in them make sense since they refer to features a property might not have."
   ]
  },
  {
   "cell_type": "markdown",
   "id": "0d89a648-3835-4a1d-950d-7383140f6d2d",
   "metadata": {},
   "source": [
    "## Is the data useful?\n",
    "To start with it seems like this data would be useful for our task. The `SalePrice` column seems to be what we want to look at. There is also month and year sold, `SaleType`, `SaleCondition`, and `MSZoning` columns that we should check out just in case we have data that isn't relevant to us.\n",
    "\n",
    "The first things to do are to check the NULLs we have, as well as if the data behaves somewhat well for these columns, in addition to the type of data we have overall to make sure the data is valid for us."
   ]
  },
  {
   "cell_type": "code",
   "execution_count": 85,
   "id": "9f8add3d-b728-41bd-b6a6-4705f590d40a",
   "metadata": {},
   "outputs": [],
   "source": [
    "def analyse_column(column, data):\n",
    "    EXCEPTIONS = ['MoSold', 'YrSold', 'MSSubClass', 'YearBuilt', 'YearRemodAdd']\n",
    "    print(f'The column {column} has {data[column].isna().sum()} nulls\\n')\n",
    "    \n",
    "    print('The distribution looks like:')\n",
    "    if (data[column].dtype == float or data[column].dtype == int) and column not in EXCEPTIONS:\n",
    "        print(data[column].describe())\n",
    "    else:\n",
    "        print(f'The column has {(data[column] == \"\").sum()} empty cells')\n",
    "        print((data[column].value_counts(normalize=True, dropna=False) * 100).astype(int).astype(str) + '%')\n",
    "        \n",
    "    print('\\n\\n')"
   ]
  },
  {
   "cell_type": "code",
   "execution_count": 86,
   "id": "68f10416-fa63-42c1-b8fe-005f693c8a33",
   "metadata": {},
   "outputs": [
    {
     "name": "stdout",
     "output_type": "stream",
     "text": [
      "The column SalePrice has 0 nulls\n",
      "\n",
      "The distribution looks like:\n",
      "count      1323.000000\n",
      "mean     184375.455782\n",
      "std       78842.531657\n",
      "min       39300.000000\n",
      "25%      132500.000000\n",
      "50%      167000.000000\n",
      "75%      216668.500000\n",
      "max      755000.000000\n",
      "Name: SalePrice, dtype: float64\n",
      "\n",
      "\n",
      "\n",
      "The column SaleType has 0 nulls\n",
      "\n",
      "The distribution looks like:\n",
      "The column has 0 empty cells\n",
      "WD       87%\n",
      "New       9%\n",
      "COD       1%\n",
      "ConLD     0%\n",
      "ConLw     0%\n",
      "ConLI     0%\n",
      "Con       0%\n",
      "CWD       0%\n",
      "Name: SaleType, dtype: object\n",
      "\n",
      "\n",
      "\n",
      "The column SaleCondition has 0 nulls\n",
      "\n",
      "The distribution looks like:\n",
      "The column has 0 empty cells\n",
      "Normal     90%\n",
      "Partial     9%\n",
      "Name: SaleCondition, dtype: object\n",
      "\n",
      "\n",
      "\n",
      "The column MSZoning has 0 nulls\n",
      "\n",
      "The distribution looks like:\n",
      "The column has 0 empty cells\n",
      "RL         79%\n",
      "RM         14%\n",
      "FV          4%\n",
      "RH          0%\n",
      "C (all)     0%\n",
      "Name: MSZoning, dtype: object\n",
      "\n",
      "\n",
      "\n",
      "The column MoSold has 0 nulls\n",
      "\n",
      "The distribution looks like:\n",
      "The column has 0 empty cells\n",
      "6     17%\n",
      "7     16%\n",
      "5     14%\n",
      "4      9%\n",
      "8      8%\n",
      "3      7%\n",
      "10     5%\n",
      "11     5%\n",
      "9      4%\n",
      "12     3%\n",
      "1      3%\n",
      "2      3%\n",
      "Name: MoSold, dtype: object\n",
      "\n",
      "\n",
      "\n",
      "The column YrSold has 0 nulls\n",
      "\n",
      "The distribution looks like:\n",
      "The column has 0 empty cells\n",
      "2009    23%\n",
      "2007    23%\n",
      "2008    21%\n",
      "2006    20%\n",
      "2010    12%\n",
      "Name: YrSold, dtype: object\n",
      "\n",
      "\n",
      "\n"
     ]
    }
   ],
   "source": [
    "columns = ['SalePrice', 'SaleType', 'SaleCondition', 'MSZoning', 'MoSold', 'YrSold']\n",
    "for column in columns:\n",
    "    analyse_column(column, property_data)"
   ]
  },
  {
   "cell_type": "markdown",
   "id": "fa707d63-c9a8-453f-9aa8-48e775cd1e35",
   "metadata": {},
   "source": [
    "So the target looks like it behaves well, which is good. The other columns are all informed, which is great too. We also note that the dates are OK for us - there is nothing very old here.\n",
    "\n",
    "The only other comment I have is that we are only really interested in \"normal\" or \"partial\" sales. I'm not 100% sure what the others mean, but given the description of columns, they don't seem like the types of property we would be going for (we are not buying from a family member, for example).\n",
    "\n",
    "### Building the target\n",
    "Let's go ahead and remove the data not of interest and also mark the target. This doesn't impact our division of data into training and test, since in real life we won't be inputting properties that are of this type (it seems reasonable to assume that the adverts we see don't include adverts for family members, or foreclosures, for example...).\n",
    "\n",
    "The target will simply be if the property is below our budget. We could do more here, like also set a lower limit, but we will look at this a bit later..."
   ]
  },
  {
   "cell_type": "code",
   "execution_count": 50,
   "id": "71adddbe-c721-4498-9b66-330b7f9b767b",
   "metadata": {},
   "outputs": [],
   "source": [
    "desired_sale_types = ['Normal', 'Partial']\n",
    "property_data = property_data[property_data['SaleCondition'].isin(desired_sale_types)].reset_index(drop=True)"
   ]
  },
  {
   "cell_type": "code",
   "execution_count": 53,
   "id": "ca9ba9e6-dd0f-4a25-abe6-dcf1f25675f4",
   "metadata": {},
   "outputs": [],
   "source": [
    "property_data['target'] = property_data['SalePrice'] <= BUDGET"
   ]
  },
  {
   "cell_type": "markdown",
   "id": "16182bd7-95f3-4fce-b6cd-756330f8b59a",
   "metadata": {},
   "source": [
    "## Splitting train and test\n",
    "Let's quickly split up the train and test data. This is important to do early without too much previous work to make sure that the evaluation is fair. We will just take 30% of the data, randomly, as a quick approach.\n",
    "\n",
    "Note that the default is to shuffle and not stratisfy."
   ]
  },
  {
   "cell_type": "code",
   "execution_count": 137,
   "id": "fa3b4d9a-d440-417c-886a-ff98b4cdd20b",
   "metadata": {},
   "outputs": [],
   "source": [
    "train, test = train_test_split(property_data, test_size=TEST_PROP, random_state=0)\n",
    "train = train.reset_index(drop=True)\n",
    "test = test.reset_index(drop=True)"
   ]
  },
  {
   "cell_type": "code",
   "execution_count": 61,
   "id": "9fe71e3c-4ee6-49af-90de-723dd724a028",
   "metadata": {},
   "outputs": [
    {
     "name": "stdout",
     "output_type": "stream",
     "text": [
      "We have training data with 926 rows, and testing data with 397 rows\n",
      "The training data has 70% positive examples\n"
     ]
    }
   ],
   "source": [
    "print(f'We have training data with {train.shape[0]} rows, and testing data with {test.shape[0]} rows')\n",
    "print(f'The training data has {train.target.mean():.0%} positive examples')"
   ]
  },
  {
   "cell_type": "markdown",
   "id": "ebb6b7eb-6c25-4de1-9587-4065f41fe94f",
   "metadata": {},
   "source": [
    "We see that the majority of the data is within our budget."
   ]
  },
  {
   "cell_type": "markdown",
   "id": "1c50cce4-f091-48eb-bc31-bc405ed853ea",
   "metadata": {},
   "source": [
    "## Deeper look into the information available\n",
    "The next step is to really look into the data we have to potentially build our model. We are going to be a bit strict here and only take things that we could reasonably expect to have in real life and BEFORE we actually phone the seller. We assume that we have been by the house and have some of the details of the property. The options are:\n",
    "\n",
    "* MSSubClass\n",
    "* MSZoning\n",
    "* LotArea\n",
    "* LotFrontage\n",
    "* Street\n",
    "* Alley\n",
    "* LotShape\n",
    "* LandContour\n",
    "* Utilities\n",
    "* LotConfig\n",
    "* LandSlope\n",
    "* Neighborhood\n",
    "* Condition1\n",
    "* Condition2\n",
    "* BldgType\n",
    "* HouseStyle\n",
    "* YearBuilt\n",
    "* YearRemodAdd\n",
    "* RoofStyle\n",
    "* RoofMatl\n",
    "* MasVnrType\n",
    "* ExterQual\n",
    "* ExterCond\n",
    "* TotalBsmtSF\n",
    "* 1stFlrSF\n",
    "* 2ndFlrSF\n",
    "* GrLivArea\n",
    "* GarageType\n",
    "* GarageCars\n",
    "* GarageArea\n",
    "* PavedDrive\n",
    "* WoodDeckSF\n",
    "* OpenPorchSF\n",
    "* EnclosedPorch\n",
    "* 3SsnPorch\n",
    "* PoolArea\n",
    "* Fence\n",
    "* MiscFeature\n",
    "* MoSold\n",
    "* YrSold\n",
    "\n",
    "We base the logic on what we might be able to tell from the exterior, and what information we should be able to find in the official registry. The basement area, for example, should be findable - but the quality would need an in person visit.\n",
    "\n",
    "Now we need to get a feel for these to see what's useful. Things are NOT useful if they have limited information for us to use."
   ]
  },
  {
   "cell_type": "code",
   "execution_count": 66,
   "id": "d63cc542-e4c9-42c6-b700-b707fb750e22",
   "metadata": {},
   "outputs": [],
   "source": [
    "knowable_columns = [\n",
    "    'MSSubClass', 'MSZoning', 'LotArea', 'LotFrontage', 'Street', 'Alley', 'LotShape', \n",
    "    'LandContour', 'Utilities', 'LotConfig', 'LandSlope', 'Neighborhood', 'Condition1', \n",
    "    'Condition2', 'BldgType', 'HouseStyle', 'YearBuilt', 'YearRemodAdd', 'RoofStyle', \n",
    "    'RoofMatl', 'MasVnrType', 'ExterQual', 'ExterCond', 'TotalBsmtSF', '1stFlrSF', \n",
    "    '2ndFlrSF', 'GrLivArea', 'GarageType', 'GarageCars', 'GarageArea', 'PavedDrive', \n",
    "    'WoodDeckSF', 'OpenPorchSF', 'EnclosedPorch', '3SsnPorch', 'PoolArea', 'Fence', \n",
    "    'MiscFeature', 'MoSold', 'YrSold'\n",
    "]"
   ]
  },
  {
   "cell_type": "code",
   "execution_count": 87,
   "id": "a4c2b5e4-642f-4002-95b2-70a6b08e62f2",
   "metadata": {
    "collapsed": true,
    "jupyter": {
     "outputs_hidden": true
    },
    "tags": []
   },
   "outputs": [
    {
     "name": "stdout",
     "output_type": "stream",
     "text": [
      "The column MSSubClass has 0 nulls\n",
      "\n",
      "The distribution looks like:\n",
      "The column has 0 empty cells\n",
      "20     36%\n",
      "60     22%\n",
      "50      9%\n",
      "30      5%\n",
      "120     5%\n",
      "160     4%\n",
      "80      4%\n",
      "70      3%\n",
      "90      2%\n",
      "190     2%\n",
      "45      1%\n",
      "85      1%\n",
      "75      0%\n",
      "180     0%\n",
      "40      0%\n",
      "Name: MSSubClass, dtype: object\n",
      "\n",
      "\n",
      "\n",
      "The column MSZoning has 0 nulls\n",
      "\n",
      "The distribution looks like:\n",
      "The column has 0 empty cells\n",
      "RL         79%\n",
      "RM         14%\n",
      "FV          4%\n",
      "RH          1%\n",
      "C (all)     0%\n",
      "Name: MSZoning, dtype: object\n",
      "\n",
      "\n",
      "\n",
      "The column LotArea has 0 nulls\n",
      "\n",
      "The distribution looks like:\n",
      "count       926.000000\n",
      "mean      10772.463283\n",
      "std       11558.563244\n",
      "min        1300.000000\n",
      "25%        7740.500000\n",
      "50%        9539.500000\n",
      "75%       11425.750000\n",
      "max      215245.000000\n",
      "Name: LotArea, dtype: float64\n",
      "\n",
      "\n",
      "\n",
      "The column LotFrontage has 170 nulls\n",
      "\n",
      "The distribution looks like:\n",
      "count    756.000000\n",
      "mean      70.702381\n",
      "std       23.177234\n",
      "min       21.000000\n",
      "25%       60.000000\n",
      "50%       70.000000\n",
      "75%       80.000000\n",
      "max      313.000000\n",
      "Name: LotFrontage, dtype: float64\n",
      "\n",
      "\n",
      "\n",
      "The column Street has 0 nulls\n",
      "\n",
      "The distribution looks like:\n",
      "The column has 0 empty cells\n",
      "Pave    99%\n",
      "Grvl     0%\n",
      "Name: Street, dtype: object\n",
      "\n",
      "\n",
      "\n",
      "The column Alley has 872 nulls\n",
      "\n",
      "The distribution looks like:\n",
      "The column has 0 empty cells\n",
      "NaN     94%\n",
      "Grvl     3%\n",
      "Pave     2%\n",
      "Name: Alley, dtype: object\n",
      "\n",
      "\n",
      "\n",
      "The column LotShape has 0 nulls\n",
      "\n",
      "The distribution looks like:\n",
      "The column has 0 empty cells\n",
      "Reg    62%\n",
      "IR1    33%\n",
      "IR2     2%\n",
      "IR3     0%\n",
      "Name: LotShape, dtype: object\n",
      "\n",
      "\n",
      "\n",
      "The column LandContour has 0 nulls\n",
      "\n",
      "The distribution looks like:\n",
      "The column has 0 empty cells\n",
      "Lvl    89%\n",
      "Bnk     3%\n",
      "HLS     3%\n",
      "Low     2%\n",
      "Name: LandContour, dtype: object\n",
      "\n",
      "\n",
      "\n",
      "The column Utilities has 0 nulls\n",
      "\n",
      "The distribution looks like:\n",
      "The column has 0 empty cells\n",
      "AllPub    100%\n",
      "Name: Utilities, dtype: object\n",
      "\n",
      "\n",
      "\n",
      "The column LotConfig has 0 nulls\n",
      "\n",
      "The distribution looks like:\n",
      "The column has 0 empty cells\n",
      "Inside     72%\n",
      "Corner     17%\n",
      "CulDSac     6%\n",
      "FR2         2%\n",
      "FR3         0%\n",
      "Name: LotConfig, dtype: object\n",
      "\n",
      "\n",
      "\n",
      "The column LandSlope has 0 nulls\n",
      "\n",
      "The distribution looks like:\n",
      "The column has 0 empty cells\n",
      "Gtl    94%\n",
      "Mod     4%\n",
      "Sev     0%\n",
      "Name: LandSlope, dtype: object\n",
      "\n",
      "\n",
      "\n",
      "The column Neighborhood has 0 nulls\n",
      "\n",
      "The distribution looks like:\n",
      "The column has 0 empty cells\n",
      "NAmes      14%\n",
      "CollgCr    11%\n",
      "OldTown     7%\n",
      "Edwards     6%\n",
      "Somerst     6%\n",
      "NridgHt     5%\n",
      "Gilbert     5%\n",
      "NWAmes      5%\n",
      "Sawyer      5%\n",
      "BrkSide     3%\n",
      "SawyerW     3%\n",
      "Crawfor     3%\n",
      "Mitchel     3%\n",
      "Timber      2%\n",
      "NoRidge     2%\n",
      "ClearCr     1%\n",
      "IDOTRR      1%\n",
      "StoneBr     1%\n",
      "SWISU       1%\n",
      "Blmngtn     1%\n",
      "MeadowV     1%\n",
      "BrDale      0%\n",
      "Veenker     0%\n",
      "NPkVill     0%\n",
      "Blueste     0%\n",
      "Name: Neighborhood, dtype: object\n",
      "\n",
      "\n",
      "\n",
      "The column Condition1 has 0 nulls\n",
      "\n",
      "The distribution looks like:\n",
      "The column has 0 empty cells\n",
      "Norm      86%\n",
      "Feedr      5%\n",
      "Artery     3%\n",
      "RRAn       1%\n",
      "PosN       1%\n",
      "PosA       0%\n",
      "RRAe       0%\n",
      "RRNn       0%\n",
      "RRNe       0%\n",
      "Name: Condition1, dtype: object\n",
      "\n",
      "\n",
      "\n",
      "The column Condition2 has 0 nulls\n",
      "\n",
      "The distribution looks like:\n",
      "The column has 0 empty cells\n",
      "Norm      98%\n",
      "Feedr      0%\n",
      "PosN       0%\n",
      "RRNn       0%\n",
      "Artery     0%\n",
      "RRAe       0%\n",
      "RRAn       0%\n",
      "Name: Condition2, dtype: object\n",
      "\n",
      "\n",
      "\n",
      "The column BldgType has 0 nulls\n",
      "\n",
      "The distribution looks like:\n",
      "The column has 0 empty cells\n",
      "1Fam      84%\n",
      "TwnhsE     7%\n",
      "Twnhs      2%\n",
      "2fmCon     2%\n",
      "Duplex     2%\n",
      "Name: BldgType, dtype: object\n",
      "\n",
      "\n",
      "\n",
      "The column HouseStyle has 0 nulls\n",
      "\n",
      "The distribution looks like:\n",
      "The column has 0 empty cells\n",
      "1Story    48%\n",
      "2Story    32%\n",
      "1.5Fin     9%\n",
      "SLvl       4%\n",
      "SFoyer     2%\n",
      "1.5Unf     1%\n",
      "2.5Unf     0%\n",
      "2.5Fin     0%\n",
      "Name: HouseStyle, dtype: object\n",
      "\n",
      "\n",
      "\n",
      "The column YearBuilt has 0 nulls\n",
      "\n",
      "The distribution looks like:\n",
      "The column has 0 empty cells\n",
      "2006    4%\n",
      "2005    4%\n",
      "2004    4%\n",
      "2007    3%\n",
      "2003    3%\n",
      "        ..\n",
      "1905    0%\n",
      "1904    0%\n",
      "1898    0%\n",
      "1882    0%\n",
      "2010    0%\n",
      "Name: YearBuilt, Length: 109, dtype: object\n",
      "\n",
      "\n",
      "\n",
      "The column YearRemodAdd has 0 nulls\n",
      "\n",
      "The distribution looks like:\n",
      "The column has 0 empty cells\n",
      "1950    11%\n",
      "2006     7%\n",
      "2005     5%\n",
      "2007     5%\n",
      "2004     4%\n",
      "       ... \n",
      "1982     0%\n",
      "1979     0%\n",
      "1952     0%\n",
      "1974     0%\n",
      "1951     0%\n",
      "Name: YearRemodAdd, Length: 61, dtype: object\n",
      "\n",
      "\n",
      "\n",
      "The column RoofStyle has 0 nulls\n",
      "\n",
      "The distribution looks like:\n",
      "The column has 0 empty cells\n",
      "Gable      79%\n",
      "Hip        18%\n",
      "Flat        0%\n",
      "Mansard     0%\n",
      "Gambrel     0%\n",
      "Shed        0%\n",
      "Name: RoofStyle, dtype: object\n",
      "\n",
      "\n",
      "\n",
      "The column RoofMatl has 0 nulls\n",
      "\n",
      "The distribution looks like:\n",
      "The column has 0 empty cells\n",
      "CompShg    98%\n",
      "WdShngl     0%\n",
      "Tar&Grv     0%\n",
      "WdShake     0%\n",
      "Membran     0%\n",
      "Roll        0%\n",
      "ClyTile     0%\n",
      "Metal       0%\n",
      "Name: RoofMatl, dtype: object\n",
      "\n",
      "\n",
      "\n",
      "The column MasVnrType has 6 nulls\n",
      "\n",
      "The distribution looks like:\n",
      "The column has 0 empty cells\n",
      "None       59%\n",
      "BrkFace    29%\n",
      "Stone       9%\n",
      "NaN         0%\n",
      "BrkCmn      0%\n",
      "Name: MasVnrType, dtype: object\n",
      "\n",
      "\n",
      "\n",
      "The column ExterQual has 0 nulls\n",
      "\n",
      "The distribution looks like:\n",
      "The column has 0 empty cells\n",
      "TA    60%\n",
      "Gd    34%\n",
      "Ex     3%\n",
      "Fa     0%\n",
      "Name: ExterQual, dtype: object\n",
      "\n",
      "\n",
      "\n",
      "The column ExterCond has 0 nulls\n",
      "\n",
      "The distribution looks like:\n",
      "The column has 0 empty cells\n",
      "TA    87%\n",
      "Gd    10%\n",
      "Fa     1%\n",
      "Po     0%\n",
      "Ex     0%\n",
      "Name: ExterCond, dtype: object\n",
      "\n",
      "\n",
      "\n",
      "The column TotalBsmtSF has 0 nulls\n",
      "\n",
      "The distribution looks like:\n",
      "count     926.000000\n",
      "mean     1056.298056\n",
      "std       440.521622\n",
      "min         0.000000\n",
      "25%       794.250000\n",
      "50%       990.000000\n",
      "75%      1294.000000\n",
      "max      6110.000000\n",
      "Name: TotalBsmtSF, dtype: float64\n",
      "\n",
      "\n",
      "\n",
      "The column 1stFlrSF has 0 nulls\n",
      "\n",
      "The distribution looks like:\n",
      "count     926.000000\n",
      "mean     1151.717063\n",
      "std       374.627241\n",
      "min       372.000000\n",
      "25%       882.000000\n",
      "50%      1080.000000\n",
      "75%      1381.750000\n",
      "max      4692.000000\n",
      "Name: 1stFlrSF, dtype: float64\n",
      "\n",
      "\n",
      "\n",
      "The column 2ndFlrSF has 0 nulls\n",
      "\n",
      "The distribution looks like:\n",
      "count     926.000000\n",
      "mean      360.433045\n",
      "std       442.276870\n",
      "min         0.000000\n",
      "25%         0.000000\n",
      "50%         0.000000\n",
      "75%       748.750000\n",
      "max      1872.000000\n",
      "Name: 2ndFlrSF, dtype: float64\n",
      "\n",
      "\n",
      "\n",
      "The column GrLivArea has 0 nulls\n",
      "\n",
      "The distribution looks like:\n",
      "count     926.000000\n",
      "mean     1517.138229\n",
      "std       530.633189\n",
      "min       438.000000\n",
      "25%      1122.500000\n",
      "50%      1468.500000\n",
      "75%      1773.250000\n",
      "max      5642.000000\n",
      "Name: GrLivArea, dtype: float64\n",
      "\n",
      "\n",
      "\n",
      "The column GarageType has 46 nulls\n",
      "\n",
      "The distribution looks like:\n",
      "The column has 0 empty cells\n",
      "Attchd     61%\n",
      "Detchd     26%\n",
      "BuiltIn     5%\n",
      "NaN         4%\n",
      "Basment     0%\n",
      "2Types      0%\n",
      "CarPort     0%\n",
      "Name: GarageType, dtype: object\n",
      "\n",
      "\n",
      "\n",
      "The column GarageCars has 0 nulls\n",
      "\n",
      "The distribution looks like:\n",
      "count    926.000000\n",
      "mean       1.801296\n",
      "std        0.745029\n",
      "min        0.000000\n",
      "25%        1.000000\n",
      "50%        2.000000\n",
      "75%        2.000000\n",
      "max        4.000000\n",
      "Name: GarageCars, dtype: float64\n",
      "\n",
      "\n",
      "\n",
      "The column GarageArea has 0 nulls\n",
      "\n",
      "The distribution looks like:\n",
      "count     926.000000\n",
      "mean      481.988121\n",
      "std       215.038714\n",
      "min         0.000000\n",
      "25%       352.000000\n",
      "50%       480.000000\n",
      "75%       581.750000\n",
      "max      1418.000000\n",
      "Name: GarageArea, dtype: float64\n",
      "\n",
      "\n",
      "\n",
      "The column PavedDrive has 0 nulls\n",
      "\n",
      "The distribution looks like:\n",
      "The column has 0 empty cells\n",
      "Y    91%\n",
      "N     6%\n",
      "P     2%\n",
      "Name: PavedDrive, dtype: object\n",
      "\n",
      "\n",
      "\n",
      "The column WoodDeckSF has 0 nulls\n",
      "\n",
      "The distribution looks like:\n",
      "count    926.000000\n",
      "mean      93.781857\n",
      "std      124.154864\n",
      "min        0.000000\n",
      "25%        0.000000\n",
      "50%        0.000000\n",
      "75%      170.750000\n",
      "max      857.000000\n",
      "Name: WoodDeckSF, dtype: float64\n",
      "\n",
      "\n",
      "\n",
      "The column OpenPorchSF has 0 nulls\n",
      "\n",
      "The distribution looks like:\n",
      "count    926.000000\n",
      "mean      46.762419\n",
      "std       65.203214\n",
      "min        0.000000\n",
      "25%        0.000000\n",
      "50%       26.000000\n",
      "75%       68.000000\n",
      "max      547.000000\n",
      "Name: OpenPorchSF, dtype: float64\n",
      "\n",
      "\n",
      "\n",
      "The column EnclosedPorch has 0 nulls\n",
      "\n",
      "The distribution looks like:\n",
      "count    926.000000\n",
      "mean      21.555076\n",
      "std       59.740164\n",
      "min        0.000000\n",
      "25%        0.000000\n",
      "50%        0.000000\n",
      "75%        0.000000\n",
      "max      386.000000\n",
      "Name: EnclosedPorch, dtype: float64\n",
      "\n",
      "\n",
      "\n",
      "The column 3SsnPorch has 0 nulls\n",
      "\n",
      "The distribution looks like:\n",
      "count    926.000000\n",
      "mean       3.879050\n",
      "std       32.396437\n",
      "min        0.000000\n",
      "25%        0.000000\n",
      "50%        0.000000\n",
      "75%        0.000000\n",
      "max      508.000000\n",
      "Name: 3SsnPorch, dtype: float64\n",
      "\n",
      "\n",
      "\n",
      "The column PoolArea has 0 nulls\n",
      "\n",
      "The distribution looks like:\n",
      "count    926.000000\n",
      "mean       1.840173\n",
      "std       32.531803\n",
      "min        0.000000\n",
      "25%        0.000000\n",
      "50%        0.000000\n",
      "75%        0.000000\n",
      "max      648.000000\n",
      "Name: PoolArea, dtype: float64\n",
      "\n",
      "\n",
      "\n",
      "The column Fence has 767 nulls\n",
      "\n",
      "The distribution looks like:\n",
      "The column has 0 empty cells\n",
      "NaN      82%\n",
      "MnPrv     9%\n",
      "GdPrv     3%\n",
      "GdWo      3%\n",
      "MnWw      0%\n",
      "Name: Fence, dtype: object\n",
      "\n",
      "\n",
      "\n",
      "The column MiscFeature has 896 nulls\n",
      "\n",
      "The distribution looks like:\n",
      "The column has 0 empty cells\n",
      "NaN     96%\n",
      "Shed     2%\n",
      "Gar2     0%\n",
      "Othr     0%\n",
      "Name: MiscFeature, dtype: object\n",
      "\n",
      "\n",
      "\n",
      "The column MoSold has 0 nulls\n",
      "\n",
      "The distribution looks like:\n",
      "The column has 0 empty cells\n",
      "6     18%\n",
      "7     15%\n",
      "5     13%\n",
      "4     10%\n",
      "8      7%\n",
      "3      7%\n",
      "10     5%\n",
      "11     5%\n",
      "9      3%\n",
      "12     3%\n",
      "1      3%\n",
      "2      3%\n",
      "Name: MoSold, dtype: object\n",
      "\n",
      "\n",
      "\n",
      "The column YrSold has 0 nulls\n",
      "\n",
      "The distribution looks like:\n",
      "The column has 0 empty cells\n",
      "2007    23%\n",
      "2009    22%\n",
      "2008    21%\n",
      "2006    20%\n",
      "2010    12%\n",
      "Name: YrSold, dtype: object\n",
      "\n",
      "\n",
      "\n"
     ]
    }
   ],
   "source": [
    "for column in knowable_columns:\n",
    "    analyse_column(column, train)"
   ]
  },
  {
   "cell_type": "markdown",
   "id": "04f36cbd-b75d-4da0-a6bb-f9d2ffd6e3ff",
   "metadata": {},
   "source": [
    "Misc comments:\n",
    "\n",
    "* Some of the lot areas are really huge\n",
    "* The street and alley data is very boring and not likely to be of much further use\n",
    "* LotShape is probably fine to include as regular or irregular, but we wouldn't be able to tell the difference beyond that\n",
    "* Utilities has nothing useful\n",
    "* The LandSlope and LandContour can be combined to separate the data a bit more - but in reality it looks like only the LandContour is really all that useful\n",
    "* Note that We should combine the condition1 and condition2 and also reduce the space a bit\n",
    "* The year built and remodelled columns are quite diverse - weirdly there are a lot of 1950s for remoddeling\n",
    "* The materials columns are quite basic and don't have too much to them\n",
    "* When there is no second floor there is a 0\n",
    "\n",
    "We don't want to spend a huge amount of time here, so we are going to pick out the pieces of information that seem most useful to us:\n",
    "\n",
    "* Total and livable area\n",
    "* Number of floors\n",
    "* Neighbourhood\n",
    "* Year built and refurbished\n",
    "* Garage size\n",
    "* Building type\n",
    "* Lot shape and the \"type\" (i.e. config)\n",
    "* Year sold\n",
    "\n",
    "## Dividing train and validation\n",
    "Again, let's divide train and validation, just before we run the different feature creations. We take 30% again."
   ]
  },
  {
   "cell_type": "code",
   "execution_count": 74,
   "id": "8cdf591a-8352-4028-baa2-e98d124769c1",
   "metadata": {},
   "outputs": [],
   "source": [
    "interesting_columns = [\n",
    "    'MSZoning', 'LotArea', 'LotShape', 'LandContour', \n",
    "    'LotConfig', 'Neighborhood', 'BldgType', 'HouseStyle', \n",
    "    'YearBuilt', 'YearRemodAdd', 'ExterCond', 'TotalBsmtSF', \n",
    "    '1stFlrSF', '2ndFlrSF', 'GrLivArea', 'GarageCars', 'YrSold',\n",
    "    'SalePrice', 'target'\n",
    "]"
   ]
  },
  {
   "cell_type": "code",
   "execution_count": 75,
   "id": "8ac033f3-c7eb-4962-bfe4-3e6685acea8e",
   "metadata": {},
   "outputs": [],
   "source": [
    "train_train, train_val = train_test_split(train[interesting_columns], test_size=TEST_PROP, random_state=0)"
   ]
  },
  {
   "cell_type": "code",
   "execution_count": 76,
   "id": "0e1aa528-cb0e-4afa-91be-cf0d965d6d29",
   "metadata": {},
   "outputs": [
    {
     "data": {
      "text/html": [
       "<div>\n",
       "<style scoped>\n",
       "    .dataframe tbody tr th:only-of-type {\n",
       "        vertical-align: middle;\n",
       "    }\n",
       "\n",
       "    .dataframe tbody tr th {\n",
       "        vertical-align: top;\n",
       "    }\n",
       "\n",
       "    .dataframe thead th {\n",
       "        text-align: right;\n",
       "    }\n",
       "</style>\n",
       "<table border=\"1\" class=\"dataframe\">\n",
       "  <thead>\n",
       "    <tr style=\"text-align: right;\">\n",
       "      <th></th>\n",
       "      <th>MSZoning</th>\n",
       "      <th>LotArea</th>\n",
       "      <th>LotShape</th>\n",
       "      <th>LandContour</th>\n",
       "      <th>LotConfig</th>\n",
       "      <th>Neighborhood</th>\n",
       "      <th>BldgType</th>\n",
       "      <th>HouseStyle</th>\n",
       "      <th>YearBuilt</th>\n",
       "      <th>YearRemodAdd</th>\n",
       "      <th>ExterCond</th>\n",
       "      <th>TotalBsmtSF</th>\n",
       "      <th>1stFlrSF</th>\n",
       "      <th>2ndFlrSF</th>\n",
       "      <th>GrLivArea</th>\n",
       "      <th>GarageCars</th>\n",
       "      <th>YrSold</th>\n",
       "      <th>SalePrice</th>\n",
       "      <th>target</th>\n",
       "    </tr>\n",
       "  </thead>\n",
       "  <tbody>\n",
       "    <tr>\n",
       "      <th>1115</th>\n",
       "      <td>RL</td>\n",
       "      <td>12393</td>\n",
       "      <td>IR2</td>\n",
       "      <td>Lvl</td>\n",
       "      <td>FR2</td>\n",
       "      <td>CollgCr</td>\n",
       "      <td>1Fam</td>\n",
       "      <td>2Story</td>\n",
       "      <td>2004</td>\n",
       "      <td>2005</td>\n",
       "      <td>TA</td>\n",
       "      <td>847</td>\n",
       "      <td>847</td>\n",
       "      <td>1101</td>\n",
       "      <td>1948</td>\n",
       "      <td>2</td>\n",
       "      <td>2006</td>\n",
       "      <td>195000</td>\n",
       "      <td>True</td>\n",
       "    </tr>\n",
       "    <tr>\n",
       "      <th>350</th>\n",
       "      <td>RL</td>\n",
       "      <td>5000</td>\n",
       "      <td>Reg</td>\n",
       "      <td>Lvl</td>\n",
       "      <td>Inside</td>\n",
       "      <td>SWISU</td>\n",
       "      <td>1Fam</td>\n",
       "      <td>1.5Fin</td>\n",
       "      <td>1924</td>\n",
       "      <td>1950</td>\n",
       "      <td>TA</td>\n",
       "      <td>1026</td>\n",
       "      <td>1026</td>\n",
       "      <td>665</td>\n",
       "      <td>1691</td>\n",
       "      <td>1</td>\n",
       "      <td>2010</td>\n",
       "      <td>127000</td>\n",
       "      <td>True</td>\n",
       "    </tr>\n",
       "    <tr>\n",
       "      <th>71</th>\n",
       "      <td>RM</td>\n",
       "      <td>10440</td>\n",
       "      <td>Reg</td>\n",
       "      <td>Lvl</td>\n",
       "      <td>Corner</td>\n",
       "      <td>OldTown</td>\n",
       "      <td>1Fam</td>\n",
       "      <td>2Story</td>\n",
       "      <td>1910</td>\n",
       "      <td>1981</td>\n",
       "      <td>TA</td>\n",
       "      <td>440</td>\n",
       "      <td>682</td>\n",
       "      <td>548</td>\n",
       "      <td>1230</td>\n",
       "      <td>2</td>\n",
       "      <td>2009</td>\n",
       "      <td>110000</td>\n",
       "      <td>True</td>\n",
       "    </tr>\n",
       "    <tr>\n",
       "      <th>67</th>\n",
       "      <td>RM</td>\n",
       "      <td>1596</td>\n",
       "      <td>Reg</td>\n",
       "      <td>Lvl</td>\n",
       "      <td>Inside</td>\n",
       "      <td>MeadowV</td>\n",
       "      <td>Twnhs</td>\n",
       "      <td>SLvl</td>\n",
       "      <td>1973</td>\n",
       "      <td>1973</td>\n",
       "      <td>TA</td>\n",
       "      <td>462</td>\n",
       "      <td>526</td>\n",
       "      <td>462</td>\n",
       "      <td>988</td>\n",
       "      <td>1</td>\n",
       "      <td>2009</td>\n",
       "      <td>91000</td>\n",
       "      <td>True</td>\n",
       "    </tr>\n",
       "    <tr>\n",
       "      <th>470</th>\n",
       "      <td>RL</td>\n",
       "      <td>10594</td>\n",
       "      <td>Reg</td>\n",
       "      <td>Lvl</td>\n",
       "      <td>Inside</td>\n",
       "      <td>Crawfor</td>\n",
       "      <td>1Fam</td>\n",
       "      <td>1.5Unf</td>\n",
       "      <td>1926</td>\n",
       "      <td>1950</td>\n",
       "      <td>TA</td>\n",
       "      <td>768</td>\n",
       "      <td>789</td>\n",
       "      <td>0</td>\n",
       "      <td>789</td>\n",
       "      <td>1</td>\n",
       "      <td>2007</td>\n",
       "      <td>96500</td>\n",
       "      <td>True</td>\n",
       "    </tr>\n",
       "  </tbody>\n",
       "</table>\n",
       "</div>"
      ],
      "text/plain": [
       "     MSZoning  LotArea LotShape LandContour LotConfig Neighborhood BldgType  \\\n",
       "1115       RL    12393      IR2         Lvl       FR2      CollgCr     1Fam   \n",
       "350        RL     5000      Reg         Lvl    Inside        SWISU     1Fam   \n",
       "71         RM    10440      Reg         Lvl    Corner      OldTown     1Fam   \n",
       "67         RM     1596      Reg         Lvl    Inside      MeadowV    Twnhs   \n",
       "470        RL    10594      Reg         Lvl    Inside      Crawfor     1Fam   \n",
       "\n",
       "     HouseStyle  YearBuilt  YearRemodAdd ExterCond  TotalBsmtSF  1stFlrSF  \\\n",
       "1115     2Story       2004          2005        TA          847       847   \n",
       "350      1.5Fin       1924          1950        TA         1026      1026   \n",
       "71       2Story       1910          1981        TA          440       682   \n",
       "67         SLvl       1973          1973        TA          462       526   \n",
       "470      1.5Unf       1926          1950        TA          768       789   \n",
       "\n",
       "      2ndFlrSF  GrLivArea  GarageCars  YrSold  SalePrice  target  \n",
       "1115      1101       1948           2    2006     195000    True  \n",
       "350        665       1691           1    2010     127000    True  \n",
       "71         548       1230           2    2009     110000    True  \n",
       "67         462        988           1    2009      91000    True  \n",
       "470          0        789           1    2007      96500    True  "
      ]
     },
     "execution_count": 76,
     "metadata": {},
     "output_type": "execute_result"
    }
   ],
   "source": [
    "train_train.head()"
   ]
  },
  {
   "cell_type": "markdown",
   "id": "f9989477-b2fd-4421-a3bb-bc95c171772f",
   "metadata": {},
   "source": [
    "## Understanding year sold\n",
    "The first thing I want to look at is if the year sold affects the price - it could be that prices took a huge hit at some point."
   ]
  },
  {
   "cell_type": "code",
   "execution_count": 77,
   "id": "80bab6a2-ebe4-4770-bf3c-d11c2fedb5be",
   "metadata": {},
   "outputs": [
    {
     "data": {
      "text/plain": [
       "YrSold\n",
       "2006    163000\n",
       "2007    168500\n",
       "2008    165250\n",
       "2009    174750\n",
       "2010    158000\n",
       "Name: SalePrice, dtype: int64"
      ]
     },
     "execution_count": 77,
     "metadata": {},
     "output_type": "execute_result"
    }
   ],
   "source": [
    "train_train.groupby('YrSold')['SalePrice'].median()"
   ]
  },
  {
   "cell_type": "markdown",
   "id": "cde82cca-edd6-466c-82f2-03650dafcc20",
   "metadata": {},
   "source": [
    "So there is definitely a bit of a pattern here where the financial crash seems to have affected things. One approach to get rid of this effect would be to simply normalise the prices within the years - but we aren't going to go any further with this for now, just a good thing to point out."
   ]
  },
  {
   "cell_type": "markdown",
   "id": "583756c2-92ad-44db-a884-74afd5c91def",
   "metadata": {},
   "source": [
    "## Building and fixing features\n",
    "We are going to do a few things here to build features and fix them to get ready for some model. Note that for some of these we will go back and do it again on the full training data since there's no problem - but we will use the `train_train` to determine transformations without peaking (`random_state` ensures we keep consistency)."
   ]
  },
  {
   "cell_type": "markdown",
   "id": "99cc6c22-e6ab-4f3d-aa36-ccbb11bc96c1",
   "metadata": {},
   "source": [
    "First we will do some things to even up the distributions of the variables and make sure we have good representation. Note that even 10% of the data is only around 100 points, so we should aim for at least that value."
   ]
  },
  {
   "cell_type": "code",
   "execution_count": 83,
   "id": "0ce328b4-7668-4e34-8f4c-0919e315bfd5",
   "metadata": {},
   "outputs": [],
   "source": [
    "def create_basic_features(input_col, comparison, new_name, valid_features):\n",
    "    train[new_name] = train[input_col] == comparison\n",
    "    valid_features.append(new_name)"
   ]
  },
  {
   "cell_type": "code",
   "execution_count": 138,
   "id": "086cab40-5b7c-4673-b727-577e8f1d3f4b",
   "metadata": {},
   "outputs": [],
   "source": [
    "valid_features = []\n",
    "\n",
    "# Modify zoning to simply suggest low density\n",
    "create_basic_features('MSZoning', 'RL', 'is_low_density', valid_features)\n",
    "\n",
    "# If it is regular\n",
    "create_basic_features('LotShape', 'Reg', 'is_regular_lot', valid_features)\n",
    "\n",
    "# If level lot\n",
    "create_basic_features('LandContour', 'Lvl', 'is_level_lot', valid_features)\n",
    "\n",
    "# If a 1 family\n",
    "create_basic_features('BldgType', '1Fam', 'is_1fam', valid_features)\n",
    "\n",
    "# Reduce options for lot config\n",
    "train.loc[~train['LotConfig'].isin(['Inside', 'Corner']), 'LotConfig'] = 'Other'\n",
    "valid_features.append('LotConfig')\n",
    "\n",
    "# Reduce neighbourhood\n",
    "top_neighbourhoods = pd.DataFrame(train_train['Neighborhood'].value_counts(normalize=True)).query('Neighborhood > 0.05').index.tolist()\n",
    "train.loc[~train['Neighborhood'].isin(top_neighbourhoods), 'Neighborhood'] = 'Other'\n",
    "valid_features.append('Neighborhood')\n",
    "\n",
    "# If has remodel - NOTE that chose to use the +2 because it seemed the most logical - remodelling the year after building is weird\n",
    "train['has_remodel'] = train['YearRemodAdd'] > train['YearBuilt'] + 2\n",
    "valid_features.append('has_remodel')\n",
    "\n",
    "# Has no garage or a big garage\n",
    "train['garage_type'] = np.where(train['GarageCars'] == 0, 'No garage', np.where(train['GarageCars'] == 1, 'Single car', 'Bigger'))\n",
    "valid_features.append('has_remodel')\n",
    "\n",
    "# No second floor\n",
    "train['no_second_floor'] = train['2ndFlrSF'] == 0\n",
    "valid_features.append('no_second_floor')"
   ]
  },
  {
   "cell_type": "markdown",
   "id": "4f541564-f91a-4241-9a30-26dc9d72c8ef",
   "metadata": {},
   "source": [
    "These are some basic features - now we have to make some slightly more complex ones. We want to look at the square footage and when it was built (to get an idea of age). Let's graph the variables."
   ]
  },
  {
   "cell_type": "code",
   "execution_count": 115,
   "id": "c96a31f8-96aa-4b94-ba74-4743c1ef9bfc",
   "metadata": {},
   "outputs": [
    {
     "data": {
      "image/png": "[encoded data removed]",
      "text/plain": [
       "<Figure size 640x480 with 1 Axes>"
      ]
     },
     "metadata": {},
     "output_type": "display_data"
    }
   ],
   "source": [
    "graph_data = train_train.YearBuilt.value_counts(normalize=True).reset_index()\n",
    "graph = pn.ggplot(graph_data, pn.aes(x='index', y='YearBuilt')) + pn.geom_col() + pn.xlab('') + pn.ylab('Proportion of listings')\n",
    "graph.draw();"
   ]
  },
  {
   "cell_type": "markdown",
   "id": "102b5a79-f837-49f4-a442-eb6a56104708",
   "metadata": {},
   "source": [
    "There seem to be some big groups - post 1980, post 1940, and post 1900. Let's just make those groups without complicating ourselves too much."
   ]
  },
  {
   "cell_type": "code",
   "execution_count": 122,
   "id": "c020c128-9a14-4be0-9ab8-9046432f3349",
   "metadata": {},
   "outputs": [
    {
     "data": {
      "image/png": "[encoded data removed]",
      "text/plain": [
       "<Figure size 640x480 with 1 Axes>"
      ]
     },
     "metadata": {},
     "output_type": "display_data"
    }
   ],
   "source": [
    "graph = pn.ggplot(train_train, pn.aes(x='MSZoning', y='LotArea')) + pn.geom_boxplot() + pn.coord_cartesian(ylim=(0, 20000))\n",
    "graph.draw();"
   ]
  },
  {
   "cell_type": "code",
   "execution_count": 123,
   "id": "d58763d8-33f1-4346-ad8a-3e364b2bd60f",
   "metadata": {},
   "outputs": [
    {
     "data": {
      "image/png": "[encoded data removed]",
      "text/plain": [
       "<Figure size 640x480 with 1 Axes>"
      ]
     },
     "metadata": {},
     "output_type": "display_data"
    }
   ],
   "source": [
    "graph = pn.ggplot(train_train, pn.aes(x='MSZoning', y='GrLivArea')) + pn.geom_boxplot() + pn.coord_cartesian(ylim=(0, 20000))\n",
    "graph.draw();"
   ]
  },
  {
   "cell_type": "code",
   "execution_count": 124,
   "id": "4c26288f-c5d4-4c83-9d9c-f21297385f12",
   "metadata": {},
   "outputs": [
    {
     "data": {
      "image/png": "[encoded data removed]",
      "text/plain": [
       "<Figure size 640x480 with 1 Axes>"
      ]
     },
     "metadata": {},
     "output_type": "display_data"
    }
   ],
   "source": [
    "train_train['lot_liv_diff'] = train_train.LotArea - train_train.GrLivArea\n",
    "graph = pn.ggplot(train_train, pn.aes(x='MSZoning', y='lot_liv_diff')) + pn.geom_boxplot() + pn.coord_cartesian(ylim=(0, 20000))\n",
    "graph.draw();"
   ]
  },
  {
   "cell_type": "markdown",
   "id": "fbfbef04-f01b-4a83-9671-27f43fa73656",
   "metadata": {},
   "source": [
    "We can see that the low density residential areas have most of our outliers, and otherwise we tend to be around 5k to 10k. We also see that the living area is quite a bit smaller but we still have some outliers. Let's also analyse this with respect to the target."
   ]
  },
  {
   "cell_type": "code",
   "execution_count": 133,
   "id": "b4526755-bf76-41cb-a179-5e7bd8af222f",
   "metadata": {},
   "outputs": [
    {
     "data": {
      "image/png": "[encoded data removed]",
      "text/plain": [
       "<Figure size 640x480 with 1 Axes>"
      ]
     },
     "metadata": {},
     "output_type": "display_data"
    }
   ],
   "source": [
    "graph = pn.ggplot(train_train, pn.aes(x='LotArea', y='SalePrice', color='MSZoning')) + pn.geom_point()\n",
    "graph.draw();"
   ]
  },
  {
   "cell_type": "code",
   "execution_count": 134,
   "id": "c8181e2e-08c5-4b3d-9e4a-308d6a39e0da",
   "metadata": {},
   "outputs": [
    {
     "data": {
      "image/png": "[encoded data removed]",
      "text/plain": [
       "<Figure size 640x480 with 1 Axes>"
      ]
     },
     "metadata": {},
     "output_type": "display_data"
    }
   ],
   "source": [
    "graph = pn.ggplot(train_train, pn.aes(x='GrLivArea', y='SalePrice', color='MSZoning')) + pn.geom_point()\n",
    "graph.draw();"
   ]
  },
  {
   "cell_type": "code",
   "execution_count": 136,
   "id": "bcd1ed96-c202-45ca-8d07-4c643fd7f4a1",
   "metadata": {},
   "outputs": [
    {
     "data": {
      "text/html": [
       "<div>\n",
       "<style scoped>\n",
       "    .dataframe tbody tr th:only-of-type {\n",
       "        vertical-align: middle;\n",
       "    }\n",
       "\n",
       "    .dataframe tbody tr th {\n",
       "        vertical-align: top;\n",
       "    }\n",
       "\n",
       "    .dataframe thead th {\n",
       "        text-align: right;\n",
       "    }\n",
       "</style>\n",
       "<table border=\"1\" class=\"dataframe\">\n",
       "  <thead>\n",
       "    <tr style=\"text-align: right;\">\n",
       "      <th></th>\n",
       "      <th>LotArea</th>\n",
       "      <th>GrLivArea</th>\n",
       "    </tr>\n",
       "  </thead>\n",
       "  <tbody>\n",
       "    <tr>\n",
       "      <th>LotArea</th>\n",
       "      <td>1.000000</td>\n",
       "      <td>0.403422</td>\n",
       "    </tr>\n",
       "    <tr>\n",
       "      <th>GrLivArea</th>\n",
       "      <td>0.403422</td>\n",
       "      <td>1.000000</td>\n",
       "    </tr>\n",
       "  </tbody>\n",
       "</table>\n",
       "</div>"
      ],
      "text/plain": [
       "            LotArea  GrLivArea\n",
       "LotArea    1.000000   0.403422\n",
       "GrLivArea  0.403422   1.000000"
      ]
     },
     "execution_count": 136,
     "metadata": {},
     "output_type": "execute_result"
    }
   ],
   "source": [
    "train_train[['LotArea', 'GrLivArea']].corr()"
   ]
  },
  {
   "cell_type": "markdown",
   "id": "895d5671-baeb-4b1c-ac04-0e961996f1aa",
   "metadata": {},
   "source": [
    "We see something interesting here where the price of the lot changes with different rates depending on some third variable we have. This is probably related to more rural style homes. We do see, though, that above around 20k square feet, we don't actually have that many that were too expensive. The living area, overall, seems like a better variable to take into account, but there is probably some magic we could do here to take the area into account well too (e.g. we might find somewhere with a big garden but small living area)."
   ]
  },
  {
   "cell_type": "code",
   "execution_count": 139,
   "id": "bc3b0cf8-62fb-44ca-b82b-6f4e677a7942",
   "metadata": {},
   "outputs": [],
   "source": [
    "# Classify year\n",
    "cats = [0, 1900, 1940, 1980, 2020]\n",
    "train['build_year_cats'] = pd.cut(train['YearBuilt'], cats, labels=['Pre-1900', 'Pre-War', 'Post-War', 'Modern'])\n",
    "valid_features.append('build_year_cats')\n",
    "\n",
    "# And just take the living area\n",
    "valid_features.append('GrLivArea')"
   ]
  },
  {
   "cell_type": "markdown",
   "id": "32ed0911-6d12-4007-af84-cd390df4b640",
   "metadata": {},
   "source": [
    "## Training a model\n",
    "Now let's train a model using our features and the target. We will make this quite simple, trying a [logistic regression](https://scikit-learn.org/stable/modules/generated/sklearn.linear_model.LogisticRegression.html) and a [random forrest](https://scikit-learn.org/stable/modules/generated/sklearn.ensemble.RandomForestClassifier.html), just to highlight the difference.\n",
    "\n",
    "Note that we will need to convert into dummy variables first. We shouldn't have any issues doing this with reproducibility later."
   ]
  },
  {
   "cell_type": "markdown",
   "id": "17d8aff4-38b1-4a58-9ec6-a87d156d7992",
   "metadata": {},
   "source": [
    "### Baseline\n",
    "First let's get a baseline model. A nice example could be to do this with the neighborhoods and mark all the properties in neighborhoods with a certain proportion of expensive houses as not worth going."
   ]
  },
  {
   "cell_type": "code",
   "execution_count": 148,
   "id": "3ec5c9de-c3e9-47f2-9e1f-dae9663f38be",
   "metadata": {},
   "outputs": [],
   "source": [
    "train_train, train_val = train_test_split(train[['Neighborhood'] + ['target']], test_size=TEST_PROP, random_state=0)"
   ]
  },
  {
   "cell_type": "code",
   "execution_count": 161,
   "id": "e982a753-fc8e-405e-ac0c-05910e808619",
   "metadata": {},
   "outputs": [
    {
     "name": "stdout",
     "output_type": "stream",
     "text": [
      "For a \"decision threshold\" of 0, we get an accuracy of 68%\n",
      "For a \"decision threshold\" of 0.5, we get an accuracy of 74%\n",
      "For a \"decision threshold\" of 0.6, we get an accuracy of 76%\n",
      "For a \"decision threshold\" of 0.7, we get an accuracy of 76%\n",
      "For a \"decision threshold\" of 0.8, we get an accuracy of 59%\n"
     ]
    }
   ],
   "source": [
    "thresholds = [0, 0.5, 0.6, 0.7, 0.8]\n",
    "for threshold in thresholds:\n",
    "    good_n = train_train.groupby('Neighborhood').target.mean().reset_index().query(f'target > {threshold}')['Neighborhood']\n",
    "    train_val['prediction'] = np.where(train_val['Neighborhood'].isin(good_n), True, False)\n",
    "    \n",
    "    print(f'For a \"decision threshold\" of {threshold}, we get an accuracy of {accuracy_score(train_val.target, train_val.prediction):.0%}')"
   ]
  },
  {
   "cell_type": "markdown",
   "id": "80674ed2-9eee-4c21-937c-51b2f8dbf0ff",
   "metadata": {},
   "source": [
    "Note that the threshold of 0 is just the baseline. We can see then that the accuracy is actually not that bad for some thresholds.\n",
    "\n",
    "### Modelling\n",
    "Now we transform the input and model!"
   ]
  },
  {
   "cell_type": "code",
   "execution_count": 145,
   "id": "a9cdbb7b-8e1d-4e3e-b091-26ae77cb70b4",
   "metadata": {},
   "outputs": [
    {
     "data": {
      "text/plain": [
       "is_low_density     0\n",
       "is_regular_lot     0\n",
       "is_level_lot       0\n",
       "is_1fam            0\n",
       "LotConfig          0\n",
       "Neighborhood       0\n",
       "has_remodel        0\n",
       "has_remodel        0\n",
       "no_second_floor    0\n",
       "build_year_cats    0\n",
       "GrLivArea          0\n",
       "dtype: int64"
      ]
     },
     "execution_count": 145,
     "metadata": {},
     "output_type": "execute_result"
    }
   ],
   "source": [
    "# First check nulls!\n",
    "train[valid_features].isna().sum()"
   ]
  },
  {
   "cell_type": "code",
   "execution_count": 164,
   "id": "e824aaf4-e5c5-451c-a8ac-a7ec70d168a7",
   "metadata": {},
   "outputs": [],
   "source": [
    "train_train, train_val = train_test_split(\n",
    "    pd.concat([pd.get_dummies(train[valid_features]), train['target']], axis=1), test_size=TEST_PROP, random_state=0\n",
    ")"
   ]
  },
  {
   "cell_type": "code",
   "execution_count": 167,
   "id": "cd6c1316-a06f-478f-8ae5-5f7dee58dd91",
   "metadata": {},
   "outputs": [],
   "source": [
    "X_cols = [col for col in train_train if col != 'target']"
   ]
  },
  {
   "cell_type": "markdown",
   "id": "1ca9b9d6-5067-4198-837a-27a4337a2163",
   "metadata": {},
   "source": [
    "#### Logistic regression"
   ]
  },
  {
   "cell_type": "code",
   "execution_count": 168,
   "id": "8a030231-15ce-4393-b03d-33518198b395",
   "metadata": {},
   "outputs": [
    {
     "name": "stderr",
     "output_type": "stream",
     "text": [
      "/Library/Python/3.8/site-packages/sklearn/linear_model/_logistic.py:763: ConvergenceWarning: lbfgs failed to converge (status=1):\n",
      "STOP: TOTAL NO. of ITERATIONS REACHED LIMIT.\n",
      "\n",
      "Increase the number of iterations (max_iter) or scale the data as shown in:\n",
      "    https://scikit-learn.org/stable/modules/preprocessing.html\n",
      "Please also refer to the documentation for alternative solver options:\n",
      "    https://scikit-learn.org/stable/modules/linear_model.html#logistic-regression\n"
     ]
    }
   ],
   "source": [
    "model = LogisticRegression(random_state=99).fit(train_train[X_cols], train_train['target'])"
   ]
  },
  {
   "cell_type": "code",
   "execution_count": 178,
   "id": "318daabd-d878-451e-a8e7-8a9ae0f87e87",
   "metadata": {},
   "outputs": [
    {
     "data": {
      "text/plain": [
       "[('is_low_density', -0.549517952610871),\n",
       " ('is_regular_lot', 0.11815810284597801),\n",
       " ('is_level_lot', 1.177096555828788),\n",
       " ('is_1fam', -0.6628846730582773),\n",
       " ('has_remodel', -0.07629248792413136),\n",
       " ('has_remodel', -0.07629248792413136),\n",
       " ('no_second_floor', -0.07629248792422481),\n",
       " ('GrLivArea', -0.07629248792422481),\n",
       " ('LotConfig_Corner', -1.1692595405387196),\n",
       " ('LotConfig_Inside', -0.0034605785283669606),\n",
       " ('LotConfig_Other', 1.285908690243562),\n",
       " ('Neighborhood_CollgCr', 1.2579108156383518),\n",
       " ('Neighborhood_Edwards', 1.2438981193973),\n",
       " ('Neighborhood_NAmes', 0.26390168549691245),\n",
       " ('Neighborhood_NridgHt', 1.6358563716519898),\n",
       " ('Neighborhood_OldTown', 1.0525156470444554),\n",
       " ('Neighborhood_Other', -1.1824079627823842),\n",
       " ('Neighborhood_Somerst', 2.0284632597043926),\n",
       " ('build_year_cats_Pre-1900', 0.7697350827419941),\n",
       " ('build_year_cats_Pre-War', -0.7803464585840396),\n",
       " ('build_year_cats_Post-War', 0.9727832060984344),\n",
       " ('build_year_cats_Modern', 1.1608344617387307)]"
      ]
     },
     "execution_count": 178,
     "metadata": {},
     "output_type": "execute_result"
    }
   ],
   "source": [
    "[(feat, coef) for feat, coef in zip(X_cols, model.coef_[0].tolist())]"
   ]
  },
  {
   "cell_type": "markdown",
   "id": "80a5a7d2-7437-4fbb-b077-c863a82705b9",
   "metadata": {},
   "source": [
    "So the really strong features are things like it being modern and the difference neighborhoods. Note that when positive, it means that we predict a lower price. There are some weird things here like some more modern ones are cheaper - but it might be to do with the sizes. The neighborhoods hold a lot of the information overall.\n",
    "\n",
    "Note that it would be good to see the statistical evaluation here by consulting statsmodels."
   ]
  },
  {
   "cell_type": "code",
   "execution_count": 187,
   "id": "6f895712-16d6-481b-8386-e1744931b401",
   "metadata": {},
   "outputs": [],
   "source": [
    "train_val['log_prediction_proba'] = model.predict_proba(train_val[X_cols])[:,1]"
   ]
  },
  {
   "cell_type": "code",
   "execution_count": 193,
   "id": "2e2e8f72-99d3-42d1-8b56-e3f856ea0115",
   "metadata": {},
   "outputs": [
    {
     "name": "stdout",
     "output_type": "stream",
     "text": [
      "For a \"decision threshold\" of 0, we get an accuracy of 68%\n",
      "For a \"decision threshold\" of 0.5, we get an accuracy of 93%\n",
      "For a \"decision threshold\" of 0.6, we get an accuracy of 91%\n",
      "For a \"decision threshold\" of 0.7, we get an accuracy of 90%\n",
      "For a \"decision threshold\" of 0.8, we get an accuracy of 84%\n"
     ]
    }
   ],
   "source": [
    "thresholds = [0, 0.5, 0.6, 0.7, 0.8]\n",
    "for threshold in thresholds:\n",
    "    train_val['log_prediction'] = train_val['log_prediction_proba'] > threshold\n",
    "    \n",
    "    print(f'For a \"decision threshold\" of {threshold}, we get an accuracy of {accuracy_score(train_val.target, train_val.log_prediction):.0%}')"
   ]
  },
  {
   "cell_type": "markdown",
   "id": "5a1d8a65-03dd-4828-965a-a0866f4b66a6",
   "metadata": {},
   "source": [
    "What if we reduced the variables even more?"
   ]
  },
  {
   "cell_type": "code",
   "execution_count": 225,
   "id": "3a757c1b-a887-4ceb-a781-228eb94df855",
   "metadata": {},
   "outputs": [],
   "source": [
    "reduced_valid_features = ['Neighborhood', 'GrLivArea', 'build_year_cats']\n",
    "train_train, train_val = train_test_split(\n",
    "    pd.concat([pd.get_dummies(train[reduced_valid_features]), train['target']], axis=1), test_size=TEST_PROP, random_state=0\n",
    ")"
   ]
  },
  {
   "cell_type": "code",
   "execution_count": 226,
   "id": "33ba3b90-ada8-4f24-ad5b-5ad304f45bf5",
   "metadata": {},
   "outputs": [],
   "source": [
    "X_cols = [col for col in train_train if col != 'target']"
   ]
  },
  {
   "cell_type": "code",
   "execution_count": 227,
   "id": "1631dff2-ddb5-4c2a-895a-679b576c8b0c",
   "metadata": {},
   "outputs": [
    {
     "name": "stderr",
     "output_type": "stream",
     "text": [
      "/Library/Python/3.8/site-packages/sklearn/linear_model/_logistic.py:763: ConvergenceWarning: lbfgs failed to converge (status=1):\n",
      "STOP: TOTAL NO. of ITERATIONS REACHED LIMIT.\n",
      "\n",
      "Increase the number of iterations (max_iter) or scale the data as shown in:\n",
      "    https://scikit-learn.org/stable/modules/preprocessing.html\n",
      "Please also refer to the documentation for alternative solver options:\n",
      "    https://scikit-learn.org/stable/modules/linear_model.html#logistic-regression\n"
     ]
    }
   ],
   "source": [
    "model = LogisticRegression(random_state=99).fit(train_train[X_cols], train_train['target'])"
   ]
  },
  {
   "cell_type": "code",
   "execution_count": 212,
   "id": "9e3048da-9489-4fcd-befc-f2c4a6e9f815",
   "metadata": {},
   "outputs": [
    {
     "data": {
      "text/plain": [
       "[('GrLivArea', -0.0030626457163931476),\n",
       " ('Neighborhood_CollgCr', -0.1816574804853892),\n",
       " ('Neighborhood_Edwards', 1.6864791665173768),\n",
       " ('Neighborhood_NAmes', 0.5414107967396193),\n",
       " ('Neighborhood_NridgHt', -1.3788208930052488),\n",
       " ('Neighborhood_OldTown', 1.9421326166740098),\n",
       " ('Neighborhood_Other', 0.18758083386171437),\n",
       " ('Neighborhood_Somerst', -0.5965005926827024),\n",
       " ('build_year_cats_Pre-1900', 1.2595961313294515),\n",
       " ('build_year_cats_Pre-War', 0.5423380118396154),\n",
       " ('build_year_cats_Post-War', 1.0395053757810937),\n",
       " ('build_year_cats_Modern', -0.6408150709578395)]"
      ]
     },
     "execution_count": 212,
     "metadata": {},
     "output_type": "execute_result"
    }
   ],
   "source": [
    "[(feat, coef) for feat, coef in zip(X_cols, model.coef_[0].tolist())]"
   ]
  },
  {
   "cell_type": "markdown",
   "id": "4a2c00f5-bdf9-4fa1-b060-4342da336dd3",
   "metadata": {},
   "source": [
    "Now the values make a bit more sense."
   ]
  },
  {
   "cell_type": "code",
   "execution_count": 213,
   "id": "461f72a3-08ef-44f7-aa0f-9aa11e74c170",
   "metadata": {},
   "outputs": [],
   "source": [
    "train_val['log_prediction_proba'] = model.predict_proba(train_val[X_cols])[:,1]"
   ]
  },
  {
   "cell_type": "code",
   "execution_count": 214,
   "id": "7a01e138-660d-48a2-83fe-9849c00900da",
   "metadata": {},
   "outputs": [
    {
     "name": "stdout",
     "output_type": "stream",
     "text": [
      "For a \"decision threshold\" of 0, we get an accuracy of 68%\n",
      "For a \"decision threshold\" of 0.5, we get an accuracy of 88%\n",
      "For a \"decision threshold\" of 0.6, we get an accuracy of 89%\n",
      "For a \"decision threshold\" of 0.7, we get an accuracy of 87%\n",
      "For a \"decision threshold\" of 0.8, we get an accuracy of 83%\n"
     ]
    }
   ],
   "source": [
    "thresholds = [0, 0.5, 0.6, 0.7, 0.8]\n",
    "for threshold in thresholds:\n",
    "    train_val['log_prediction'] = train_val['log_prediction_proba'] > threshold\n",
    "    \n",
    "    print(f'For a \"decision threshold\" of {threshold}, we get an accuracy of {accuracy_score(train_val.target, train_val.log_prediction):.0%}')"
   ]
  },
  {
   "cell_type": "code",
   "execution_count": 215,
   "id": "2164bf3a-6a09-4068-a572-54a2646a477f",
   "metadata": {},
   "outputs": [
    {
     "data": {
      "text/plain": [
       "(278, 15)"
      ]
     },
     "execution_count": 215,
     "metadata": {},
     "output_type": "execute_result"
    }
   ],
   "source": [
    "train_val.shape"
   ]
  },
  {
   "cell_type": "markdown",
   "id": "8a8e030c-d929-4277-bf8d-727f35a40d41",
   "metadata": {},
   "source": [
    "But we have lost some predictive power, it seems, although not much - as a drop in 1% only corresponds to around 2 or 3 examples."
   ]
  },
  {
   "cell_type": "markdown",
   "id": "8f3fea5e-6b1d-40cc-9d89-3c2bd1639f49",
   "metadata": {},
   "source": [
    "#### RandomForrest"
   ]
  },
  {
   "cell_type": "code",
   "execution_count": 216,
   "id": "ac727b5c-2723-4745-8797-1376086a3f25",
   "metadata": {},
   "outputs": [],
   "source": [
    "train_train, train_val = train_test_split(\n",
    "    pd.concat([pd.get_dummies(train[valid_features]), train['target']], axis=1), test_size=TEST_PROP, random_state=0\n",
    ")"
   ]
  },
  {
   "cell_type": "code",
   "execution_count": 217,
   "id": "30e327d2-2210-4100-947f-2cdc19617b80",
   "metadata": {},
   "outputs": [],
   "source": [
    "X_cols = [col for col in train_train if col != 'target']"
   ]
  },
  {
   "cell_type": "code",
   "execution_count": 218,
   "id": "6b820eab-2637-4bcd-b285-97352b8aa8dc",
   "metadata": {},
   "outputs": [],
   "source": [
    "model = RandomForestClassifier(random_state=99).fit(train_train[X_cols], train_train['target'])"
   ]
  },
  {
   "cell_type": "code",
   "execution_count": 219,
   "id": "ebde2c24-da19-43e2-be07-a09197526b56",
   "metadata": {},
   "outputs": [],
   "source": [
    "train_val['rf_prediction'] = model.predict(train_val[X_cols])"
   ]
  },
  {
   "cell_type": "code",
   "execution_count": 220,
   "id": "42cd014c-03b1-46f3-a079-5d7c97ea8c6a",
   "metadata": {},
   "outputs": [
    {
     "name": "stdout",
     "output_type": "stream",
     "text": [
      "We get an accuracy of 90%\n"
     ]
    }
   ],
   "source": [
    "print(f'We get an accuracy of {accuracy_score(train_val.target, train_val.rf_prediction):.0%}')"
   ]
  },
  {
   "cell_type": "code",
   "execution_count": 221,
   "id": "783b6ae1-1776-4c6e-ab98-79a2e6479c70",
   "metadata": {},
   "outputs": [],
   "source": [
    "model = RandomForestClassifier(random_state=99, min_samples_split=10).fit(train_train[X_cols], train_train['target'])"
   ]
  },
  {
   "cell_type": "code",
   "execution_count": 222,
   "id": "c508cc6b-92f8-4aed-a9d6-9a0174dae853",
   "metadata": {},
   "outputs": [],
   "source": [
    "train_val['rf_prediction'] = model.predict(train_val[X_cols])"
   ]
  },
  {
   "cell_type": "code",
   "execution_count": 223,
   "id": "724272c1-15e7-4746-8152-a64c0cdcfda1",
   "metadata": {},
   "outputs": [
    {
     "name": "stdout",
     "output_type": "stream",
     "text": [
      "We get an accuracy of 92%\n"
     ]
    }
   ],
   "source": [
    "print(f'We get an accuracy of {accuracy_score(train_val.target, train_val.rf_prediction):.0%}')"
   ]
  },
  {
   "cell_type": "markdown",
   "id": "9ea9b9f3-f2a3-4db0-a218-c60a181a2feb",
   "metadata": {},
   "source": [
    "So by modifying even just this single parameter, the performance increases, showing how we probably improved the generalisation accuracy."
   ]
  },
  {
   "cell_type": "markdown",
   "id": "5d3864c5-a0f6-40a2-aaba-71b2597e9937",
   "metadata": {},
   "source": [
    "## Predicting on test and getting the value\n",
    "Let's just go ahead and predict on test now. We will use the reduced variables logistic regression because we used fewer variables without much lost, and this would also make a big difference to our manual search, since it would mean fewer data points to gather. We will take a threshold of 0.5.\n",
    "\n",
    "Note that it is crucial that here we use the distribution of variables from train!"
   ]
  },
  {
   "cell_type": "code",
   "execution_count": 224,
   "id": "25a16fb0-0c83-4f20-a204-67a2002e4da0",
   "metadata": {},
   "outputs": [],
   "source": [
    "test.loc[~test['Neighborhood'].isin(top_neighbourhoods), 'Neighborhood'] = 'Other'\n",
    "\n",
    "cats = [0, 1900, 1940, 1980, 2020]\n",
    "test['build_year_cats'] = pd.cut(test['YearBuilt'], cats, labels=['Pre-1900', 'Pre-War', 'Post-War', 'Modern'])"
   ]
  },
  {
   "cell_type": "code",
   "execution_count": 229,
   "id": "73fd8a87-11c2-4665-be46-d37a31cb6d86",
   "metadata": {},
   "outputs": [],
   "source": [
    "reduced_valid_features = ['Neighborhood', 'GrLivArea', 'build_year_cats']\n",
    "test_predict = pd.concat([pd.get_dummies(test[reduced_valid_features]), test['target']], axis=1)"
   ]
  },
  {
   "cell_type": "code",
   "execution_count": 230,
   "id": "ce9de943-0b09-45b3-9141-98bd539abca9",
   "metadata": {},
   "outputs": [],
   "source": [
    "X_cols = [col for col in test_predict if col != 'target']"
   ]
  },
  {
   "cell_type": "code",
   "execution_count": 231,
   "id": "a29eec07-80f8-47e2-9a5a-247d8f978d32",
   "metadata": {},
   "outputs": [],
   "source": [
    "test_predict['log_prediction_proba'] = model.predict_proba(test_predict[X_cols])[:,1]"
   ]
  },
  {
   "cell_type": "code",
   "execution_count": 232,
   "id": "87a1351b-a3dd-4ab0-abb3-5c1eeb8dc098",
   "metadata": {},
   "outputs": [],
   "source": [
    "test_predict['prediction'] = test_predict.log_prediction_proba > 0.5"
   ]
  },
  {
   "cell_type": "code",
   "execution_count": 233,
   "id": "bb7ea29d-f0b0-4ba1-bd1b-eb2bb29543d2",
   "metadata": {},
   "outputs": [
    {
     "name": "stdout",
     "output_type": "stream",
     "text": [
      "We get an accuracy of 87%\n"
     ]
    }
   ],
   "source": [
    "print(f'We get an accuracy of {accuracy_score(test_predict.target, test_predict.prediction):.0%}')"
   ]
  },
  {
   "cell_type": "markdown",
   "id": "15659fa1-18f4-40e8-a693-4f8a528607ff",
   "metadata": {},
   "source": [
    "Looks like things kept pretty stable - good news!"
   ]
  },
  {
   "cell_type": "markdown",
   "id": "b20653bf-ef17-4985-a3b3-f764b6979b97",
   "metadata": {},
   "source": [
    "### What value do we get from this?\n",
    "Let's see how many properties we would reduce the space by, and how we might use it.\n",
    "\n",
    "NOTE that in reality we should do this on the validation set, but we are just trying to be quick."
   ]
  },
  {
   "cell_type": "code",
   "execution_count": 235,
   "id": "92836208-08d8-4e4f-af89-d8b93d633036",
   "metadata": {},
   "outputs": [
    {
     "name": "stdout",
     "output_type": "stream",
     "text": [
      "We would only have to look at 71%\n"
     ]
    }
   ],
   "source": [
    "print(f'We would only have to look at {test_predict.prediction.mean():.0%}')"
   ]
  },
  {
   "cell_type": "markdown",
   "id": "7ccfd8e9-0dbb-494d-a6fe-dc6626141197",
   "metadata": {},
   "source": [
    "Ok so we did a bit better but it's still not that amazing. We could probably do a bit better by further filtering by some variable to give ourselves an order to look at the properties in:"
   ]
  },
  {
   "cell_type": "code",
   "execution_count": 239,
   "id": "02a55497-f673-4c8f-bc46-0c44e3ee439e",
   "metadata": {},
   "outputs": [
    {
     "data": {
      "text/html": [
       "<div>\n",
       "<style scoped>\n",
       "    .dataframe tbody tr th:only-of-type {\n",
       "        vertical-align: middle;\n",
       "    }\n",
       "\n",
       "    .dataframe tbody tr th {\n",
       "        vertical-align: top;\n",
       "    }\n",
       "\n",
       "    .dataframe thead th {\n",
       "        text-align: right;\n",
       "    }\n",
       "</style>\n",
       "<table border=\"1\" class=\"dataframe\">\n",
       "  <thead>\n",
       "    <tr style=\"text-align: right;\">\n",
       "      <th></th>\n",
       "      <th>Id</th>\n",
       "      <th>MSSubClass</th>\n",
       "      <th>MSZoning</th>\n",
       "      <th>LotFrontage</th>\n",
       "      <th>LotArea</th>\n",
       "      <th>Street</th>\n",
       "      <th>Alley</th>\n",
       "      <th>LotShape</th>\n",
       "      <th>LandContour</th>\n",
       "      <th>Utilities</th>\n",
       "      <th>...</th>\n",
       "      <th>Fence</th>\n",
       "      <th>MiscFeature</th>\n",
       "      <th>MiscVal</th>\n",
       "      <th>MoSold</th>\n",
       "      <th>YrSold</th>\n",
       "      <th>SaleType</th>\n",
       "      <th>SaleCondition</th>\n",
       "      <th>SalePrice</th>\n",
       "      <th>target</th>\n",
       "      <th>build_year_cats</th>\n",
       "    </tr>\n",
       "  </thead>\n",
       "  <tbody>\n",
       "    <tr>\n",
       "      <th>204</th>\n",
       "      <td>584</td>\n",
       "      <td>75</td>\n",
       "      <td>RM</td>\n",
       "      <td>75.0</td>\n",
       "      <td>13500</td>\n",
       "      <td>Pave</td>\n",
       "      <td>NaN</td>\n",
       "      <td>Reg</td>\n",
       "      <td>Lvl</td>\n",
       "      <td>AllPub</td>\n",
       "      <td>...</td>\n",
       "      <td>NaN</td>\n",
       "      <td>NaN</td>\n",
       "      <td>0</td>\n",
       "      <td>7</td>\n",
       "      <td>2008</td>\n",
       "      <td>WD</td>\n",
       "      <td>Normal</td>\n",
       "      <td>325000</td>\n",
       "      <td>False</td>\n",
       "      <td>Pre-1900</td>\n",
       "    </tr>\n",
       "    <tr>\n",
       "      <th>298</th>\n",
       "      <td>489</td>\n",
       "      <td>190</td>\n",
       "      <td>RL</td>\n",
       "      <td>60.0</td>\n",
       "      <td>10800</td>\n",
       "      <td>Pave</td>\n",
       "      <td>NaN</td>\n",
       "      <td>Reg</td>\n",
       "      <td>Lvl</td>\n",
       "      <td>AllPub</td>\n",
       "      <td>...</td>\n",
       "      <td>NaN</td>\n",
       "      <td>NaN</td>\n",
       "      <td>0</td>\n",
       "      <td>5</td>\n",
       "      <td>2006</td>\n",
       "      <td>ConLD</td>\n",
       "      <td>Normal</td>\n",
       "      <td>160000</td>\n",
       "      <td>True</td>\n",
       "      <td>Pre-1900</td>\n",
       "    </tr>\n",
       "    <tr>\n",
       "      <th>35</th>\n",
       "      <td>1063</td>\n",
       "      <td>190</td>\n",
       "      <td>RM</td>\n",
       "      <td>85.0</td>\n",
       "      <td>13600</td>\n",
       "      <td>Pave</td>\n",
       "      <td>Grvl</td>\n",
       "      <td>Reg</td>\n",
       "      <td>Lvl</td>\n",
       "      <td>AllPub</td>\n",
       "      <td>...</td>\n",
       "      <td>NaN</td>\n",
       "      <td>NaN</td>\n",
       "      <td>0</td>\n",
       "      <td>9</td>\n",
       "      <td>2007</td>\n",
       "      <td>WD</td>\n",
       "      <td>Normal</td>\n",
       "      <td>90000</td>\n",
       "      <td>True</td>\n",
       "      <td>Pre-1900</td>\n",
       "    </tr>\n",
       "    <tr>\n",
       "      <th>130</th>\n",
       "      <td>67</td>\n",
       "      <td>20</td>\n",
       "      <td>RL</td>\n",
       "      <td>NaN</td>\n",
       "      <td>19900</td>\n",
       "      <td>Pave</td>\n",
       "      <td>NaN</td>\n",
       "      <td>Reg</td>\n",
       "      <td>Lvl</td>\n",
       "      <td>AllPub</td>\n",
       "      <td>...</td>\n",
       "      <td>NaN</td>\n",
       "      <td>NaN</td>\n",
       "      <td>0</td>\n",
       "      <td>7</td>\n",
       "      <td>2010</td>\n",
       "      <td>WD</td>\n",
       "      <td>Normal</td>\n",
       "      <td>180000</td>\n",
       "      <td>True</td>\n",
       "      <td>Post-War</td>\n",
       "    </tr>\n",
       "    <tr>\n",
       "      <th>240</th>\n",
       "      <td>1347</td>\n",
       "      <td>20</td>\n",
       "      <td>RL</td>\n",
       "      <td>NaN</td>\n",
       "      <td>20781</td>\n",
       "      <td>Pave</td>\n",
       "      <td>NaN</td>\n",
       "      <td>IR2</td>\n",
       "      <td>Lvl</td>\n",
       "      <td>AllPub</td>\n",
       "      <td>...</td>\n",
       "      <td>NaN</td>\n",
       "      <td>NaN</td>\n",
       "      <td>0</td>\n",
       "      <td>6</td>\n",
       "      <td>2006</td>\n",
       "      <td>WD</td>\n",
       "      <td>Normal</td>\n",
       "      <td>262500</td>\n",
       "      <td>False</td>\n",
       "      <td>Post-War</td>\n",
       "    </tr>\n",
       "    <tr>\n",
       "      <th>200</th>\n",
       "      <td>1224</td>\n",
       "      <td>20</td>\n",
       "      <td>RL</td>\n",
       "      <td>89.0</td>\n",
       "      <td>10680</td>\n",
       "      <td>Pave</td>\n",
       "      <td>NaN</td>\n",
       "      <td>Reg</td>\n",
       "      <td>Lvl</td>\n",
       "      <td>AllPub</td>\n",
       "      <td>...</td>\n",
       "      <td>MnPrv</td>\n",
       "      <td>NaN</td>\n",
       "      <td>0</td>\n",
       "      <td>10</td>\n",
       "      <td>2006</td>\n",
       "      <td>WD</td>\n",
       "      <td>Normal</td>\n",
       "      <td>137900</td>\n",
       "      <td>True</td>\n",
       "      <td>Post-War</td>\n",
       "    </tr>\n",
       "    <tr>\n",
       "      <th>224</th>\n",
       "      <td>1382</td>\n",
       "      <td>20</td>\n",
       "      <td>RL</td>\n",
       "      <td>NaN</td>\n",
       "      <td>12925</td>\n",
       "      <td>Pave</td>\n",
       "      <td>NaN</td>\n",
       "      <td>IR1</td>\n",
       "      <td>Lvl</td>\n",
       "      <td>AllPub</td>\n",
       "      <td>...</td>\n",
       "      <td>NaN</td>\n",
       "      <td>NaN</td>\n",
       "      <td>0</td>\n",
       "      <td>5</td>\n",
       "      <td>2008</td>\n",
       "      <td>WD</td>\n",
       "      <td>Normal</td>\n",
       "      <td>237500</td>\n",
       "      <td>False</td>\n",
       "      <td>Post-War</td>\n",
       "    </tr>\n",
       "    <tr>\n",
       "      <th>339</th>\n",
       "      <td>520</td>\n",
       "      <td>70</td>\n",
       "      <td>RL</td>\n",
       "      <td>53.0</td>\n",
       "      <td>10918</td>\n",
       "      <td>Pave</td>\n",
       "      <td>NaN</td>\n",
       "      <td>Reg</td>\n",
       "      <td>Lvl</td>\n",
       "      <td>AllPub</td>\n",
       "      <td>...</td>\n",
       "      <td>MnPrv</td>\n",
       "      <td>NaN</td>\n",
       "      <td>0</td>\n",
       "      <td>6</td>\n",
       "      <td>2009</td>\n",
       "      <td>WD</td>\n",
       "      <td>Normal</td>\n",
       "      <td>234000</td>\n",
       "      <td>False</td>\n",
       "      <td>Pre-War</td>\n",
       "    </tr>\n",
       "    <tr>\n",
       "      <th>95</th>\n",
       "      <td>935</td>\n",
       "      <td>20</td>\n",
       "      <td>RL</td>\n",
       "      <td>313.0</td>\n",
       "      <td>27650</td>\n",
       "      <td>Pave</td>\n",
       "      <td>NaN</td>\n",
       "      <td>IR2</td>\n",
       "      <td>HLS</td>\n",
       "      <td>AllPub</td>\n",
       "      <td>...</td>\n",
       "      <td>NaN</td>\n",
       "      <td>NaN</td>\n",
       "      <td>0</td>\n",
       "      <td>11</td>\n",
       "      <td>2008</td>\n",
       "      <td>WD</td>\n",
       "      <td>Normal</td>\n",
       "      <td>242000</td>\n",
       "      <td>False</td>\n",
       "      <td>Post-War</td>\n",
       "    </tr>\n",
       "    <tr>\n",
       "      <th>348</th>\n",
       "      <td>1249</td>\n",
       "      <td>75</td>\n",
       "      <td>RM</td>\n",
       "      <td>60.0</td>\n",
       "      <td>9600</td>\n",
       "      <td>Pave</td>\n",
       "      <td>Grvl</td>\n",
       "      <td>Reg</td>\n",
       "      <td>Lvl</td>\n",
       "      <td>AllPub</td>\n",
       "      <td>...</td>\n",
       "      <td>NaN</td>\n",
       "      <td>NaN</td>\n",
       "      <td>0</td>\n",
       "      <td>4</td>\n",
       "      <td>2008</td>\n",
       "      <td>WD</td>\n",
       "      <td>Normal</td>\n",
       "      <td>129500</td>\n",
       "      <td>True</td>\n",
       "      <td>Pre-War</td>\n",
       "    </tr>\n",
       "  </tbody>\n",
       "</table>\n",
       "<p>10 rows × 83 columns</p>\n",
       "</div>"
      ],
      "text/plain": [
       "       Id  MSSubClass MSZoning  LotFrontage  LotArea Street Alley LotShape  \\\n",
       "204   584          75       RM         75.0    13500   Pave   NaN      Reg   \n",
       "298   489         190       RL         60.0    10800   Pave   NaN      Reg   \n",
       "35   1063         190       RM         85.0    13600   Pave  Grvl      Reg   \n",
       "130    67          20       RL          NaN    19900   Pave   NaN      Reg   \n",
       "240  1347          20       RL          NaN    20781   Pave   NaN      IR2   \n",
       "200  1224          20       RL         89.0    10680   Pave   NaN      Reg   \n",
       "224  1382          20       RL          NaN    12925   Pave   NaN      IR1   \n",
       "339   520          70       RL         53.0    10918   Pave   NaN      Reg   \n",
       "95    935          20       RL        313.0    27650   Pave   NaN      IR2   \n",
       "348  1249          75       RM         60.0     9600   Pave  Grvl      Reg   \n",
       "\n",
       "    LandContour Utilities  ...  Fence MiscFeature MiscVal MoSold YrSold  \\\n",
       "204         Lvl    AllPub  ...    NaN         NaN       0      7   2008   \n",
       "298         Lvl    AllPub  ...    NaN         NaN       0      5   2006   \n",
       "35          Lvl    AllPub  ...    NaN         NaN       0      9   2007   \n",
       "130         Lvl    AllPub  ...    NaN         NaN       0      7   2010   \n",
       "240         Lvl    AllPub  ...    NaN         NaN       0      6   2006   \n",
       "200         Lvl    AllPub  ...  MnPrv         NaN       0     10   2006   \n",
       "224         Lvl    AllPub  ...    NaN         NaN       0      5   2008   \n",
       "339         Lvl    AllPub  ...  MnPrv         NaN       0      6   2009   \n",
       "95          HLS    AllPub  ...    NaN         NaN       0     11   2008   \n",
       "348         Lvl    AllPub  ...    NaN         NaN       0      4   2008   \n",
       "\n",
       "    SaleType SaleCondition  SalePrice  target  build_year_cats  \n",
       "204       WD        Normal     325000   False         Pre-1900  \n",
       "298    ConLD        Normal     160000    True         Pre-1900  \n",
       "35        WD        Normal      90000    True         Pre-1900  \n",
       "130       WD        Normal     180000    True         Post-War  \n",
       "240       WD        Normal     262500   False         Post-War  \n",
       "200       WD        Normal     137900    True         Post-War  \n",
       "224       WD        Normal     237500   False         Post-War  \n",
       "339       WD        Normal     234000   False          Pre-War  \n",
       "95        WD        Normal     242000   False         Post-War  \n",
       "348       WD        Normal     129500    True          Pre-War  \n",
       "\n",
       "[10 rows x 83 columns]"
      ]
     },
     "execution_count": 239,
     "metadata": {},
     "output_type": "execute_result"
    }
   ],
   "source": [
    "test[test_predict.prediction].sort_values('GrLivArea', ascending=False).head(10)"
   ]
  },
  {
   "cell_type": "code",
   "execution_count": 251,
   "id": "632fc0ac-4711-41a6-9a35-b2706dc2c80d",
   "metadata": {},
   "outputs": [
    {
     "data": {
      "text/plain": [
       "2     0.914057\n",
       "6     0.987534\n",
       "11    0.947430\n",
       "13    0.990928\n",
       "15    0.949541\n",
       "23    0.985589\n",
       "29    0.931384\n",
       "31    0.902643\n",
       "36    0.985373\n",
       "37    0.985092\n",
       "Name: log_prediction_proba, dtype: float64"
      ]
     },
     "execution_count": 251,
     "metadata": {},
     "output_type": "execute_result"
    }
   ],
   "source": [
    "test_predict.loc[test_predict.prediction, 'log_prediction_proba'].head(10)"
   ]
  },
  {
   "cell_type": "markdown",
   "id": "0633fb74-941d-495b-84a4-c8b8f7610494",
   "metadata": {},
   "source": [
    "We can see that we are really confident on these - so actually they might be good candidates to look at, even if the sale price was a bit high originally."
   ]
  },
  {
   "cell_type": "markdown",
   "id": "8809e92a-55c6-47ca-8a4c-e7e377a29c71",
   "metadata": {},
   "source": [
    "Otherwise we might just get more strict on the probability. Let's plot the ROC curve."
   ]
  },
  {
   "cell_type": "code",
   "execution_count": 242,
   "id": "40408a56-add0-4926-8350-57e2b6165776",
   "metadata": {},
   "outputs": [
    {
     "data": {
      "text/plain": [
       "<sklearn.metrics._plot.roc_curve.RocCurveDisplay at 0x13016b520>"
      ]
     },
     "execution_count": 242,
     "metadata": {},
     "output_type": "execute_result"
    },
    {
     "data": {
      "image/png": "[encoded data removed]",
      "text/plain": [
       "<Figure size 432x288 with 1 Axes>"
      ]
     },
     "metadata": {
      "needs_background": "light"
     },
     "output_type": "display_data"
    }
   ],
   "source": [
    "plot_roc_curve(model, test_predict[X_cols], test_predict.target)"
   ]
  },
  {
   "cell_type": "markdown",
   "id": "d20748fe-dd16-4531-b68a-4b5a8109c1d2",
   "metadata": {},
   "source": [
    "We can see that we actually increase the false positive rate REALLY quickly, so we could be a lot stricter with the probability."
   ]
  },
  {
   "cell_type": "code",
   "execution_count": 246,
   "id": "e4f9750e-3933-461e-a716-4ca0ddf115d3",
   "metadata": {},
   "outputs": [
    {
     "name": "stdout",
     "output_type": "stream",
     "text": [
      "We get a precision of 89%\n"
     ]
    }
   ],
   "source": [
    "print(f'We get a precision of {precision_score(test_predict.target, test_predict.prediction):.0%}')"
   ]
  },
  {
   "cell_type": "code",
   "execution_count": 247,
   "id": "dab4a074-565f-41d9-af19-ed2e8f28c6e5",
   "metadata": {},
   "outputs": [],
   "source": [
    "test_predict['prediction'] = test_predict.log_prediction_proba > 0.9"
   ]
  },
  {
   "cell_type": "code",
   "execution_count": 248,
   "id": "ac24e757-4d7c-4e49-92fc-0c24b49dc590",
   "metadata": {},
   "outputs": [
    {
     "name": "stdout",
     "output_type": "stream",
     "text": [
      "We get a precision of 100%\n"
     ]
    }
   ],
   "source": [
    "print(f'We get a precision of {precision_score(test_predict.target, test_predict.prediction):.0%}')"
   ]
  },
  {
   "cell_type": "code",
   "execution_count": 249,
   "id": "6fe99f68-1526-4a43-8556-31c794be5fbf",
   "metadata": {},
   "outputs": [
    {
     "name": "stdout",
     "output_type": "stream",
     "text": [
      "We would only have to look at 40%\n"
     ]
    }
   ],
   "source": [
    "print(f'We would only have to look at {test_predict.prediction.mean():.0%}')"
   ]
  },
  {
   "cell_type": "markdown",
   "id": "a0b66d38-6de2-468b-bf3d-861e66aae68a",
   "metadata": {},
   "source": [
    "So we get some idea of where we could take this - and we could also push the model to improve in this direction."
   ]
  }
 ],
 "metadata": {
  "kernelspec": {
   "display_name": "Python 3",
   "language": "python",
   "name": "python3"
  },
  "language_info": {
   "codemirror_mode": {
    "name": "ipython",
    "version": 3
   },
   "file_extension": ".py",
   "mimetype": "text/x-python",
   "name": "python",
   "nbconvert_exporter": "python",
   "pygments_lexer": "ipython3",
   "version": "3.8.2"
  }
 },
 "nbformat": 4,
 "nbformat_minor": 5
}
